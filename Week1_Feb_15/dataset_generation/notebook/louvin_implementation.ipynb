{
 "cells": [
  {
   "cell_type": "code",
   "execution_count": 6,
   "metadata": {},
   "outputs": [
    {
     "name": "stdout",
     "output_type": "stream",
     "text": [
      "Requirement already satisfied: community in c:\\users\\asus rog\\anaconda3\\lib\\site-packages (1.0.0b1)\n",
      "Requirement already satisfied: Flask in c:\\users\\asus rog\\anaconda3\\lib\\site-packages (from community) (2.2.2)\n",
      "Requirement already satisfied: requests in c:\\users\\asus rog\\anaconda3\\lib\\site-packages (from community) (2.31.0)\n",
      "Requirement already satisfied: Werkzeug>=2.2.2 in c:\\users\\asus rog\\anaconda3\\lib\\site-packages (from Flask->community) (2.2.3)\n",
      "Requirement already satisfied: Jinja2>=3.0 in c:\\users\\asus rog\\anaconda3\\lib\\site-packages (from Flask->community) (3.1.2)\n",
      "Requirement already satisfied: itsdangerous>=2.0 in c:\\users\\asus rog\\anaconda3\\lib\\site-packages (from Flask->community) (2.0.1)\n",
      "Requirement already satisfied: click>=8.0 in c:\\users\\asus rog\\anaconda3\\lib\\site-packages (from Flask->community) (8.0.4)\n",
      "Requirement already satisfied: charset-normalizer<4,>=2 in c:\\users\\asus rog\\anaconda3\\lib\\site-packages (from requests->community) (2.0.4)\n",
      "Requirement already satisfied: idna<4,>=2.5 in c:\\users\\asus rog\\anaconda3\\lib\\site-packages (from requests->community) (3.4)\n",
      "Requirement already satisfied: urllib3<3,>=1.21.1 in c:\\users\\asus rog\\anaconda3\\lib\\site-packages (from requests->community) (1.26.16)\n",
      "Requirement already satisfied: certifi>=2017.4.17 in c:\\users\\asus rog\\anaconda3\\lib\\site-packages (from requests->community) (2023.11.17)\n",
      "Requirement already satisfied: colorama in c:\\users\\asus rog\\appdata\\roaming\\python\\python311\\site-packages (from click>=8.0->Flask->community) (0.4.6)\n",
      "Requirement already satisfied: MarkupSafe>=2.0 in c:\\users\\asus rog\\anaconda3\\lib\\site-packages (from Jinja2>=3.0->Flask->community) (2.1.1)\n",
      "Collecting python-louvain\n",
      "  Downloading python-louvain-0.16.tar.gz (204 kB)\n",
      "     ------------------------------------ 204.6/204.6 kB 733.6 kB/s eta 0:00:00\n",
      "  Preparing metadata (setup.py): started\n",
      "  Preparing metadata (setup.py): finished with status 'done'\n",
      "Requirement already satisfied: networkx in c:\\users\\asus rog\\anaconda3\\lib\\site-packages (from python-louvain) (3.1)\n",
      "Requirement already satisfied: numpy in c:\\users\\asus rog\\anaconda3\\lib\\site-packages (from python-louvain) (1.24.3)\n",
      "Building wheels for collected packages: python-louvain\n",
      "  Building wheel for python-louvain (setup.py): started\n",
      "  Building wheel for python-louvain (setup.py): finished with status 'done'\n",
      "  Created wheel for python-louvain: filename=python_louvain-0.16-py3-none-any.whl size=9403 sha256=0196aa3f5a3429696741472da93d9bcafb49f730979611e064ecf518151aba0e\n",
      "  Stored in directory: c:\\users\\asus rog\\appdata\\local\\pip\\cache\\wheels\\11\\c1\\e7\\f62a211c636275e2da798bf0c307a3ae79aeddaf2524a03ce4\n",
      "Successfully built python-louvain\n",
      "Installing collected packages: python-louvain\n",
      "Successfully installed python-louvain-0.16\n"
     ]
    }
   ],
   "source": [
    "!pip install community\n",
    "!pip install python-louvain"
   ]
  },
  {
   "cell_type": "code",
   "execution_count": 10,
   "metadata": {},
   "outputs": [
    {
     "name": "stdout",
     "output_type": "stream",
     "text": [
      "Graph with 77 nodes and 254 edges\n",
      "Starting Louvain algorithm\n",
      "Initial partition: {'Napoleon': 'Napoleon', 'Myriel': 'Myriel', 'MlleBaptistine': 'MlleBaptistine', 'MmeMagloire': 'MmeMagloire', 'CountessDeLo': 'CountessDeLo', 'Geborand': 'Geborand', 'Champtercier': 'Champtercier', 'Cravatte': 'Cravatte', 'Count': 'Count', 'OldMan': 'OldMan', 'Valjean': 'Valjean', 'Labarre': 'Labarre', 'Marguerite': 'Marguerite', 'MmeDeR': 'MmeDeR', 'Isabeau': 'Isabeau', 'Gervais': 'Gervais', 'Listolier': 'Listolier', 'Tholomyes': 'Tholomyes', 'Fameuil': 'Fameuil', 'Blacheville': 'Blacheville', 'Favourite': 'Favourite', 'Dahlia': 'Dahlia', 'Zephine': 'Zephine', 'Fantine': 'Fantine', 'MmeThenardier': 'MmeThenardier', 'Thenardier': 'Thenardier', 'Cosette': 'Cosette', 'Javert': 'Javert', 'Fauchelevent': 'Fauchelevent', 'Bamatabois': 'Bamatabois', 'Perpetue': 'Perpetue', 'Simplice': 'Simplice', 'Scaufflaire': 'Scaufflaire', 'Woman1': 'Woman1', 'Judge': 'Judge', 'Champmathieu': 'Champmathieu', 'Brevet': 'Brevet', 'Chenildieu': 'Chenildieu', 'Cochepaille': 'Cochepaille', 'Pontmercy': 'Pontmercy', 'Boulatruelle': 'Boulatruelle', 'Eponine': 'Eponine', 'Anzelma': 'Anzelma', 'Woman2': 'Woman2', 'MotherInnocent': 'MotherInnocent', 'Gribier': 'Gribier', 'MmeBurgon': 'MmeBurgon', 'Jondrette': 'Jondrette', 'Gavroche': 'Gavroche', 'Gillenormand': 'Gillenormand', 'Magnon': 'Magnon', 'MlleGillenormand': 'MlleGillenormand', 'MmePontmercy': 'MmePontmercy', 'MlleVaubois': 'MlleVaubois', 'LtGillenormand': 'LtGillenormand', 'Marius': 'Marius', 'BaronessT': 'BaronessT', 'Mabeuf': 'Mabeuf', 'Enjolras': 'Enjolras', 'Combeferre': 'Combeferre', 'Prouvaire': 'Prouvaire', 'Feuilly': 'Feuilly', 'Courfeyrac': 'Courfeyrac', 'Bahorel': 'Bahorel', 'Bossuet': 'Bossuet', 'Joly': 'Joly', 'Grantaire': 'Grantaire', 'MotherPlutarch': 'MotherPlutarch', 'Gueulemer': 'Gueulemer', 'Babet': 'Babet', 'Claquesous': 'Claquesous', 'Montparnasse': 'Montparnasse', 'Toussaint': 'Toussaint', 'Child1': 'Child1', 'Child2': 'Child2', 'Brujon': 'Brujon', 'MmeHucheloup': 'MmeHucheloup'}\n",
      "Final partition: {'Napoleon': 0, 'Myriel': 0, 'MlleBaptistine': 0, 'MmeMagloire': 0, 'CountessDeLo': 0, 'Geborand': 0, 'Champtercier': 0, 'Cravatte': 0, 'Count': 0, 'OldMan': 0, 'Valjean': 5, 'Labarre': 5, 'Marguerite': 2, 'MmeDeR': 5, 'Isabeau': 5, 'Gervais': 5, 'Listolier': 2, 'Tholomyes': 2, 'Fameuil': 2, 'Blacheville': 2, 'Favourite': 2, 'Dahlia': 2, 'Zephine': 2, 'Fantine': 2, 'MmeThenardier': 3, 'Thenardier': 3, 'Cosette': 5, 'Javert': 5, 'Fauchelevent': 5, 'Bamatabois': 4, 'Perpetue': 5, 'Simplice': 5, 'Scaufflaire': 5, 'Woman1': 5, 'Judge': 4, 'Champmathieu': 4, 'Brevet': 4, 'Chenildieu': 4, 'Cochepaille': 4, 'Pontmercy': 5, 'Boulatruelle': 3, 'Eponine': 3, 'Anzelma': 3, 'Woman2': 5, 'MotherInnocent': 5, 'Gribier': 5, 'MmeBurgon': 1, 'Jondrette': 1, 'Gavroche': 1, 'Gillenormand': 5, 'Magnon': 5, 'MlleGillenormand': 5, 'MmePontmercy': 5, 'MlleVaubois': 5, 'LtGillenormand': 5, 'Marius': 5, 'BaronessT': 5, 'Mabeuf': 1, 'Enjolras': 1, 'Combeferre': 1, 'Prouvaire': 1, 'Feuilly': 1, 'Courfeyrac': 1, 'Bahorel': 1, 'Bossuet': 1, 'Joly': 1, 'Grantaire': 1, 'MotherPlutarch': 1, 'Gueulemer': 3, 'Babet': 3, 'Claquesous': 3, 'Montparnasse': 3, 'Toussaint': 5, 'Child1': 1, 'Child2': 1, 'Brujon': 3, 'MmeHucheloup': 1}\n",
      "Final modularity: 0.5654156751933372\n"
     ]
    }
   ],
   "source": [
    "from community import  community_louvain\n",
    "import networkx as nx\n",
    "\n",
    "# Setup basic configuration for logging\n",
    "\n",
    "\n",
    "def trace_louvain(G):\n",
    "    print(\"Starting Louvain algorithm\")\n",
    "    initial_partition = {node: node for node in G.nodes()}\n",
    "    print(f\"Initial partition: {initial_partition}\")\n",
    "\n",
    "    partition = community_louvain.best_partition(G)\n",
    "    print(f\"Final partition: {partition}\")\n",
    "\n",
    "    modularity = community_louvain.modularity(partition, G)\n",
    "    print(f\"Final modularity: {modularity}\")\n",
    "\n",
    "    return partition\n",
    "\n",
    "\n",
    "# Example usage\n",
    "G = nx.les_miserables_graph()\n",
    "print(G)\n",
    "partition = trace_louvain(G)"
   ]
  }
 ],
 "metadata": {
  "kernelspec": {
   "display_name": "base",
   "language": "python",
   "name": "python3"
  },
  "language_info": {
   "codemirror_mode": {
    "name": "ipython",
    "version": 3
   },
   "file_extension": ".py",
   "mimetype": "text/x-python",
   "name": "python",
   "nbconvert_exporter": "python",
   "pygments_lexer": "ipython3",
   "version": "3.11.5"
  }
 },
 "nbformat": 4,
 "nbformat_minor": 2
}
