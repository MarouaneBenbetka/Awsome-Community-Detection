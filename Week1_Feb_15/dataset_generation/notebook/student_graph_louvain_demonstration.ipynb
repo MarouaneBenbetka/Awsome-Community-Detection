{
 "cells": [
  {
   "cell_type": "code",
   "execution_count": null,
   "metadata": {
    "is_executing": true
   },
   "outputs": [],
   "source": [
    "import networkx as nx\n",
    "import matplotlib.pyplot as plt\n",
    "from utils.louvain import LouvainMachine"
   ]
  },
  {
   "cell_type": "code",
   "execution_count": null,
   "metadata": {
    "is_executing": true
   },
   "outputs": [],
   "source": [
    "from utils.student_graph_generation import StudentGraphGenerator"
   ]
  },
  {
   "cell_type": "code",
   "execution_count": null,
   "metadata": {
    "is_executing": true
   },
   "outputs": [],
   "source": [
    "generator = StudentGraphGenerator('./../data/student_list.csv')\n",
    "\n",
    "\n",
    "generator.consider_team_data_source('HPC', './../data/DATA_HPC.txt')\n",
    "generator.consider_team_data_source('BI', './../data/DATA_TP_BI.txt')\n",
    "generator.consider_team_data_source('BI', './../data/DATA_TP_MASD.txt')\n",
    "\n",
    "# as as many data sources as you want\n",
    "# generator.consider_team_data_source('HPC', './../data/DATA_HPC.txt')\n",
    "\n",
    "# print data sources if you want\n",
    "# generator.print_data_sources()\n",
    "\n",
    "# this is necessary to assemble the different data sources \n",
    "# into on exploitable data structure\n",
    "generator.consider_constraint([\n",
    "    '20/0280','20/0278', '20/0011', '20/0132', '20/0050', '20/0025', '20/0260'\n",
    "])\n",
    "generator._generate_collaborations_list()\n",
    "\n",
    "# generate binary graph, either worked together or not\n",
    "generator.generate_graph(mode='binary')\n",
    "generator.draw_graph_binary(save_option=True, save_path='./../data/figures/figure.png')\n",
    "# save the graph into a pickle file\n",
    "generator.export_binary_graph(export_path='./../data/graph_pickle/GRAPH0055.pkl')\n",
    "\n",
    "# change the code above as you want"
   ]
  },
  {
   "cell_type": "code",
   "execution_count": null,
   "metadata": {
    "is_executing": true
   },
   "outputs": [],
   "source": [
    "\n",
    "\n",
    "# generate weighted graph,\n",
    "# it considers the number of times students worked together\n",
    "generator.generate_graph(mode='weighted')\n",
    "generator.draw_graph_weighted()\n",
    "generator.export_weighted_graph(export_path='./../data/graph_pickle/GRAPH00_weighted.pkl')\n"
   ]
  },
  {
   "cell_type": "code",
   "execution_count": null,
   "metadata": {
    "collapsed": false,
    "is_executing": true
   },
   "outputs": [],
   "source": [
    "louvain = LouvainMachine(generator.generated_binary_graph)\n",
    "louvain.print_status()"
   ]
  },
  {
   "cell_type": "code",
   "execution_count": null,
   "metadata": {
    "is_executing": true
   },
   "outputs": [],
   "source": [
    "\n",
    "\n",
    "\n",
    "# louvain.solve_communities()\n",
    "# result = louvain.forward_louvain()\n",
    "# print('there is progress :', result)\n",
    "# louvain.print_status()"
   ]
  },
  {
   "cell_type": "code",
   "execution_count": null,
   "metadata": {
    "collapsed": false,
    "is_executing": true
   },
   "outputs": [],
   "source": [
    "louvain.solve_communities()\n",
    "print('len={}'.format(len(louvain.graph_history)))\n",
    "louvain.display_graph_history_tables(lambda x: display(x))"
   ]
  },
  {
   "cell_type": "code",
   "execution_count": null,
   "metadata": {
    "is_executing": true
   },
   "outputs": [],
   "source": [
    "for g in louvain.graph_history:\n",
    "    plt.figure(figsize=(12, 7))\n",
    "    nx.draw(\n",
    "            g,\n",
    "            with_labels=True,\n",
    "            alpha=0.9,\n",
    "            pos=nx.spring_layout(g, k=0.9),\n",
    "            node_color='skyblue',\n",
    "            node_size=4000, \n",
    "            font_size=8, \n",
    "            font_color='black', \n",
    "            font_weight='bold',\n",
    "            edge_color='red', width=1\n",
    "            )\n",
    "    plt.show()"
   ]
  },
  {
   "cell_type": "code",
   "execution_count": null,
   "metadata": {
    "collapsed": false,
    "is_executing": true
   },
   "outputs": [],
   "source": [
    "louvain.display_graph_history_tables(\n",
    "        display_fn = lambda x: display(x)\n",
    ")"
   ]
  },
  {
   "cell_type": "code",
   "execution_count": null,
   "outputs": [],
   "source": [
    "louvain.forward_louvain()"
   ],
   "metadata": {
    "collapsed": false,
    "is_executing": true
   }
  },
  {
   "cell_type": "code",
   "execution_count": null,
   "outputs": [],
   "source": [],
   "metadata": {
    "collapsed": false,
    "is_executing": true
   }
  }
 ],
 "metadata": {
  "kernelspec": {
   "display_name": "base",
   "language": "python",
   "name": "python3"
  },
  "language_info": {
   "codemirror_mode": {
    "name": "ipython",
    "version": 3
   },
   "file_extension": ".py",
   "mimetype": "text/x-python",
   "name": "python",
   "nbconvert_exporter": "python",
   "pygments_lexer": "ipython3",
   "version": "3.8.8"
  }
 },
 "nbformat": 4,
 "nbformat_minor": 2
}
