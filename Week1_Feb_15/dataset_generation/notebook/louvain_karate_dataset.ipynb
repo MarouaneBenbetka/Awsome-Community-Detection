{
 "cells": [
  {
   "cell_type": "markdown",
   "id": "ef8c8454fdb7c7a3",
   "metadata": {
    "collapsed": false
   },
   "source": [
    "    ## Provided Dataset Evaluation\n",
    "\n"
   ]
  },
  {
   "cell_type": "markdown",
   "source": [
    "    ## Provided Dataset Evaluation\n",
    "\n"
   ],
   "metadata": {
    "collapsed": false
   },
   "id": "f791261ece3a6c86"
  },
  {
   "cell_type": "code",
   "execution_count": 1,
   "id": "d1bbdb69",
   "metadata": {
    "ExecuteTime": {
     "end_time": "2024-02-22T09:21:51.355895300Z",
     "start_time": "2024-02-22T09:21:48.433920100Z"
    }
   },
   "outputs": [],
   "source": [
    "import numpy as np\n",
    "import networkx as nx\n",
    "import pandas as pd\n",
    "from utils.louvain import LouvainMachine"
   ]
  },
  {
   "cell_type": "code",
   "execution_count": 2,
   "id": "4b7f8feb",
   "metadata": {
    "ExecuteTime": {
     "end_time": "2024-02-22T09:21:51.556438100Z",
     "start_time": "2024-02-22T09:21:49.386977600Z"
    }
   },
   "outputs": [
    {
     "ename": "NetworkXError",
     "evalue": "node #0 has no 'label' attribute",
     "output_type": "error",
     "traceback": [
      "\u001B[1;31m---------------------------------------------------------------------------\u001B[0m",
      "\u001B[1;31mKeyError\u001B[0m                                  Traceback (most recent call last)",
      "\u001B[1;32mD:\\Anaconda\\lib\\site-packages\\networkx\\readwrite\\gml.py\u001B[0m in \u001B[0;36mpop_attr\u001B[1;34m(dct, category, attr, i)\u001B[0m\n\u001B[0;32m    423\u001B[0m         \u001B[1;32mtry\u001B[0m\u001B[1;33m:\u001B[0m\u001B[1;33m\u001B[0m\u001B[1;33m\u001B[0m\u001B[0m\n\u001B[1;32m--> 424\u001B[1;33m             \u001B[1;32mreturn\u001B[0m \u001B[0mdct\u001B[0m\u001B[1;33m.\u001B[0m\u001B[0mpop\u001B[0m\u001B[1;33m(\u001B[0m\u001B[0mattr\u001B[0m\u001B[1;33m)\u001B[0m\u001B[1;33m\u001B[0m\u001B[1;33m\u001B[0m\u001B[0m\n\u001B[0m\u001B[0;32m    425\u001B[0m         \u001B[1;32mexcept\u001B[0m \u001B[0mKeyError\u001B[0m \u001B[1;32mas\u001B[0m \u001B[0me\u001B[0m\u001B[1;33m:\u001B[0m\u001B[1;33m\u001B[0m\u001B[1;33m\u001B[0m\u001B[0m\n",
      "\u001B[1;31mKeyError\u001B[0m: 'label'",
      "\nThe above exception was the direct cause of the following exception:\n",
      "\u001B[1;31mNetworkXError\u001B[0m                             Traceback (most recent call last)",
      "\u001B[1;32m<ipython-input-2-2ad0c552528c>\u001B[0m in \u001B[0;36m<module>\u001B[1;34m\u001B[0m\n\u001B[0;32m      2\u001B[0m \u001B[0mgml_file_path\u001B[0m \u001B[1;33m=\u001B[0m\u001B[0;31m \u001B[0m\u001B[0;31m\\\u001B[0m\u001B[1;33m\u001B[0m\u001B[1;33m\u001B[0m\u001B[0m\n\u001B[0;32m      3\u001B[0m \u001B[1;34m'./../../dataset_generation/data/evaluation/DataSets/réels/karate/karate.gml'\u001B[0m\u001B[1;33m\u001B[0m\u001B[1;33m\u001B[0m\u001B[0m\n\u001B[1;32m----> 4\u001B[1;33m \u001B[0mG\u001B[0m \u001B[1;33m=\u001B[0m \u001B[0mnx\u001B[0m\u001B[1;33m.\u001B[0m\u001B[0mread_gml\u001B[0m\u001B[1;33m(\u001B[0m\u001B[0mgml_file_path\u001B[0m\u001B[1;33m)\u001B[0m\u001B[1;33m\u001B[0m\u001B[1;33m\u001B[0m\u001B[0m\n\u001B[0m\u001B[0;32m      5\u001B[0m \u001B[1;33m\u001B[0m\u001B[0m\n",
      "\u001B[1;32mD:\\Anaconda\\lib\\site-packages\\decorator.py\u001B[0m in \u001B[0;36mfun\u001B[1;34m(*args, **kw)\u001B[0m\n\u001B[0;32m    230\u001B[0m             \u001B[1;32mif\u001B[0m \u001B[1;32mnot\u001B[0m \u001B[0mkwsyntax\u001B[0m\u001B[1;33m:\u001B[0m\u001B[1;33m\u001B[0m\u001B[1;33m\u001B[0m\u001B[0m\n\u001B[0;32m    231\u001B[0m                 \u001B[0margs\u001B[0m\u001B[1;33m,\u001B[0m \u001B[0mkw\u001B[0m \u001B[1;33m=\u001B[0m \u001B[0mfix\u001B[0m\u001B[1;33m(\u001B[0m\u001B[0margs\u001B[0m\u001B[1;33m,\u001B[0m \u001B[0mkw\u001B[0m\u001B[1;33m,\u001B[0m \u001B[0msig\u001B[0m\u001B[1;33m)\u001B[0m\u001B[1;33m\u001B[0m\u001B[1;33m\u001B[0m\u001B[0m\n\u001B[1;32m--> 232\u001B[1;33m             \u001B[1;32mreturn\u001B[0m \u001B[0mcaller\u001B[0m\u001B[1;33m(\u001B[0m\u001B[0mfunc\u001B[0m\u001B[1;33m,\u001B[0m \u001B[1;33m*\u001B[0m\u001B[1;33m(\u001B[0m\u001B[0mextras\u001B[0m \u001B[1;33m+\u001B[0m \u001B[0margs\u001B[0m\u001B[1;33m)\u001B[0m\u001B[1;33m,\u001B[0m \u001B[1;33m**\u001B[0m\u001B[0mkw\u001B[0m\u001B[1;33m)\u001B[0m\u001B[1;33m\u001B[0m\u001B[1;33m\u001B[0m\u001B[0m\n\u001B[0m\u001B[0;32m    233\u001B[0m     \u001B[0mfun\u001B[0m\u001B[1;33m.\u001B[0m\u001B[0m__name__\u001B[0m \u001B[1;33m=\u001B[0m \u001B[0mfunc\u001B[0m\u001B[1;33m.\u001B[0m\u001B[0m__name__\u001B[0m\u001B[1;33m\u001B[0m\u001B[1;33m\u001B[0m\u001B[0m\n\u001B[0;32m    234\u001B[0m     \u001B[0mfun\u001B[0m\u001B[1;33m.\u001B[0m\u001B[0m__doc__\u001B[0m \u001B[1;33m=\u001B[0m \u001B[0mfunc\u001B[0m\u001B[1;33m.\u001B[0m\u001B[0m__doc__\u001B[0m\u001B[1;33m\u001B[0m\u001B[1;33m\u001B[0m\u001B[0m\n",
      "\u001B[1;32mD:\\Anaconda\\lib\\site-packages\\networkx\\utils\\decorators.py\u001B[0m in \u001B[0;36m_open_file\u001B[1;34m(func_to_be_decorated, *args, **kwargs)\u001B[0m\n\u001B[0;32m    237\u001B[0m         \u001B[1;31m# Finally, we call the original function, making sure to close the fobj\u001B[0m\u001B[1;33m\u001B[0m\u001B[1;33m\u001B[0m\u001B[1;33m\u001B[0m\u001B[0m\n\u001B[0;32m    238\u001B[0m         \u001B[1;32mtry\u001B[0m\u001B[1;33m:\u001B[0m\u001B[1;33m\u001B[0m\u001B[1;33m\u001B[0m\u001B[0m\n\u001B[1;32m--> 239\u001B[1;33m             \u001B[0mresult\u001B[0m \u001B[1;33m=\u001B[0m \u001B[0mfunc_to_be_decorated\u001B[0m\u001B[1;33m(\u001B[0m\u001B[1;33m*\u001B[0m\u001B[0mnew_args\u001B[0m\u001B[1;33m,\u001B[0m \u001B[1;33m**\u001B[0m\u001B[0mkwargs\u001B[0m\u001B[1;33m)\u001B[0m\u001B[1;33m\u001B[0m\u001B[1;33m\u001B[0m\u001B[0m\n\u001B[0m\u001B[0;32m    240\u001B[0m         \u001B[1;32mfinally\u001B[0m\u001B[1;33m:\u001B[0m\u001B[1;33m\u001B[0m\u001B[1;33m\u001B[0m\u001B[0m\n\u001B[0;32m    241\u001B[0m             \u001B[1;32mif\u001B[0m \u001B[0mclose_fobj\u001B[0m\u001B[1;33m:\u001B[0m\u001B[1;33m\u001B[0m\u001B[1;33m\u001B[0m\u001B[0m\n",
      "\u001B[1;32mD:\\Anaconda\\lib\\site-packages\\networkx\\readwrite\\gml.py\u001B[0m in \u001B[0;36mread_gml\u001B[1;34m(path, label, destringizer)\u001B[0m\n\u001B[0;32m    179\u001B[0m             \u001B[1;32myield\u001B[0m \u001B[0mline\u001B[0m\u001B[1;33m\u001B[0m\u001B[1;33m\u001B[0m\u001B[0m\n\u001B[0;32m    180\u001B[0m \u001B[1;33m\u001B[0m\u001B[0m\n\u001B[1;32m--> 181\u001B[1;33m     \u001B[0mG\u001B[0m \u001B[1;33m=\u001B[0m \u001B[0mparse_gml_lines\u001B[0m\u001B[1;33m(\u001B[0m\u001B[0mfilter_lines\u001B[0m\u001B[1;33m(\u001B[0m\u001B[0mpath\u001B[0m\u001B[1;33m)\u001B[0m\u001B[1;33m,\u001B[0m \u001B[0mlabel\u001B[0m\u001B[1;33m,\u001B[0m \u001B[0mdestringizer\u001B[0m\u001B[1;33m)\u001B[0m\u001B[1;33m\u001B[0m\u001B[1;33m\u001B[0m\u001B[0m\n\u001B[0m\u001B[0;32m    182\u001B[0m     \u001B[1;32mreturn\u001B[0m \u001B[0mG\u001B[0m\u001B[1;33m\u001B[0m\u001B[1;33m\u001B[0m\u001B[0m\n\u001B[0;32m    183\u001B[0m \u001B[1;33m\u001B[0m\u001B[0m\n",
      "\u001B[1;32mD:\\Anaconda\\lib\\site-packages\\networkx\\readwrite\\gml.py\u001B[0m in \u001B[0;36mparse_gml_lines\u001B[1;34m(lines, label, destringizer)\u001B[0m\n\u001B[0;32m    434\u001B[0m             \u001B[1;32mraise\u001B[0m \u001B[0mNetworkXError\u001B[0m\u001B[1;33m(\u001B[0m\u001B[1;34mf\"node id {id!r} is duplicated\"\u001B[0m\u001B[1;33m)\u001B[0m\u001B[1;33m\u001B[0m\u001B[1;33m\u001B[0m\u001B[0m\n\u001B[0;32m    435\u001B[0m         \u001B[1;32mif\u001B[0m \u001B[0mlabel\u001B[0m \u001B[1;32mis\u001B[0m \u001B[1;32mnot\u001B[0m \u001B[1;32mNone\u001B[0m \u001B[1;32mand\u001B[0m \u001B[0mlabel\u001B[0m \u001B[1;33m!=\u001B[0m \u001B[1;34m\"id\"\u001B[0m\u001B[1;33m:\u001B[0m\u001B[1;33m\u001B[0m\u001B[1;33m\u001B[0m\u001B[0m\n\u001B[1;32m--> 436\u001B[1;33m             \u001B[0mnode_label\u001B[0m \u001B[1;33m=\u001B[0m \u001B[0mpop_attr\u001B[0m\u001B[1;33m(\u001B[0m\u001B[0mnode\u001B[0m\u001B[1;33m,\u001B[0m \u001B[1;34m\"node\"\u001B[0m\u001B[1;33m,\u001B[0m \u001B[0mlabel\u001B[0m\u001B[1;33m,\u001B[0m \u001B[0mi\u001B[0m\u001B[1;33m)\u001B[0m\u001B[1;33m\u001B[0m\u001B[1;33m\u001B[0m\u001B[0m\n\u001B[0m\u001B[0;32m    437\u001B[0m             \u001B[1;32mif\u001B[0m \u001B[0mnode_label\u001B[0m \u001B[1;32min\u001B[0m \u001B[0mnode_labels\u001B[0m\u001B[1;33m:\u001B[0m\u001B[1;33m\u001B[0m\u001B[1;33m\u001B[0m\u001B[0m\n\u001B[0;32m    438\u001B[0m                 \u001B[1;32mraise\u001B[0m \u001B[0mNetworkXError\u001B[0m\u001B[1;33m(\u001B[0m\u001B[1;34mf\"node label {node_label!r} is duplicated\"\u001B[0m\u001B[1;33m)\u001B[0m\u001B[1;33m\u001B[0m\u001B[1;33m\u001B[0m\u001B[0m\n",
      "\u001B[1;32mD:\\Anaconda\\lib\\site-packages\\networkx\\readwrite\\gml.py\u001B[0m in \u001B[0;36mpop_attr\u001B[1;34m(dct, category, attr, i)\u001B[0m\n\u001B[0;32m    424\u001B[0m             \u001B[1;32mreturn\u001B[0m \u001B[0mdct\u001B[0m\u001B[1;33m.\u001B[0m\u001B[0mpop\u001B[0m\u001B[1;33m(\u001B[0m\u001B[0mattr\u001B[0m\u001B[1;33m)\u001B[0m\u001B[1;33m\u001B[0m\u001B[1;33m\u001B[0m\u001B[0m\n\u001B[0;32m    425\u001B[0m         \u001B[1;32mexcept\u001B[0m \u001B[0mKeyError\u001B[0m \u001B[1;32mas\u001B[0m \u001B[0me\u001B[0m\u001B[1;33m:\u001B[0m\u001B[1;33m\u001B[0m\u001B[1;33m\u001B[0m\u001B[0m\n\u001B[1;32m--> 426\u001B[1;33m             \u001B[1;32mraise\u001B[0m \u001B[0mNetworkXError\u001B[0m\u001B[1;33m(\u001B[0m\u001B[1;34mf\"{category} #{i} has no '{attr}' attribute\"\u001B[0m\u001B[1;33m)\u001B[0m \u001B[1;32mfrom\u001B[0m \u001B[0me\u001B[0m\u001B[1;33m\u001B[0m\u001B[1;33m\u001B[0m\u001B[0m\n\u001B[0m\u001B[0;32m    427\u001B[0m \u001B[1;33m\u001B[0m\u001B[0m\n\u001B[0;32m    428\u001B[0m     \u001B[0mnodes\u001B[0m \u001B[1;33m=\u001B[0m \u001B[0mgraph\u001B[0m\u001B[1;33m.\u001B[0m\u001B[0mget\u001B[0m\u001B[1;33m(\u001B[0m\u001B[1;34m\"node\"\u001B[0m\u001B[1;33m,\u001B[0m \u001B[1;33m[\u001B[0m\u001B[1;33m]\u001B[0m\u001B[1;33m)\u001B[0m\u001B[1;33m\u001B[0m\u001B[1;33m\u001B[0m\u001B[0m\n",
      "\u001B[1;31mNetworkXError\u001B[0m: node #0 has no 'label' attribute"
     ]
    }
   ],
   "source": [
    "# read the provided dataset\n",
    "gml_file_path = \\\n",
    "'./../../dataset_generation/data/evaluation/DataSets/réels/karate/karate.gml'\n",
    "G = nx.read_gml(gml_file_path)\n"
   ]
  },
  {
   "cell_type": "code",
   "execution_count": null,
   "id": "36e999eb",
   "metadata": {
    "ExecuteTime": {
     "start_time": "2024-02-22T09:21:49.715090800Z"
    }
   },
   "outputs": [],
   "source": [
    "louvain = LouvainMachine(G)"
   ]
  },
  {
   "cell_type": "code",
   "execution_count": null,
   "id": "118a07df",
   "metadata": {
    "ExecuteTime": {
     "start_time": "2024-02-22T09:21:49.715090800Z"
    }
   },
   "outputs": [],
   "source": [
    "louvain.solve_communities()"
   ]
  },
  {
   "cell_type": "code",
   "execution_count": null,
   "id": "c022dd58",
   "metadata": {
    "ExecuteTime": {
     "start_time": "2024-02-22T09:21:49.715090800Z"
    }
   },
   "outputs": [],
   "source": [
    "louvain.display_graph_history_tables(display_fn=lambda x: display(x))"
   ]
  },
  {
   "cell_type": "code",
   "execution_count": null,
   "outputs": [],
   "source": [
    "import matplotlib.pyplot as plt\n",
    "for g in louvain.graph_history:\n",
    "    plt.figure(figsize=(12, 7))\n",
    "    nx.draw(\n",
    "            g,\n",
    "            with_labels=True,\n",
    "            alpha=0.9,\n",
    "            pos=nx.spring_layout(g, k=0.9),\n",
    "            node_color='skyblue',\n",
    "            node_size=4000,\n",
    "            font_size=8, \n",
    "            font_color='black', \n",
    "            font_weight='bold',\n",
    "            edge_color='red', width=1\n",
    "            )\n",
    "    plt.show()"
   ],
   "metadata": {
    "collapsed": false,
    "ExecuteTime": {
     "start_time": "2024-02-22T09:21:49.715090800Z"
    }
   },
   "id": "753d24748e326073"
  },
  {
   "cell_type": "code",
   "execution_count": null,
   "outputs": [],
   "source": [
    "# we need a way to map the fina obtained communities to the group truth\n",
    "# this is doable\n",
    "football_graph = nx.read_gml('./../data/evaluation/DataSets/réels/football/football.gml')\n"
   ],
   "metadata": {
    "collapsed": false,
    "ExecuteTime": {
     "start_time": "2024-02-22T09:21:49.715090800Z"
    }
   },
   "id": "2f91da110394be01"
  }
 ],
 "metadata": {
  "kernelspec": {
   "display_name": "Python 3",
   "language": "python",
   "name": "python3"
  },
  "language_info": {
   "codemirror_mode": {
    "name": "ipython",
    "version": 3
   },
   "file_extension": ".py",
   "mimetype": "text/x-python",
   "name": "python",
   "nbconvert_exporter": "python",
   "pygments_lexer": "ipython3",
   "version": "3.8.8"
  }
 },
 "nbformat": 4,
 "nbformat_minor": 5
}
