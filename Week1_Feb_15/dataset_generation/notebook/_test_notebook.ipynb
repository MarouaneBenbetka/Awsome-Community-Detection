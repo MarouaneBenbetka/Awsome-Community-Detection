{
 "cells": [
  {
   "cell_type": "code",
   "execution_count": 1,
   "metadata": {
    "ExecuteTime": {
     "end_time": "2024-02-20T23:01:42.628144500Z",
     "start_time": "2024-02-20T23:01:42.613149500Z"
    }
   },
   "outputs": [],
   "source": [
    "class Student(object):\n",
    "\n",
    "    def __init__(self, id, first_name, last_name, email) -> None:\n",
    "        self.id = id\n",
    "        self.first_name = first_name\n",
    "        self.last_name = last_name\n",
    "        self.email = email\n",
    "\n",
    "class Team(object):\n",
    "\n",
    "    def __init__(self, members) -> None:\n",
    "        self.members = members\n",
    "\n",
    "    def add_member(self, member):\n",
    "        if self.members == None:\n",
    "            self.members = []\n",
    "        self.members.append(member)\n",
    "    \n"
   ]
  },
  {
   "cell_type": "code",
   "execution_count": 2,
   "metadata": {
    "ExecuteTime": {
     "end_time": "2024-02-20T23:01:43.873948400Z",
     "start_time": "2024-02-20T23:01:42.647957600Z"
    }
   },
   "outputs": [
    {
     "ename": "AttributeError",
     "evalue": "'DataFrame' object has no attribute 'id'",
     "output_type": "error",
     "traceback": [
      "\u001B[1;31m---------------------------------------------------------------------------\u001B[0m",
      "\u001B[1;31mAttributeError\u001B[0m                            Traceback (most recent call last)",
      "\u001B[1;32m<ipython-input-2-55bdfe4a6cb7>\u001B[0m in \u001B[0;36m<module>\u001B[1;34m\u001B[0m\n\u001B[0;32m     10\u001B[0m \u001B[1;31m# Create a DataFrame of students\u001B[0m\u001B[1;33m\u001B[0m\u001B[1;33m\u001B[0m\u001B[1;33m\u001B[0m\u001B[0m\n\u001B[0;32m     11\u001B[0m data = {\n\u001B[1;32m---> 12\u001B[1;33m     \u001B[1;34m'id'\u001B[0m\u001B[1;33m:\u001B[0m \u001B[0mdata\u001B[0m\u001B[1;33m.\u001B[0m\u001B[0mid\u001B[0m\u001B[1;33m,\u001B[0m\u001B[1;33m\u001B[0m\u001B[1;33m\u001B[0m\u001B[0m\n\u001B[0m\u001B[0;32m     13\u001B[0m     \u001B[1;34m'first_name'\u001B[0m\u001B[1;33m:\u001B[0m \u001B[0mdata\u001B[0m\u001B[1;33m.\u001B[0m\u001B[0mfirst_name\u001B[0m\u001B[1;33m,\u001B[0m\u001B[1;33m\u001B[0m\u001B[1;33m\u001B[0m\u001B[0m\n\u001B[0;32m     14\u001B[0m     \u001B[1;34m'last_name'\u001B[0m\u001B[1;33m:\u001B[0m \u001B[0mdata\u001B[0m\u001B[1;33m.\u001B[0m\u001B[0mlast_name\u001B[0m\u001B[1;33m,\u001B[0m\u001B[1;33m\u001B[0m\u001B[1;33m\u001B[0m\u001B[0m\n",
      "\u001B[1;32mD:\\Anaconda\\lib\\site-packages\\pandas\\core\\generic.py\u001B[0m in \u001B[0;36m__getattr__\u001B[1;34m(self, name)\u001B[0m\n\u001B[0;32m   5485\u001B[0m         ):\n\u001B[0;32m   5486\u001B[0m             \u001B[1;32mreturn\u001B[0m \u001B[0mself\u001B[0m\u001B[1;33m[\u001B[0m\u001B[0mname\u001B[0m\u001B[1;33m]\u001B[0m\u001B[1;33m\u001B[0m\u001B[1;33m\u001B[0m\u001B[0m\n\u001B[1;32m-> 5487\u001B[1;33m         \u001B[1;32mreturn\u001B[0m \u001B[0mobject\u001B[0m\u001B[1;33m.\u001B[0m\u001B[0m__getattribute__\u001B[0m\u001B[1;33m(\u001B[0m\u001B[0mself\u001B[0m\u001B[1;33m,\u001B[0m \u001B[0mname\u001B[0m\u001B[1;33m)\u001B[0m\u001B[1;33m\u001B[0m\u001B[1;33m\u001B[0m\u001B[0m\n\u001B[0m\u001B[0;32m   5488\u001B[0m \u001B[1;33m\u001B[0m\u001B[0m\n\u001B[0;32m   5489\u001B[0m     \u001B[1;32mdef\u001B[0m \u001B[0m__setattr__\u001B[0m\u001B[1;33m(\u001B[0m\u001B[0mself\u001B[0m\u001B[1;33m,\u001B[0m \u001B[0mname\u001B[0m\u001B[1;33m:\u001B[0m \u001B[0mstr\u001B[0m\u001B[1;33m,\u001B[0m \u001B[0mvalue\u001B[0m\u001B[1;33m)\u001B[0m \u001B[1;33m->\u001B[0m \u001B[1;32mNone\u001B[0m\u001B[1;33m:\u001B[0m\u001B[1;33m\u001B[0m\u001B[1;33m\u001B[0m\u001B[0m\n",
      "\u001B[1;31mAttributeError\u001B[0m: 'DataFrame' object has no attribute 'id'"
     ]
    }
   ],
   "source": [
    "import pandas as pd\n",
    "import ipywidgets as widgets\n",
    "from IPython.display import display\n",
    "import sys\n",
    "\n",
    "# Export path: change before execution:\n",
    "EXPORT_PATH = './../data/teams_ML_TP_00.txt'\n",
    "\n",
    "data = pd.read_csv(\"./../data/student_list.csv\")\n",
    "# Create a DataFrame of students\n",
    "data = {\n",
    "    'id': data.id,\n",
    "    'first_name': data.first_name,\n",
    "    'last_name': data.last_name,\n",
    "    'email': data.email\n",
    "}\n",
    "\n",
    "\n",
    "current_team = None\n",
    "teams = []\n",
    "current_team = set()\n",
    "\n",
    "df = pd.DataFrame.from_dict(data)\n",
    "\n",
    "# Create checkboxes for each student\n",
    "checkboxes = {}\n",
    "for i, row in df.iterrows():\n",
    "    checkboxes[row['id']] = widgets.Checkbox(description=f\"{row['id']}: {row['first_name']} {row['last_name']}\")\n",
    "\n",
    "# Display checkboxes in a grid layout\n",
    "checkbox_grid = widgets.GridBox(list(checkboxes.values()), layout=widgets.Layout(grid_template_columns=\"repeat(3, 300px)\"))\n",
    "display(checkbox_grid)\n",
    "\n",
    "\n",
    "# Button for validation\n",
    "validate_button = widgets.Button(description='Create Team')\n",
    "show_teams_button = widgets.Button(description='Show teams')\n",
    "show_current_team_button = widgets.Button(description='Show current team')\n",
    "export_teams_button = widgets.Button(description='Export teams')\n",
    "\n",
    "# Display button\n",
    "display(validate_button)\n",
    "display(show_current_team_button)\n",
    "display(show_teams_button)\n",
    "display(export_teams_button)\n",
    "\n",
    "\n",
    "# Function to handle checkbox changes\n",
    "def handle_checkbox_change(change):\n",
    "    for id_, checkbox in checkboxes.items():\n",
    "        if checkbox == change['owner']:\n",
    "            # get the current selected or deselected student\n",
    "            current_record = df.where(df.id == id_).dropna().iloc[0].to_dict()\n",
    "            current_id = current_record['id']\n",
    "            \n",
    "            # print(current_record)\n",
    "\n",
    "            if change['new']:\n",
    "                current_team.add(current_id)\n",
    "            \n",
    "            else:\n",
    "                current_team.remove(current_id)\n",
    "\n",
    "# Attach the same handler to all checkboxes\n",
    "for checkbox in checkboxes.values():\n",
    "    checkbox.observe(handle_checkbox_change, names='value')\n",
    "\n",
    "# Function to handle button click\n",
    "def handle_create_team_button_click(team_members):\n",
    "    print('the current team is: {}'.format(team_members))\n",
    "    # validation phase: make sure that none of the current team members were used in other teams\n",
    "    if len(team_members) == 0:\n",
    "        print('Please select at least one member to create a team')\n",
    "        return\n",
    "    \n",
    "    for member in team_members:\n",
    "        for t in teams:\n",
    "            if t.__contains__(member):\n",
    "                print('{} is already used in the team {}'.format(member, t))\n",
    "                return\n",
    "    \n",
    "    # add the current team to the list of teams\n",
    "    teams.append(team_members.copy())\n",
    "    \n",
    "    for key, checkbox in checkboxes.items():\n",
    "        checkbox.value = False\n",
    "    current_team = set()\n",
    "\n",
    "\n",
    "def handle_show_teams_button_click(b):\n",
    "    print('showing all teams:')\n",
    "    for t in teams:\n",
    "        print(t)\n",
    "\n",
    "    print('---------------------------------------------')\n",
    "\n",
    "def handle_export_teams_button_click(teams, enable_check_found=False):\n",
    "    # validation phase:\n",
    "    # make sure all teams are included\n",
    "    for stdid in df.id:\n",
    "        found = False\n",
    "        for t in teams: \n",
    "            if t.__contains__(stdid):\n",
    "                found = True\n",
    "                break\n",
    "        if not found and enable_check_found:\n",
    "            print('student with id: {} not found'.format(stdid))\n",
    "            return\n",
    "    \n",
    "    print('All students are found')\n",
    "\n",
    "    # export phase\n",
    "    with open(EXPORT_PATH, 'w') as f:\n",
    "        for t in teams:\n",
    "            team_line = str.join(',', list(t))\n",
    "            f.write(team_line)\n",
    "            f.write('\\n')\n",
    "        f.close()\n",
    "\n",
    "\n",
    "def hand_show_current_team_button_click(b):\n",
    "    print('the current team:')\n",
    "    for id in current_team:\n",
    "        s = df[df.id == id].iloc[0].to_dict()\n",
    "        print(\n",
    "            \"{}: {} {}\".format(id, s['first_name'], s['last_name'])\n",
    "        )\n",
    "\n",
    "    print('-------------------------------------')\n",
    "\n",
    "# Attach the handler to the button\n",
    "validate_button.on_click(lambda x: handle_create_team_button_click(current_team))\n",
    "show_teams_button.on_click(handle_show_teams_button_click)\n",
    "show_current_team_button.on_click(hand_show_current_team_button_click)\n",
    "export_teams_button.on_click(lambda x: handle_export_teams_button_click(teams))"
   ]
  },
  {
   "cell_type": "code",
   "execution_count": null,
   "metadata": {
    "ExecuteTime": {
     "end_time": "2024-02-20T23:01:43.886941500Z",
     "start_time": "2024-02-20T23:01:43.880961300Z"
    }
   },
   "outputs": [],
   "source": []
  },
  {
   "cell_type": "code",
   "execution_count": null,
   "metadata": {
    "ExecuteTime": {
     "start_time": "2024-02-20T23:01:43.883942100Z"
    }
   },
   "outputs": [],
   "source": [
    "h = [[3, 4], [5, 6]]\n",
    "\n",
    "for i, j in zip(range(len(h)), h):\n",
    "    print(i, j)"
   ]
  },
  {
   "cell_type": "code",
   "execution_count": null,
   "metadata": {
    "ExecuteTime": {
     "start_time": "2024-02-20T23:01:43.886941500Z"
    }
   },
   "outputs": [],
   "source": []
  }
 ],
 "metadata": {
  "kernelspec": {
   "display_name": "base",
   "language": "python",
   "name": "python3"
  },
  "language_info": {
   "codemirror_mode": {
    "name": "ipython",
    "version": 3
   },
   "file_extension": ".py",
   "mimetype": "text/x-python",
   "name": "python",
   "nbconvert_exporter": "python",
   "pygments_lexer": "ipython3",
   "version": "3.11.4"
  }
 },
 "nbformat": 4,
 "nbformat_minor": 2
}
