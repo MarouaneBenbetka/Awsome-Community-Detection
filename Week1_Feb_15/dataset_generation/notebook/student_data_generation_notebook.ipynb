{
 "cells": [
  {
   "cell_type": "code",
   "execution_count": 1,
   "metadata": {
    "ExecuteTime": {
     "end_time": "2024-02-19T08:31:53.462549200Z",
     "start_time": "2024-02-19T08:31:52.757382600Z"
    }
   },
   "outputs": [],
   "source": [
    "from utils.assignment_team_generation import GeneratorApp"
   ]
  },
  {
   "cell_type": "code",
   "execution_count": 2,
   "metadata": {
    "ExecuteTime": {
     "end_time": "2024-02-19T08:31:53.756379900Z",
     "start_time": "2024-02-19T08:31:53.465549700Z"
    }
   },
   "outputs": [
    {
     "data": {
      "application/vnd.jupyter.widget-view+json": {
       "model_id": "f891df6a06b246b0975731900705a2f6",
       "version_major": 2,
       "version_minor": 0
      },
      "text/plain": [
       "GridBox(children=(Checkbox(value=False, description='20/0003: HATEM MOHAMED ABDELMOUMEN'), Checkbox(value=Fals…"
      ]
     },
     "metadata": {},
     "output_type": "display_data"
    },
    {
     "data": {
      "application/vnd.jupyter.widget-view+json": {
       "model_id": "990c3b2a25714c4c846a5ac4799fbca8",
       "version_major": 2,
       "version_minor": 0
      },
      "text/plain": [
       "GridBox(children=(Button(description='Create Team', style=ButtonStyle()), Button(description='Show current tea…"
      ]
     },
     "metadata": {},
     "output_type": "display_data"
    }
   ],
   "source": [
    "# consider changing this at each execution\n",
    "EXPORT_PATH = './../data/DATA_TP_IRIAD.txt'\n",
    "\n",
    "app = GeneratorApp(\n",
    "    './../data/student_list.csv',\n",
    "    EXPORT_PATH,\n",
    "    display_fn=lambda x: display(x)\n",
    ")\n",
    "app.show_ui()"
   ]
  }
 ],
 "metadata": {
  "kernelspec": {
   "display_name": "Python 3",
   "language": "python",
   "name": "python3"
  },
  "language_info": {
   "codemirror_mode": {
    "name": "ipython",
    "version": 3
   },
   "file_extension": ".py",
   "mimetype": "text/x-python",
   "name": "python",
   "nbconvert_exporter": "python",
   "pygments_lexer": "ipython3",
   "version": "3.8.8"
  }
 },
 "nbformat": 4,
 "nbformat_minor": 4
}
