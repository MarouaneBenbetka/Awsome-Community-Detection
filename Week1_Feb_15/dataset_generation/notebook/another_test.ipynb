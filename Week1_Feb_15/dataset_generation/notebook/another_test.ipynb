{
 "cells": [
  {
   "cell_type": "code",
   "execution_count": 1,
   "metadata": {},
   "outputs": [
    {
     "name": "stdout",
     "output_type": "stream",
     "text": [
      "Normalized Mutual Information (NMI): 1.0\n"
     ]
    }
   ],
   "source": [
    "from sklearn.metrics import normalized_mutual_info_score\n",
    "# Example lists of lists representing predicted and true communities\n",
    "predicted_communities = [[3, 1, 2], [6, 5, 4], [9, 7, 8]]\n",
    "true_communities = [[1, 2, 3, 4], [5, 6], [7, 8, 9]]\n",
    "\n",
    "# Flatten the lists of lists to create labels\n",
    "predicted_labels = []\n",
    "true_labels = []\n",
    "\n",
    "# Create mappings between nodes and community indices\n",
    "predicted_mapping = {}\n",
    "true_mapping = {}\n",
    "\n",
    "for idx, community in enumerate(predicted_communities):\n",
    "    for node in community:\n",
    "        predicted_labels.append(idx)\n",
    "        predicted_mapping[node] = idx\n",
    "\n",
    "for idx, community in enumerate(true_communities):\n",
    "    for node in community:\n",
    "        true_labels.append(idx)\n",
    "        true_mapping[node] = idx\n",
    "\n",
    "# Map predicted communities to true communities\n",
    "mapped_predicted_labels = [true_mapping[node] for node in sorted(predicted_mapping.keys())]\n",
    "\n",
    "# Compute the normalized mutual information\n",
    "nmi_score = normalized_mutual_info_score(true_labels, mapped_predicted_labels)\n",
    "\n",
    "print(\"Normalized Mutual Information (NMI):\", nmi_score)"
   ]
  }
 ],
 "metadata": {
  "kernelspec": {
   "display_name": "base",
   "language": "python",
   "name": "python3"
  },
  "language_info": {
   "codemirror_mode": {
    "name": "ipython",
    "version": 3
   },
   "file_extension": ".py",
   "mimetype": "text/x-python",
   "name": "python",
   "nbconvert_exporter": "python",
   "pygments_lexer": "ipython3",
   "version": "3.8.8"
  }
 },
 "nbformat": 4,
 "nbformat_minor": 2
}
