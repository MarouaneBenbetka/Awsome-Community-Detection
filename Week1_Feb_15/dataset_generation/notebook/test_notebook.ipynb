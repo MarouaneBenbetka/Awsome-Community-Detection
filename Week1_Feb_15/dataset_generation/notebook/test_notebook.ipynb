{
 "cells": [
  {
   "cell_type": "code",
   "execution_count": 1,
   "metadata": {},
   "outputs": [],
   "source": [
    "class Student(object):\n",
    "\n",
    "    def __init__(self, id, first_name, last_name, email) -> None:\n",
    "        self.id = id\n",
    "        self.first_name = first_name\n",
    "        self.last_name = last_name\n",
    "        self.email = email\n",
    "\n",
    "class Team(object):\n",
    "\n",
    "    def __init__(self, members) -> None:\n",
    "        self.members = members\n",
    "\n",
    "    def add_member(self, member):\n",
    "        if self.members == None:\n",
    "            self.members = []\n",
    "        self.members.append(member)\n",
    "    \n"
   ]
  },
  {
   "cell_type": "code",
   "execution_count": 2,
   "metadata": {},
   "outputs": [
    {
     "data": {
      "application/vnd.jupyter.widget-view+json": {
       "model_id": "2c74165524f047279fa4a59c1a3be7d6",
       "version_major": 2,
       "version_minor": 0
      },
      "text/plain": [
       "GridBox(children=(Checkbox(value=False, description='20/0003: HATEM MOHAMED ABDELMOUMEN'), Checkbox(value=Fals…"
      ]
     },
     "metadata": {},
     "output_type": "display_data"
    },
    {
     "data": {
      "application/vnd.jupyter.widget-view+json": {
       "model_id": "c65ff6a43f8841ddab281ac18299c7e6",
       "version_major": 2,
       "version_minor": 0
      },
      "text/plain": [
       "Button(description='Create Team', style=ButtonStyle())"
      ]
     },
     "metadata": {},
     "output_type": "display_data"
    },
    {
     "data": {
      "application/vnd.jupyter.widget-view+json": {
       "model_id": "ea1d39b4a10d4ccbac794c85aaaac001",
       "version_major": 2,
       "version_minor": 0
      },
      "text/plain": [
       "Button(description='Show current team', style=ButtonStyle())"
      ]
     },
     "metadata": {},
     "output_type": "display_data"
    },
    {
     "data": {
      "application/vnd.jupyter.widget-view+json": {
       "model_id": "b1d99bb9184d401da36f1270fea77be3",
       "version_major": 2,
       "version_minor": 0
      },
      "text/plain": [
       "Button(description='Show teams', style=ButtonStyle())"
      ]
     },
     "metadata": {},
     "output_type": "display_data"
    },
    {
     "data": {
      "application/vnd.jupyter.widget-view+json": {
       "model_id": "b7cfa1d1972349d292e053e38b5c0a12",
       "version_major": 2,
       "version_minor": 0
      },
      "text/plain": [
       "Button(description='Export teams', style=ButtonStyle())"
      ]
     },
     "metadata": {},
     "output_type": "display_data"
    },
    {
     "name": "stdout",
     "output_type": "stream",
     "text": [
      "the current team is: {'20/0025', '20/0050'}\n",
      "the current team:\n",
      "-------------------------------------\n",
      "showing all teams:\n",
      "{'20/0025', '20/0050'}\n",
      "---------------------------------------------\n",
      "the current team is: {'20/0280', '20/0278'}\n",
      "showing all teams:\n",
      "{'20/0025', '20/0050'}\n",
      "{'20/0280', '20/0278'}\n",
      "---------------------------------------------\n",
      "the current team is: {'20/0025', '20/0050'}\n",
      "20/0025 is already used in the team {'20/0025', '20/0050'}\n",
      "showing all teams:\n",
      "{'20/0025', '20/0050'}\n",
      "{'20/0280', '20/0278'}\n",
      "---------------------------------------------\n",
      "the current team:\n",
      "20/0025: AHMED RAYANE KEBIR\n",
      "20/0050: MAROUANE BENBETKA\n",
      "-------------------------------------\n",
      "the current team is: {'20/0025', '20/0050'}\n",
      "20/0025 is already used in the team {'20/0025', '20/0050'}\n",
      "All students are found\n"
     ]
    }
   ],
   "source": [
    "import pandas as pd\n",
    "import ipywidgets as widgets\n",
    "from IPython.display import display\n",
    "import sys\n",
    "\n",
    "# Export path: change before execution:\n",
    "EXPORT_PATH = './../data/teams_ML_TP_00.txt'\n",
    "\n",
    "data = pd.read_csv(\"./../data/student_list.csv\")\n",
    "# Create a DataFrame of students\n",
    "data = {\n",
    "    'id': data.id,\n",
    "    'first_name': data.first_name,\n",
    "    'last_name': data.last_name,\n",
    "    'email': data.email\n",
    "}\n",
    "\n",
    "\n",
    "current_team = None\n",
    "teams = []\n",
    "current_team = set()\n",
    "\n",
    "df = pd.DataFrame.from_dict(data)\n",
    "\n",
    "# Create checkboxes for each student\n",
    "checkboxes = {}\n",
    "for i, row in df.iterrows():\n",
    "    checkboxes[row['id']] = widgets.Checkbox(description=f\"{row['id']}: {row['first_name']} {row['last_name']}\")\n",
    "\n",
    "# Display checkboxes in a grid layout\n",
    "checkbox_grid = widgets.GridBox(list(checkboxes.values()), layout=widgets.Layout(grid_template_columns=\"repeat(3, 300px)\"))\n",
    "display(checkbox_grid)\n",
    "\n",
    "\n",
    "# Button for validation\n",
    "validate_button = widgets.Button(description='Create Team')\n",
    "show_teams_button = widgets.Button(description='Show teams')\n",
    "show_current_team_button = widgets.Button(description='Show current team')\n",
    "export_teams_button = widgets.Button(description='Export teams')\n",
    "\n",
    "# Display button\n",
    "display(validate_button)\n",
    "display(show_current_team_button)\n",
    "display(show_teams_button)\n",
    "display(export_teams_button)\n",
    "\n",
    "\n",
    "# Function to handle checkbox changes\n",
    "def handle_checkbox_change(change):\n",
    "    for id_, checkbox in checkboxes.items():\n",
    "        if checkbox == change['owner']:\n",
    "            # get the current selected or deselected student\n",
    "            current_record = df.where(df.id == id_).dropna().iloc[0].to_dict()\n",
    "            current_id = current_record['id']\n",
    "            \n",
    "            # print(current_record)\n",
    "\n",
    "            if change['new']:\n",
    "                current_team.add(current_id)\n",
    "            \n",
    "            else:\n",
    "                current_team.remove(current_id)\n",
    "\n",
    "# Attach the same handler to all checkboxes\n",
    "for checkbox in checkboxes.values():\n",
    "    checkbox.observe(handle_checkbox_change, names='value')\n",
    "\n",
    "# Function to handle button click\n",
    "def handle_create_team_button_click(team_members):\n",
    "    print('the current team is: {}'.format(team_members))\n",
    "    # validation phase: make sure that none of the current team members were used in other teams\n",
    "    if len(team_members) == 0:\n",
    "        print('Please select at least one member to create a team')\n",
    "        return\n",
    "    \n",
    "    for member in team_members:\n",
    "        for t in teams:\n",
    "            if t.__contains__(member):\n",
    "                print('{} is already used in the team {}'.format(member, t))\n",
    "                return\n",
    "    \n",
    "    # add the current team to the list of teams\n",
    "    teams.append(team_members.copy())\n",
    "    \n",
    "    for key, checkbox in checkboxes.items():\n",
    "        checkbox.value = False\n",
    "    current_team = set()\n",
    "\n",
    "\n",
    "def handle_show_teams_button_click(b):\n",
    "    print('showing all teams:')\n",
    "    for t in teams:\n",
    "        print(t)\n",
    "\n",
    "    print('---------------------------------------------')\n",
    "\n",
    "def handle_export_teams_button_click(teams, enable_check_found=False):\n",
    "    # validation phase:\n",
    "    # make sure all teams are included\n",
    "    for stdid in df.id:\n",
    "        found = False\n",
    "        for t in teams: \n",
    "            if t.__contains__(stdid):\n",
    "                found = True\n",
    "                break\n",
    "        if not found and enable_check_found:\n",
    "            print('student with id: {} not found'.format(stdid))\n",
    "            return\n",
    "    \n",
    "    print('All students are found')\n",
    "\n",
    "    # export phase\n",
    "    with open(EXPORT_PATH, 'w') as f:\n",
    "        for t in teams:\n",
    "            team_line = str.join(',', list(t))\n",
    "            f.write(team_line)\n",
    "            f.write('\\n')\n",
    "        f.close()\n",
    "\n",
    "\n",
    "def hand_show_current_team_button_click(b):\n",
    "    print('the current team:')\n",
    "    for id in current_team:\n",
    "        s = df[df.id == id].iloc[0].to_dict()\n",
    "        print(\n",
    "            \"{}: {} {}\".format(id, s['first_name'], s['last_name'])\n",
    "        )\n",
    "\n",
    "    print('-------------------------------------')\n",
    "\n",
    "# Attach the handler to the button\n",
    "validate_button.on_click(lambda x: handle_create_team_button_click(current_team))\n",
    "show_teams_button.on_click(handle_show_teams_button_click)\n",
    "show_current_team_button.on_click(hand_show_current_team_button_click)\n",
    "export_teams_button.on_click(lambda x: handle_export_teams_button_click(teams))"
   ]
  },
  {
   "cell_type": "code",
   "execution_count": null,
   "metadata": {},
   "outputs": [],
   "source": []
  },
  {
   "cell_type": "code",
   "execution_count": 50,
   "metadata": {},
   "outputs": [
    {
     "name": "stdout",
     "output_type": "stream",
     "text": [
      "hellanother"
     ]
    }
   ],
   "source": []
  },
  {
   "cell_type": "code",
   "execution_count": null,
   "metadata": {},
   "outputs": [],
   "source": []
  }
 ],
 "metadata": {
  "kernelspec": {
   "display_name": "base",
   "language": "python",
   "name": "python3"
  },
  "language_info": {
   "codemirror_mode": {
    "name": "ipython",
    "version": 3
   },
   "file_extension": ".py",
   "mimetype": "text/x-python",
   "name": "python",
   "nbconvert_exporter": "python",
   "pygments_lexer": "ipython3",
   "version": "3.11.4"
  }
 },
 "nbformat": 4,
 "nbformat_minor": 2
}
