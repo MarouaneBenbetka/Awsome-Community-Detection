{
 "cells": [
  {
   "cell_type": "code",
   "execution_count": 1,
   "metadata": {
    "ExecuteTime": {
     "end_time": "2024-02-20T21:28:23.390535Z",
     "start_time": "2024-02-20T21:28:22.401885200Z"
    }
   },
   "outputs": [],
   "source": [
    "import networkx as nx\n",
    "import numpy as np\n"
   ]
  },
  {
   "cell_type": "code",
   "execution_count": 2,
   "metadata": {
    "ExecuteTime": {
     "end_time": "2024-02-20T21:28:58.010841900Z",
     "start_time": "2024-02-20T21:28:26.346759200Z"
    }
   },
   "outputs": [
    {
     "ename": "KeyboardInterrupt",
     "evalue": "",
     "output_type": "error",
     "traceback": [
      "\u001B[1;31m---------------------------------------------------------------------------\u001B[0m",
      "\u001B[1;31mKeyboardInterrupt\u001B[0m                         Traceback (most recent call last)",
      "\u001B[1;32m<ipython-input-2-ce0f1fc975ca>\u001B[0m in \u001B[0;36m<module>\u001B[1;34m\u001B[0m\n\u001B[0;32m     55\u001B[0m \u001B[1;33m\u001B[0m\u001B[0m\n\u001B[0;32m     56\u001B[0m \u001B[1;31m# Apply Louvain algorithm\u001B[0m\u001B[1;33m\u001B[0m\u001B[1;33m\u001B[0m\u001B[1;33m\u001B[0m\u001B[0m\n\u001B[1;32m---> 57\u001B[1;33m \u001B[0mcommunities\u001B[0m \u001B[1;33m=\u001B[0m \u001B[0mlouvain\u001B[0m\u001B[1;33m(\u001B[0m\u001B[0mG\u001B[0m\u001B[1;33m)\u001B[0m\u001B[1;33m\u001B[0m\u001B[1;33m\u001B[0m\u001B[0m\n\u001B[0m\u001B[0;32m     58\u001B[0m \u001B[0mprint\u001B[0m\u001B[1;33m(\u001B[0m\u001B[0mcommunities\u001B[0m\u001B[1;33m)\u001B[0m\u001B[1;33m\u001B[0m\u001B[1;33m\u001B[0m\u001B[0m\n\u001B[0;32m     59\u001B[0m \u001B[1;33m\u001B[0m\u001B[0m\n",
      "\u001B[1;32m<ipython-input-2-ce0f1fc975ca>\u001B[0m in \u001B[0;36mlouvain\u001B[1;34m(G)\u001B[0m\n\u001B[0;32m     27\u001B[0m                 \u001B[1;32mif\u001B[0m \u001B[0mcurrent_community\u001B[0m \u001B[1;33m!=\u001B[0m \u001B[0mcommunity\u001B[0m\u001B[1;33m:\u001B[0m\u001B[1;33m\u001B[0m\u001B[1;33m\u001B[0m\u001B[0m\n\u001B[0;32m     28\u001B[0m                     \u001B[0mdegree_sum\u001B[0m \u001B[1;33m=\u001B[0m \u001B[0mG\u001B[0m\u001B[1;33m.\u001B[0m\u001B[0mdegree\u001B[0m\u001B[1;33m[\u001B[0m\u001B[0mnode\u001B[0m\u001B[1;33m]\u001B[0m\u001B[1;33m\u001B[0m\u001B[1;33m\u001B[0m\u001B[0m\n\u001B[1;32m---> 29\u001B[1;33m                     \u001B[0mneighbor_degree_sum\u001B[0m \u001B[1;33m=\u001B[0m \u001B[0msum\u001B[0m\u001B[1;33m(\u001B[0m\u001B[0mG\u001B[0m\u001B[1;33m.\u001B[0m\u001B[0mdegree\u001B[0m\u001B[1;33m[\u001B[0m\u001B[0mneighbor\u001B[0m\u001B[1;33m]\u001B[0m \u001B[1;32mfor\u001B[0m \u001B[0mneighbor\u001B[0m \u001B[1;32min\u001B[0m \u001B[0mG\u001B[0m\u001B[1;33m.\u001B[0m\u001B[0mneighbors\u001B[0m\u001B[1;33m(\u001B[0m\u001B[0mnode\u001B[0m\u001B[1;33m)\u001B[0m\u001B[1;33m)\u001B[0m\u001B[1;33m\u001B[0m\u001B[1;33m\u001B[0m\u001B[0m\n\u001B[0m\u001B[0;32m     30\u001B[0m                     \u001B[0mdelta_Q\u001B[0m \u001B[1;33m+=\u001B[0m \u001B[1;33m(\u001B[0m\u001B[0mneighbor_degree_sum\u001B[0m \u001B[1;33m-\u001B[0m \u001B[1;36m2\u001B[0m \u001B[1;33m*\u001B[0m \u001B[0mdegree_sum\u001B[0m \u001B[1;33m*\u001B[0m \u001B[0msum\u001B[0m\u001B[1;33m(\u001B[0m\u001B[1;36m1\u001B[0m \u001B[1;32mfor\u001B[0m \u001B[0mneighbor\u001B[0m \u001B[1;32min\u001B[0m \u001B[0mG\u001B[0m\u001B[1;33m.\u001B[0m\u001B[0mneighbors\u001B[0m\u001B[1;33m(\u001B[0m\u001B[0mnode\u001B[0m\u001B[1;33m)\u001B[0m \u001B[1;32mif\u001B[0m \u001B[0mpartition\u001B[0m\u001B[1;33m[\u001B[0m\u001B[0mneighbor\u001B[0m\u001B[1;33m]\u001B[0m \u001B[1;33m==\u001B[0m \u001B[0mcommunity\u001B[0m\u001B[1;33m)\u001B[0m \u001B[1;33m/\u001B[0m \u001B[1;33m(\u001B[0m\u001B[1;36m2\u001B[0m \u001B[1;33m*\u001B[0m \u001B[0mm\u001B[0m\u001B[1;33m)\u001B[0m\u001B[1;33m)\u001B[0m \u001B[1;33m/\u001B[0m \u001B[1;33m(\u001B[0m\u001B[1;36m2\u001B[0m \u001B[1;33m*\u001B[0m \u001B[0mm\u001B[0m\u001B[1;33m)\u001B[0m\u001B[1;33m\u001B[0m\u001B[1;33m\u001B[0m\u001B[0m\n\u001B[0;32m     31\u001B[0m \u001B[1;33m\u001B[0m\u001B[0m\n",
      "\u001B[1;32m<ipython-input-2-ce0f1fc975ca>\u001B[0m in \u001B[0;36m<genexpr>\u001B[1;34m(.0)\u001B[0m\n\u001B[0;32m     27\u001B[0m                 \u001B[1;32mif\u001B[0m \u001B[0mcurrent_community\u001B[0m \u001B[1;33m!=\u001B[0m \u001B[0mcommunity\u001B[0m\u001B[1;33m:\u001B[0m\u001B[1;33m\u001B[0m\u001B[1;33m\u001B[0m\u001B[0m\n\u001B[0;32m     28\u001B[0m                     \u001B[0mdegree_sum\u001B[0m \u001B[1;33m=\u001B[0m \u001B[0mG\u001B[0m\u001B[1;33m.\u001B[0m\u001B[0mdegree\u001B[0m\u001B[1;33m[\u001B[0m\u001B[0mnode\u001B[0m\u001B[1;33m]\u001B[0m\u001B[1;33m\u001B[0m\u001B[1;33m\u001B[0m\u001B[0m\n\u001B[1;32m---> 29\u001B[1;33m                     \u001B[0mneighbor_degree_sum\u001B[0m \u001B[1;33m=\u001B[0m \u001B[0msum\u001B[0m\u001B[1;33m(\u001B[0m\u001B[0mG\u001B[0m\u001B[1;33m.\u001B[0m\u001B[0mdegree\u001B[0m\u001B[1;33m[\u001B[0m\u001B[0mneighbor\u001B[0m\u001B[1;33m]\u001B[0m \u001B[1;32mfor\u001B[0m \u001B[0mneighbor\u001B[0m \u001B[1;32min\u001B[0m \u001B[0mG\u001B[0m\u001B[1;33m.\u001B[0m\u001B[0mneighbors\u001B[0m\u001B[1;33m(\u001B[0m\u001B[0mnode\u001B[0m\u001B[1;33m)\u001B[0m\u001B[1;33m)\u001B[0m\u001B[1;33m\u001B[0m\u001B[1;33m\u001B[0m\u001B[0m\n\u001B[0m\u001B[0;32m     30\u001B[0m                     \u001B[0mdelta_Q\u001B[0m \u001B[1;33m+=\u001B[0m \u001B[1;33m(\u001B[0m\u001B[0mneighbor_degree_sum\u001B[0m \u001B[1;33m-\u001B[0m \u001B[1;36m2\u001B[0m \u001B[1;33m*\u001B[0m \u001B[0mdegree_sum\u001B[0m \u001B[1;33m*\u001B[0m \u001B[0msum\u001B[0m\u001B[1;33m(\u001B[0m\u001B[1;36m1\u001B[0m \u001B[1;32mfor\u001B[0m \u001B[0mneighbor\u001B[0m \u001B[1;32min\u001B[0m \u001B[0mG\u001B[0m\u001B[1;33m.\u001B[0m\u001B[0mneighbors\u001B[0m\u001B[1;33m(\u001B[0m\u001B[0mnode\u001B[0m\u001B[1;33m)\u001B[0m \u001B[1;32mif\u001B[0m \u001B[0mpartition\u001B[0m\u001B[1;33m[\u001B[0m\u001B[0mneighbor\u001B[0m\u001B[1;33m]\u001B[0m \u001B[1;33m==\u001B[0m \u001B[0mcommunity\u001B[0m\u001B[1;33m)\u001B[0m \u001B[1;33m/\u001B[0m \u001B[1;33m(\u001B[0m\u001B[1;36m2\u001B[0m \u001B[1;33m*\u001B[0m \u001B[0mm\u001B[0m\u001B[1;33m)\u001B[0m\u001B[1;33m)\u001B[0m \u001B[1;33m/\u001B[0m \u001B[1;33m(\u001B[0m\u001B[1;36m2\u001B[0m \u001B[1;33m*\u001B[0m \u001B[0mm\u001B[0m\u001B[1;33m)\u001B[0m\u001B[1;33m\u001B[0m\u001B[1;33m\u001B[0m\u001B[0m\n\u001B[0;32m     31\u001B[0m \u001B[1;33m\u001B[0m\u001B[0m\n",
      "\u001B[1;32mD:\\Anaconda\\lib\\site-packages\\networkx\\classes\\reportviews.py\u001B[0m in \u001B[0;36m__getitem__\u001B[1;34m(self, n)\u001B[0m\n\u001B[0;32m    447\u001B[0m         \u001B[0mnbrs\u001B[0m \u001B[1;33m=\u001B[0m \u001B[0mself\u001B[0m\u001B[1;33m.\u001B[0m\u001B[0m_succ\u001B[0m\u001B[1;33m[\u001B[0m\u001B[0mn\u001B[0m\u001B[1;33m]\u001B[0m\u001B[1;33m\u001B[0m\u001B[1;33m\u001B[0m\u001B[0m\n\u001B[0;32m    448\u001B[0m         \u001B[1;32mif\u001B[0m \u001B[0mweight\u001B[0m \u001B[1;32mis\u001B[0m \u001B[1;32mNone\u001B[0m\u001B[1;33m:\u001B[0m\u001B[1;33m\u001B[0m\u001B[1;33m\u001B[0m\u001B[0m\n\u001B[1;32m--> 449\u001B[1;33m             \u001B[1;32mreturn\u001B[0m \u001B[0mlen\u001B[0m\u001B[1;33m(\u001B[0m\u001B[0mnbrs\u001B[0m\u001B[1;33m)\u001B[0m \u001B[1;33m+\u001B[0m \u001B[1;33m(\u001B[0m\u001B[0mn\u001B[0m \u001B[1;32min\u001B[0m \u001B[0mnbrs\u001B[0m\u001B[1;33m)\u001B[0m\u001B[1;33m\u001B[0m\u001B[1;33m\u001B[0m\u001B[0m\n\u001B[0m\u001B[0;32m    450\u001B[0m         return sum(dd.get(weight, 1) for dd in nbrs.values()) + (\n\u001B[0;32m    451\u001B[0m             \u001B[0mn\u001B[0m \u001B[1;32min\u001B[0m \u001B[0mnbrs\u001B[0m \u001B[1;32mand\u001B[0m \u001B[0mnbrs\u001B[0m\u001B[1;33m[\u001B[0m\u001B[0mn\u001B[0m\u001B[1;33m]\u001B[0m\u001B[1;33m.\u001B[0m\u001B[0mget\u001B[0m\u001B[1;33m(\u001B[0m\u001B[0mweight\u001B[0m\u001B[1;33m,\u001B[0m \u001B[1;36m1\u001B[0m\u001B[1;33m)\u001B[0m\u001B[1;33m\u001B[0m\u001B[1;33m\u001B[0m\u001B[0m\n",
      "\u001B[1;31mKeyboardInterrupt\u001B[0m: "
     ]
    }
   ],
   "source": [
    "import networkx as nx\n",
    "import numpy as np\n",
    "\n",
    "def louvain(G):\n",
    "    # Initialize each node to its own community\n",
    "    partition = {node: i for i, node in enumerate(G.nodes())}\n",
    "    \n",
    "    while True:\n",
    "        # Phase 1: Modularity calculation and community detection\n",
    "        improvement = False\n",
    "        for node in G.nodes():\n",
    "            # Calculate the modularity gain of removing the current node from its community\n",
    "            current_community = partition[node]\n",
    "            degree = G.degree[node]\n",
    "            community_degree = sum(G.degree[neighbor] for neighbor in G.neighbors(node))\n",
    "            modularity_gain = -((community_degree - degree) / (2 * m)) - \\\n",
    "                              (sum(1 for neighbor in G.neighbors(node) if partition[neighbor] == current_community) / (2 * m)) ** 2\n",
    "\n",
    "            # Find the neighboring communities\n",
    "            neighboring_communities = set(partition[neighbor] for neighbor in G.neighbors(node))\n",
    "\n",
    "            # Test removing the node from its community and placing it in each neighboring community\n",
    "            for community in neighboring_communities:\n",
    "                delta_Q = modularity_gain\n",
    "                \n",
    "                # Calculate the change in modularity by moving the node to the neighboring community\n",
    "                if current_community != community:\n",
    "                    degree_sum = G.degree[node]\n",
    "                    neighbor_degree_sum = sum(G.degree[neighbor] for neighbor in G.neighbors(node))\n",
    "                    delta_Q += (neighbor_degree_sum - 2 * degree_sum * sum(1 for neighbor in G.neighbors(node) if partition[neighbor] == community) / (2 * m)) / (2 * m)\n",
    "                \n",
    "                # If modularity increases, move the node to the community with the highest gain\n",
    "                if delta_Q > 0:\n",
    "                    partition[node] = community\n",
    "                    improvement = True\n",
    "\n",
    "        # Phase 2: Renumber communities\n",
    "        communities = {}\n",
    "        for node, community in partition.items():\n",
    "            if community not in communities:\n",
    "                communities[community] = len(communities)\n",
    "            partition[node] = communities[community]\n",
    "\n",
    "        if not improvement:\n",
    "            break\n",
    "\n",
    "    return partition\n",
    "\n",
    "# Example Usage:\n",
    "# Generate a random graph\n",
    "G = nx.erdos_renyi_graph(100, 0.1)\n",
    "\n",
    "# Calculate the total number of edges in the graph\n",
    "m = G.number_of_edges()\n",
    "\n",
    "# Apply Louvain algorithm\n",
    "communities = louvain(G)\n",
    "print(communities)\n"
   ]
  },
  {
   "cell_type": "code",
   "execution_count": null,
   "metadata": {
    "ExecuteTime": {
     "end_time": "2024-02-20T21:28:11.631485800Z",
     "start_time": "2024-02-20T21:28:11.631485800Z"
    }
   },
   "outputs": [],
   "source": [
    "import networkx as nx\n"
   ]
  },
  {
   "cell_type": "code",
   "execution_count": null,
   "metadata": {
    "ExecuteTime": {
     "start_time": "2024-02-20T21:28:11.637483700Z"
    }
   },
   "outputs": [],
   "source": [
    "graph = nx.Graph()\n",
    "graph.add_nodes_from(['a', 'b', 'c'])\n",
    "graph.add_edges_from([('a', 'b'), ('b', 'c')])\n",
    "graph.add_edges_from([('a', 'b')])\n",
    "graph.add_edges_from([('b', 'b')])\n",
    "graph.add_nodes_from(['a', 'd'])\n",
    "nx.set_node_attributes()\n",
    "nx.draw(\n",
    "            graph,\n",
    "            with_labels=True,\n",
    "            pos=nx.spring_layout(graph, k=0.9),\n",
    "            node_color='skyblue',\n",
    "            node_size=1000, \n",
    "            font_size=12, \n",
    "            font_color='black', \n",
    "            font_weight='bold',\n",
    "            edge_color='red', width=1\n",
    "            )\n"
   ]
  },
  {
   "cell_type": "code",
   "execution_count": null,
   "metadata": {
    "ExecuteTime": {
     "end_time": "2024-02-20T21:28:11.731428Z",
     "start_time": "2024-02-20T21:28:11.641480100Z"
    }
   },
   "outputs": [],
   "source": [
    "from utils.student_graph_generation import StudentGraphGenerator, LouvainMachine\n",
    "\n",
    "machine = LouvainMachine(graph)\n",
    "machine.print_graph()\n",
    "\n",
    "print(graph.nodes)\n",
    "print(graph.edges)\n",
    "graph._node['a']['community'] = '12'\n",
    "print(graph._node['a']['community'])"
   ]
  },
  {
   "cell_type": "code",
   "execution_count": null,
   "metadata": {
    "ExecuteTime": {
     "start_time": "2024-02-20T21:28:11.646477700Z"
    }
   },
   "outputs": [],
   "source": [
    "import networkx as nx\n",
    "g = nx.Graph()\n",
    "\n",
    "g.add_nodes_from(['1', '2', '3'])\n",
    "g.add_edges_from([('1', '2', {'weight': 45})])"
   ]
  },
  {
   "cell_type": "code",
   "execution_count": null,
   "metadata": {
    "ExecuteTime": {
     "start_time": "2024-02-20T21:28:11.649476800Z"
    }
   },
   "outputs": [],
   "source": [
    "\n",
    "g._node['1']['community'] = 89\n",
    "print(g._node)"
   ]
  },
  {
   "cell_type": "code",
   "execution_count": null,
   "metadata": {
    "ExecuteTime": {
     "start_time": "2024-02-20T21:28:11.652476200Z"
    }
   },
   "outputs": [],
   "source": [
    "gg = nx.Graph()\n",
    "\n",
    "gg.add_nodes_from(['a', 'b', 'c', 'd'])\n",
    "gg.add_edges_from([\n",
    "    ('a', 'b', {'weight': 45}),\n",
    "    ('a', 'c', {'weight': 44}),\n",
    "    ('a', 'd', {'weight': 15}),\n",
    "    ('K', 'H', {'weight': 45})\n",
    "])\n",
    "\n",
    "\n",
    "print(gg.nodes)\n",
    "print(gg.edges)\n",
    "print(nx.neighbors(gg, 'a'))\n"
   ]
  }
 ],
 "metadata": {
  "kernelspec": {
   "display_name": "base",
   "language": "python",
   "name": "python3"
  },
  "language_info": {
   "codemirror_mode": {
    "name": "ipython",
    "version": 3
   },
   "file_extension": ".py",
   "mimetype": "text/x-python",
   "name": "python",
   "nbconvert_exporter": "python",
   "pygments_lexer": "ipython3",
   "version": "3.8.8"
  }
 },
 "nbformat": 4,
 "nbformat_minor": 2
}
