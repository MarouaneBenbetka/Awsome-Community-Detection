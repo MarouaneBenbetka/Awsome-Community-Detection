{
 "cells": [
  {
   "cell_type": "code",
   "execution_count": 28,
   "metadata": {},
   "outputs": [],
   "source": [
    "from utils.utils import *\n",
    "import networkx as nx\n",
    "import matplotlib.pyplot as plt\n",
    "from netgraph import Graph"
   ]
  },
  {
   "cell_type": "code",
   "execution_count": 29,
   "metadata": {},
   "outputs": [],
   "source": [
    "datasets = ['karate','dolphins','football','polbooks']"
   ]
  },
  {
   "cell_type": "code",
   "execution_count": 30,
   "metadata": {},
   "outputs": [],
   "source": [
    "def generate_dataset_image(  dataset ):\n",
    "    file_path = f'./data/reel/{dataset}/{dataset}.gml'\n",
    "    G = nx.read_gml(file_path, label='id')\n",
    "\n",
    "    mapping = {node: i+1 for i, node in enumerate(sorted(G.nodes()))}\n",
    "    G = nx.relabel_nodes(G, mapping)\n",
    "\n",
    "    true_labels = read_community_labels_file_reel(\n",
    "        f'./data/reel/{dataset}/groundTruth.txt')\n",
    "\n",
    "\n",
    "\n",
    "\n",
    "    partion = {node+1: comm for node,comm in true_labels}\n",
    "\n",
    "\n",
    "\n",
    "    node_labels = {node: f\"{node}\" for node, comm in partion.items()}\n",
    "\n",
    "\n",
    "\n",
    "    community_to_color = {\n",
    "                            0: 'tab:blue',\n",
    "                            1: 'tab:red',\n",
    "                            2: 'tab:orange',\n",
    "                            3: 'tab:green',\n",
    "                            4: 'tab:pink',\n",
    "                            5: \"#33A6FF\",\n",
    "                            6: \"#FFD133\",\n",
    "                            7: \"#33FFD1\",\n",
    "                            8: \"#D133FF\",\n",
    "                            9: \"#FFE133\",\n",
    "                            10: \"#33FFE1\",\n",
    "                            11: 'tab:blue',\n",
    "                            12: '#33A6FF',\n",
    "                        }\n",
    "\n",
    "\n",
    "\n",
    "    node_color = {node: community_to_color[community_id] for node, community_id in partion.items()}\n",
    "    plt.figure(figsize=(15, 15))\n",
    "    Graph(\n",
    "        G,\n",
    "        node_color=node_color, node_edge_width=0.3, edge_alpha=.5, edge_width=.5,\n",
    "        node_layout='community', node_layout_kwargs=dict(node_to_community=partion),\n",
    "        edge_layout='bundled', edge_layout_kwargs=dict(k=2000), node_labels=node_labels, node_size=4, scale=(1.6, 1.6)\n",
    "\n",
    "\n",
    "\n",
    "    )\n",
    "    plt.show()"
   ]
  },
  {
   "cell_type": "code",
   "execution_count": 31,
   "metadata": {},
   "outputs": [
    {
     "ename": "KeyError",
     "evalue": "12",
     "output_type": "error",
     "traceback": [
      "\u001b[1;31m---------------------------------------------------------------------------\u001b[0m",
      "\u001b[1;31mKeyError\u001b[0m                                  Traceback (most recent call last)",
      "Cell \u001b[1;32mIn [31], line 1\u001b[0m\n\u001b[1;32m----> 1\u001b[0m \u001b[43mgenerate_dataset_image\u001b[49m\u001b[43m(\u001b[49m\u001b[38;5;124;43m'\u001b[39;49m\u001b[38;5;124;43mfootball\u001b[39;49m\u001b[38;5;124;43m'\u001b[39;49m\u001b[43m)\u001b[49m    \n",
      "Cell \u001b[1;32mIn [30], line 31\u001b[0m, in \u001b[0;36mgenerate_dataset_image\u001b[1;34m(dataset)\u001b[0m\n\u001b[0;32m     14\u001b[0m node_labels \u001b[38;5;241m=\u001b[39m {node: \u001b[38;5;124mf\u001b[39m\u001b[38;5;124m\"\u001b[39m\u001b[38;5;132;01m{\u001b[39;00mnode\u001b[38;5;132;01m}\u001b[39;00m\u001b[38;5;124m\"\u001b[39m \u001b[38;5;28;01mfor\u001b[39;00m node, comm \u001b[38;5;129;01min\u001b[39;00m partion\u001b[38;5;241m.\u001b[39mitems()}\n\u001b[0;32m     16\u001b[0m community_to_color \u001b[38;5;241m=\u001b[39m {\n\u001b[0;32m     17\u001b[0m                         \u001b[38;5;241m0\u001b[39m: \u001b[38;5;124m'\u001b[39m\u001b[38;5;124mtab:blue\u001b[39m\u001b[38;5;124m'\u001b[39m,\n\u001b[0;32m     18\u001b[0m                         \u001b[38;5;241m1\u001b[39m: \u001b[38;5;124m'\u001b[39m\u001b[38;5;124mtab:red\u001b[39m\u001b[38;5;124m'\u001b[39m,\n\u001b[1;32m   (...)\u001b[0m\n\u001b[0;32m     28\u001b[0m                         \u001b[38;5;241m11\u001b[39m: \u001b[38;5;124m'\u001b[39m\u001b[38;5;124mtab:blue\u001b[39m\u001b[38;5;124m'\u001b[39m,\n\u001b[0;32m     29\u001b[0m                     }\n\u001b[1;32m---> 31\u001b[0m node_color \u001b[38;5;241m=\u001b[39m \u001b[43m{\u001b[49m\u001b[43mnode\u001b[49m\u001b[43m:\u001b[49m\u001b[43m \u001b[49m\u001b[43mcommunity_to_color\u001b[49m\u001b[43m[\u001b[49m\u001b[43mcommunity_id\u001b[49m\u001b[43m]\u001b[49m\u001b[43m \u001b[49m\u001b[38;5;28;43;01mfor\u001b[39;49;00m\u001b[43m \u001b[49m\u001b[43mnode\u001b[49m\u001b[43m,\u001b[49m\u001b[43m \u001b[49m\u001b[43mcommunity_id\u001b[49m\u001b[43m \u001b[49m\u001b[38;5;129;43;01min\u001b[39;49;00m\u001b[43m \u001b[49m\u001b[43mpartion\u001b[49m\u001b[38;5;241;43m.\u001b[39;49m\u001b[43mitems\u001b[49m\u001b[43m(\u001b[49m\u001b[43m)\u001b[49m\u001b[43m}\u001b[49m\n\u001b[0;32m     32\u001b[0m plt\u001b[38;5;241m.\u001b[39mfigure(figsize\u001b[38;5;241m=\u001b[39m(\u001b[38;5;241m15\u001b[39m, \u001b[38;5;241m15\u001b[39m))\n\u001b[0;32m     33\u001b[0m Graph(\n\u001b[0;32m     34\u001b[0m     G,\n\u001b[0;32m     35\u001b[0m     node_color\u001b[38;5;241m=\u001b[39mnode_color, node_edge_width\u001b[38;5;241m=\u001b[39m\u001b[38;5;241m0.3\u001b[39m, edge_alpha\u001b[38;5;241m=\u001b[39m\u001b[38;5;241m.5\u001b[39m, edge_width\u001b[38;5;241m=\u001b[39m\u001b[38;5;241m.5\u001b[39m,\n\u001b[1;32m   (...)\u001b[0m\n\u001b[0;32m     38\u001b[0m \n\u001b[0;32m     39\u001b[0m )\n",
      "Cell \u001b[1;32mIn [30], line 31\u001b[0m, in \u001b[0;36m<dictcomp>\u001b[1;34m(.0)\u001b[0m\n\u001b[0;32m     14\u001b[0m node_labels \u001b[38;5;241m=\u001b[39m {node: \u001b[38;5;124mf\u001b[39m\u001b[38;5;124m\"\u001b[39m\u001b[38;5;132;01m{\u001b[39;00mnode\u001b[38;5;132;01m}\u001b[39;00m\u001b[38;5;124m\"\u001b[39m \u001b[38;5;28;01mfor\u001b[39;00m node, comm \u001b[38;5;129;01min\u001b[39;00m partion\u001b[38;5;241m.\u001b[39mitems()}\n\u001b[0;32m     16\u001b[0m community_to_color \u001b[38;5;241m=\u001b[39m {\n\u001b[0;32m     17\u001b[0m                         \u001b[38;5;241m0\u001b[39m: \u001b[38;5;124m'\u001b[39m\u001b[38;5;124mtab:blue\u001b[39m\u001b[38;5;124m'\u001b[39m,\n\u001b[0;32m     18\u001b[0m                         \u001b[38;5;241m1\u001b[39m: \u001b[38;5;124m'\u001b[39m\u001b[38;5;124mtab:red\u001b[39m\u001b[38;5;124m'\u001b[39m,\n\u001b[1;32m   (...)\u001b[0m\n\u001b[0;32m     28\u001b[0m                         \u001b[38;5;241m11\u001b[39m: \u001b[38;5;124m'\u001b[39m\u001b[38;5;124mtab:blue\u001b[39m\u001b[38;5;124m'\u001b[39m,\n\u001b[0;32m     29\u001b[0m                     }\n\u001b[1;32m---> 31\u001b[0m node_color \u001b[38;5;241m=\u001b[39m {node: \u001b[43mcommunity_to_color\u001b[49m\u001b[43m[\u001b[49m\u001b[43mcommunity_id\u001b[49m\u001b[43m]\u001b[49m \u001b[38;5;28;01mfor\u001b[39;00m node, community_id \u001b[38;5;129;01min\u001b[39;00m partion\u001b[38;5;241m.\u001b[39mitems()}\n\u001b[0;32m     32\u001b[0m plt\u001b[38;5;241m.\u001b[39mfigure(figsize\u001b[38;5;241m=\u001b[39m(\u001b[38;5;241m15\u001b[39m, \u001b[38;5;241m15\u001b[39m))\n\u001b[0;32m     33\u001b[0m Graph(\n\u001b[0;32m     34\u001b[0m     G,\n\u001b[0;32m     35\u001b[0m     node_color\u001b[38;5;241m=\u001b[39mnode_color, node_edge_width\u001b[38;5;241m=\u001b[39m\u001b[38;5;241m0.3\u001b[39m, edge_alpha\u001b[38;5;241m=\u001b[39m\u001b[38;5;241m.5\u001b[39m, edge_width\u001b[38;5;241m=\u001b[39m\u001b[38;5;241m.5\u001b[39m,\n\u001b[1;32m   (...)\u001b[0m\n\u001b[0;32m     38\u001b[0m \n\u001b[0;32m     39\u001b[0m )\n",
      "\u001b[1;31mKeyError\u001b[0m: 12"
     ]
    }
   ],
   "source": [
    "\n",
    "generate_dataset_image('football')    \n"
   ]
  }
 ],
 "metadata": {
  "kernelspec": {
   "display_name": "base",
   "language": "python",
   "name": "python3"
  },
  "language_info": {
   "codemirror_mode": {
    "name": "ipython",
    "version": 3
   },
   "file_extension": ".py",
   "mimetype": "text/x-python",
   "name": "python",
   "nbconvert_exporter": "python",
   "pygments_lexer": "ipython3",
   "version": "3.11.5"
  }
 },
 "nbformat": 4,
 "nbformat_minor": 2
}
