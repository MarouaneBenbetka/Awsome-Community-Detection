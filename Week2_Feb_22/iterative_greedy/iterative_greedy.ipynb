{
 "cells": [
  {
   "cell_type": "code",
   "execution_count": 1,
   "metadata": {
    "ExecuteTime": {
     "end_time": "2024-02-21T07:53:30.998532600Z",
     "start_time": "2024-02-21T07:53:30.831628600Z"
    }
   },
   "outputs": [],
   "source": [
    "import numpy as np\n",
    "from itertools import combinations"
   ]
  },
  {
   "cell_type": "code",
   "execution_count": 2,
   "metadata": {
    "ExecuteTime": {
     "end_time": "2024-02-21T07:53:31.037509200Z",
     "start_time": "2024-02-21T07:53:30.999531600Z"
    }
   },
   "outputs": [],
   "source": [
    "\n",
    "def modularity_matrix(adj_matrix: np.ndarray) -> np.ndarray:\n",
    "    k_i = np.expand_dims(adj_matrix.sum(axis=1), axis=1)\n",
    "    k_j = k_i.T\n",
    "    norm = 1 / k_i.sum()\n",
    "    K = norm * np.matmul(k_i, k_j)\n",
    "\n",
    "    return norm * (adj_matrix - K)\n"
   ]
  },
  {
   "cell_type": "code",
   "execution_count": 3,
   "metadata": {
    "ExecuteTime": {
     "end_time": "2024-02-21T07:53:31.059498400Z",
     "start_time": "2024-02-21T07:53:31.015522800Z"
    }
   },
   "outputs": [],
   "source": [
    "def modularity(adj_matrix: np.ndarray, communities: list) -> float:\n",
    "\n",
    "    k_i = np.expand_dims(adj_matrix.sum(axis=1), axis=1)\n",
    "    k_j = k_i.T\n",
    "    norm = 1 / k_i.sum() # 1/2m\n",
    "    K = norm * np.matmul(k_i, k_j) # (ki * kj) / 2m\n",
    "    mod_matrix = norm * (adj_matrix - K)  #  ( 1/2m ) *  Aij - (ki * kj) / 2m\n",
    "\n",
    "\n",
    "    C = np.zeros_like(mod_matrix)\n",
    "\n",
    "    for community in communities:\n",
    "        for i, j in combinations(community, 2):\n",
    "            C[i, j] = 1.0\n",
    "            C[j, i] = 1.0\n",
    "\n",
    "    return np.tril(np.multiply(mod_matrix, C), 0).sum()"
   ]
  },
  {
   "cell_type": "code",
   "execution_count": 4,
   "metadata": {
    "ExecuteTime": {
     "end_time": "2024-02-21T07:53:31.062495300Z",
     "start_time": "2024-02-21T07:53:31.029515100Z"
    }
   },
   "outputs": [],
   "source": [
    "\n",
    "def generate_adj_matrix(adj_matrix , V):\n",
    "    # keep only the nodes in V\n",
    "    for i in range(adj_matrix.shape[0]):\n",
    "        if i not in V:\n",
    "            adj_matrix[i, :] = 0\n",
    "            adj_matrix[:, i] = 0\n",
    "            \n",
    "    return adj_matrix\n"
   ]
  },
  {
   "cell_type": "code",
   "execution_count": 5,
   "metadata": {
    "ExecuteTime": {
     "end_time": "2024-02-21T07:53:31.076491100Z",
     "start_time": "2024-02-21T07:53:31.047505100Z"
    }
   },
   "outputs": [],
   "source": [
    "def GCP(adj_matrix: np.ndarray) -> list:\n",
    "    V = list(range(adj_matrix.shape[0]))\n",
    "    \n",
    "    v = np.random.choice(V)\n",
    "    V.remove(v)\n",
    "    \n",
    "    K0 = [v]\n",
    "    communities = [K0]\n",
    "\n",
    "    while V:\n",
    "        v = np.random.choice(V)\n",
    "        Mdb = -1\n",
    "        best_community = None\n",
    "        best_community_index = -1\n",
    "\n",
    "        # nodes  = communities.flatten()\n",
    "        nodes = [i for community in communities for i in community]\n",
    "\n",
    "\n",
    "        new_adj_matrix = generate_adj_matrix(\n",
    "            adj_matrix, nodes + [v])\n",
    "\n",
    "\n",
    "        for i,Ki in enumerate(communities):\n",
    "            Ki_new =  Ki + [v] \n",
    "            \n",
    "            new_communities = communities.copy()\n",
    "      \n",
    "            new_communities[i] = Ki_new\n",
    "\n",
    "            Md = modularity( new_adj_matrix, new_communities )\n",
    "\n",
    "            if Md > Mdb:\n",
    "                Mdb = Md\n",
    "                best_community = Ki_new\n",
    "                best_community_index = i\n",
    "\n",
    "\n",
    "        if len(nodes)>1:\n",
    "            new_adj_matrix = generate_adj_matrix(adj_matrix, nodes)\n",
    "            Mdphi = modularity(new_adj_matrix, communities)\n",
    "        else: \n",
    "            Mdphi = -1 \n",
    "\n",
    "        # TODO : verify if > or >=\n",
    "        if Mdb > Mdphi :\n",
    "            print(\"Md: \", Mdb)\n",
    "            communities[best_community_index] = best_community\n",
    "        else:\n",
    "            print(\"Md: \", Mdphi)\n",
    "            Ki = [v]           \n",
    "            communities.append(Ki)  \n",
    "\n",
    "        \n",
    "\n",
    "        V.remove(v)\n",
    "\n",
    "    return communities"
   ]
  },
  {
   "cell_type": "code",
   "execution_count": 6,
   "metadata": {
    "ExecuteTime": {
     "end_time": "2024-02-21T07:53:31.132458400Z",
     "start_time": "2024-02-21T07:53:31.076491100Z"
    }
   },
   "outputs": [
    {
     "name": "stdout",
     "output_type": "stream",
     "text": [
      "Md:  0.25\n",
      "Md:  0.25\n",
      "Md:  0.25\n"
     ]
    }
   ],
   "source": [
    "adj_matrix = np.array([[0,1,1,1],\n",
    "                        [1,0,1,1],\n",
    "                        [1,1,0,1],\n",
    "                        [1,1,1,0]\n",
    "                        ])\n",
    "\n",
    "generated_communities = GCP(adj_matrix)"
   ]
  },
  {
   "cell_type": "code",
   "execution_count": 7,
   "metadata": {
    "ExecuteTime": {
     "end_time": "2024-02-21T07:53:31.145448Z",
     "start_time": "2024-02-21T07:53:31.125458300Z"
    }
   },
   "outputs": [],
   "source": [
    "\n",
    "\n",
    "\n",
    "\n",
    "# TODO : implementation of construction algorithm\n",
    "def reconstruct(G):\n",
    "    return G\n",
    "\n",
    "# TODO : implementation of deconstruction algorithm\n",
    "def destruct(G,beta):\n",
    "    return G\n",
    "\n",
    "\n",
    "\n",
    "\n",
    "\n",
    "\n",
    "def IG(G , nb_iterations = 100 , beta=.3):\n",
    "\n",
    "    phi = GCP(G)\n",
    "\n",
    "    for i in range(nb_iterations):\n",
    "        phi_1 = destruct(phi , beta )\n",
    "        \n",
    "        phi_intermediate = reconstruct(phi_1 )\n",
    "\n",
    "        if modularity(phi_intermediate) > modularity(phi):\n",
    "            phi = phi_intermediate\n",
    "\n",
    "    return phi"
   ]
  }
 ],
 "metadata": {
  "kernelspec": {
   "display_name": "base",
   "language": "python",
   "name": "python3"
  },
  "language_info": {
   "codemirror_mode": {
    "name": "ipython",
    "version": 3
   },
   "file_extension": ".py",
   "mimetype": "text/x-python",
   "name": "python",
   "nbconvert_exporter": "python",
   "pygments_lexer": "ipython3",
   "version": "3.11.5"
  }
 },
 "nbformat": 4,
 "nbformat_minor": 2
}
