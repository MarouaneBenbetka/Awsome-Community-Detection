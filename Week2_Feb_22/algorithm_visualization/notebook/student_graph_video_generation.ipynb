{
 "cells": [
  {
   "cell_type": "code",
   "execution_count": 1,
   "metadata": {},
   "outputs": [],
   "source": [
    "import networkx as nx\n",
    "from utils.louvain4 import LouvainMachine"
   ]
  },
  {
   "cell_type": "code",
   "execution_count": 2,
   "metadata": {},
   "outputs": [
    {
     "data": {
      "text/html": [
       "<pre style=\"white-space:pre;overflow-x:auto;line-height:normal;font-family:Menlo,'DejaVu Sans Mono',consolas,'Courier New',monospace\">Manim Community <span style=\"color: #008000; text-decoration-color: #008000\">v0.18.0</span>\n",
       "\n",
       "</pre>\n"
      ],
      "text/plain": [
       "Manim Community \u001b[32mv0.\u001b[0m\u001b[32m18.0\u001b[0m\n",
       "\n"
      ]
     },
     "metadata": {},
     "output_type": "display_data"
    }
   ],
   "source": [
    "from utils.louvain_graph_animation_manim import LouvainScene\n",
    "import networkx as nx"
   ]
  },
  {
   "cell_type": "code",
   "execution_count": 3,
   "metadata": {},
   "outputs": [],
   "source": [
    "graph = nx.Graph()\n",
    "\n",
    "# Add nodes to the graph\n",
    "nodes = [1, 2, 3, 4, 5, 6, 7, 8, 9, 10]\n",
    "graph.add_nodes_from(nodes)\n",
    "\n",
    "# Add initial edges to the graph (sparse connections)\n",
    "initial_edges = [\n",
    "    (1, 2, {'weight': 1}),\n",
    "    (1, 3, {'weight': 1}),\n",
    "    (1, 4, {'weight': 1}),\n",
    "    (1, 10, {'weight': 1}),\n",
    "    (1, 45, {'weight': 1}),\n",
    "]\n",
    "\n",
    "graph.add_edges_from(initial_edges)\n",
    "\n",
    "# Additional edges to be added to the graph\n",
    "additional_edges = [\n",
    "    (2, 3, {'weight': 1}),\n",
    "    (2, 5, {'weight': 1}),\n",
    "    (3, 6, {'weight': 1}),\n",
    "    (4, 7, {'weight': 1}),\n",
    "    (5, 8, {'weight': 1}),\n",
    "    (6, 9, {'weight': 1}),\n",
    "    (7, 10, {'weight': 1}),\n",
    "    (8, 10, {'weight': 1}),\n",
    "]\n",
    "\n",
    "# Add additional edges to the graph\n",
    "graph.add_edges_from(additional_edges)"
   ]
  },
  {
   "cell_type": "markdown",
   "metadata": {},
   "source": [
    "-------"
   ]
  },
  {
   "cell_type": "code",
   "execution_count": 4,
   "metadata": {},
   "outputs": [],
   "source": [
    "# create the louvain machine\n",
    "louvain_machine = LouvainMachine(graph)"
   ]
  },
  {
   "cell_type": "code",
   "execution_count": 5,
   "metadata": {},
   "outputs": [
    {
     "name": "stdout",
     "output_type": "stream",
     "text": [
      "neighbor communities [2, 3, 4, 10, 45]\n",
      "node: 1, source: 1, destination: 2, value: 0.07692307692307693\n",
      "choosing maximum action >>>>node: 1, source: 1, destination: 2, value: 0.07692307692307693\n",
      "neighbor communities [2, 3, 5]\n",
      "node: 2, source: 2, destination: 3, value: 0.07692307692307693\n",
      "choosing maximum action >>>>node: 2, source: 2, destination: 3, value: 0.07692307692307693\n",
      "neighbor communities [2, 3, 6]\n",
      "node: 3, source: 3, destination: 2, value: 0.07692307692307693\n",
      "choosing maximum action >>>>node: 3, source: 3, destination: 2, value: 0.07692307692307693\n",
      "neighbor communities [2, 7]\n",
      "node: 4, source: 4, destination: 7, value: 0.07692307692307693\n",
      "choosing maximum action >>>>node: 4, source: 4, destination: 7, value: 0.07692307692307693\n",
      "neighbor communities [8, 3]\n",
      "node: 5, source: 5, destination: 8, value: 0.07692307692307693\n",
      "choosing maximum action >>>>node: 5, source: 5, destination: 8, value: 0.07692307692307693\n",
      "neighbor communities [9, 2]\n",
      "node: 6, source: 6, destination: 9, value: 0.07692307692307693\n",
      "choosing maximum action >>>>node: 6, source: 6, destination: 9, value: 0.07692307692307693\n",
      "neighbor communities [10, 7]\n",
      "node: 7, source: 7, destination: 10, value: 0.07692307692307693\n",
      "choosing maximum action >>>>node: 7, source: 7, destination: 10, value: 0.07692307692307693\n",
      "neighbor communities [8, 10]\n",
      "node: 8, source: 8, destination: 8, value: 0.0650887573964497\n",
      "choosing maximum action >>>>node: 8, source: 8, destination: 8, value: 0.0650887573964497\n",
      "neighbor communities [9]\n",
      "node: 9, source: 9, destination: 9, value: 0.07100591715976332\n",
      "choosing maximum action >>>>node: 9, source: 9, destination: 9, value: 0.07100591715976332\n",
      "neighbor communities [8, 2, 10]\n",
      "node: 10, source: 10, destination: 8, value: 0.0591715976331361\n",
      "choosing maximum action >>>>node: 10, source: 10, destination: 8, value: 0.0591715976331361\n",
      "neighbor communities [2]\n",
      "node: 45, source: 45, destination: 2, value: 0.07100591715976332\n",
      "choosing maximum action >>>>node: 45, source: 45, destination: 2, value: 0.07100591715976332\n",
      "\n",
      "{2: {'community': 2, 'people_nodes': [1, 3, 45]}, 3: {'community': 3, 'people_nodes': [2]}, 7: {'community': 7, 'people_nodes': [4]}, 8: {'community': 8, 'people_nodes': [5, 8, 10]}, 9: {'community': 9, 'people_nodes': [6, 9]}, 10: {'community': 10, 'people_nodes': [7]}}\n",
      "adding edges from necessary\n",
      "neighbor communities [2, 3, 7, 8, 9]\n",
      "node: 2, source: 2, destination: 3, value: 0.15384615384615385\n",
      "choosing maximum action >>>>node: 2, source: 2, destination: 3, value: 0.15384615384615385\n",
      "neighbor communities [8, 3]\n",
      "node: 3, source: 3, destination: 3, value: 0.08284023668639054\n",
      "choosing maximum action >>>>node: 3, source: 3, destination: 3, value: 0.08284023668639054\n",
      "neighbor communities [10, 3]\n",
      "node: 7, source: 7, destination: 10, value: 0.07692307692307693\n",
      "choosing maximum action >>>>node: 7, source: 7, destination: 10, value: 0.07692307692307693\n",
      "neighbor communities [8, 10, 3]\n",
      "node: 8, source: 8, destination: 8, value: 0.09467455621301776\n",
      "choosing maximum action >>>>node: 8, source: 8, destination: 8, value: 0.09467455621301776\n",
      "neighbor communities [9, 3]\n",
      "node: 9, source: 9, destination: 9, value: 0.0650887573964497\n",
      "choosing maximum action >>>>node: 9, source: 9, destination: 9, value: 0.0650887573964497\n",
      "neighbor communities [8, 10]\n",
      "node: 10, source: 10, destination: 10, value: 0.0650887573964497\n",
      "choosing maximum action >>>>node: 10, source: 10, destination: 10, value: 0.0650887573964497\n",
      "\n",
      "{3: {'community': 3, 'people_nodes': [1, 3, 45, 2]}, 10: {'community': 10, 'people_nodes': [4, 7]}, 8: {'community': 8, 'people_nodes': [5, 8, 10]}, 9: {'community': 9, 'people_nodes': [6, 9]}}\n",
      "adding edges from necessary\n",
      "neighbor communities [8, 9, 10, 3]\n",
      "node: 3, source: 3, destination: 3, value: 0.11834319526627221\n",
      "choosing maximum action >>>>node: 3, source: 3, destination: 3, value: 0.11834319526627221\n",
      "neighbor communities [8, 10, 3]\n",
      "node: 10, source: 10, destination: 10, value: 0.0591715976331361\n",
      "choosing maximum action >>>>node: 10, source: 10, destination: 10, value: 0.0591715976331361\n",
      "neighbor communities [8, 10, 3]\n",
      "node: 8, source: 8, destination: 8, value: 0.09467455621301776\n",
      "choosing maximum action >>>>node: 8, source: 8, destination: 8, value: 0.09467455621301776\n",
      "neighbor communities [9, 3]\n",
      "node: 9, source: 9, destination: 9, value: 0.0650887573964497\n",
      "choosing maximum action >>>>node: 9, source: 9, destination: 9, value: 0.0650887573964497\n",
      "\n",
      "{3: {'community': 3, 'people_nodes': [1, 3, 45, 2]}, 10: {'community': 10, 'people_nodes': [4, 7]}, 8: {'community': 8, 'people_nodes': [5, 8, 10]}, 9: {'community': 9, 'people_nodes': [6, 9]}}\n",
      "adding edges from necessary\n"
     ]
    }
   ],
   "source": [
    "louvain_machine.solve_communities()"
   ]
  },
  {
   "cell_type": "code",
   "execution_count": 6,
   "metadata": {},
   "outputs": [
    {
     "data": {
      "text/plain": [
       "[[([<utils.louvain4.Action at 0x22c14ae3ca0>,\n",
       "    <utils.louvain4.Action at 0x22c14ae3cd0>,\n",
       "    <utils.louvain4.Action at 0x22c14ae3d30>,\n",
       "    <utils.louvain4.Action at 0x22c14ae3d90>,\n",
       "    <utils.louvain4.Action at 0x22c14ae3dc0>],\n",
       "   <utils.louvain4.Action at 0x22c14ae3ca0>),\n",
       "  ([<utils.louvain4.Action at 0x22c14ae3af0>,\n",
       "    <utils.louvain4.Action at 0x22c01a47730>,\n",
       "    <utils.louvain4.Action at 0x22c01a47520>],\n",
       "   <utils.louvain4.Action at 0x22c01a47730>),\n",
       "  ([<utils.louvain4.Action at 0x22c14b16280>,\n",
       "    <utils.louvain4.Action at 0x22c14b162e0>,\n",
       "    <utils.louvain4.Action at 0x22c14b162b0>],\n",
       "   <utils.louvain4.Action at 0x22c14b16280>),\n",
       "  ([<utils.louvain4.Action at 0x22c14b166d0>,\n",
       "    <utils.louvain4.Action at 0x22c14b16700>],\n",
       "   <utils.louvain4.Action at 0x22c14b16700>),\n",
       "  ([<utils.louvain4.Action at 0x22c14b16190>,\n",
       "    <utils.louvain4.Action at 0x22c14b16af0>],\n",
       "   <utils.louvain4.Action at 0x22c14b16190>),\n",
       "  ([<utils.louvain4.Action at 0x22c14b16f70>,\n",
       "    <utils.louvain4.Action at 0x22c14b16fa0>],\n",
       "   <utils.louvain4.Action at 0x22c14b16f70>),\n",
       "  ([<utils.louvain4.Action at 0x22c14b1c310>,\n",
       "    <utils.louvain4.Action at 0x22c14b1c340>],\n",
       "   <utils.louvain4.Action at 0x22c14b1c310>),\n",
       "  ([<utils.louvain4.Action at 0x22c14b1c730>,\n",
       "    <utils.louvain4.Action at 0x22c14b1c760>],\n",
       "   <utils.louvain4.Action at 0x22c14b1c730>),\n",
       "  ([<utils.louvain4.Action at 0x22c14b1cb50>],\n",
       "   <utils.louvain4.Action at 0x22c14b1cb50>),\n",
       "  ([<utils.louvain4.Action at 0x22c14b16ac0>,\n",
       "    <utils.louvain4.Action at 0x22c14b16a90>,\n",
       "    <utils.louvain4.Action at 0x22c14b16a30>],\n",
       "   <utils.louvain4.Action at 0x22c14b16ac0>),\n",
       "  ([<utils.louvain4.Action at 0x22c14b16610>],\n",
       "   <utils.louvain4.Action at 0x22c14b16610>)],\n",
       " [([<utils.louvain4.Action at 0x22c14b16640>,\n",
       "    <utils.louvain4.Action at 0x22c14b16730>,\n",
       "    <utils.louvain4.Action at 0x22c14b16670>,\n",
       "    <utils.louvain4.Action at 0x22c14b167c0>,\n",
       "    <utils.louvain4.Action at 0x22c14b16760>],\n",
       "   <utils.louvain4.Action at 0x22c14b16730>),\n",
       "  ([<utils.louvain4.Action at 0x22c14b16a00>,\n",
       "    <utils.louvain4.Action at 0x22c14b169a0>],\n",
       "   <utils.louvain4.Action at 0x22c14b169a0>),\n",
       "  ([<utils.louvain4.Action at 0x22c14b163d0>,\n",
       "    <utils.louvain4.Action at 0x22c14b16370>],\n",
       "   <utils.louvain4.Action at 0x22c14b163d0>),\n",
       "  ([<utils.louvain4.Action at 0x22c14b16f10>,\n",
       "    <utils.louvain4.Action at 0x22c14b16f40>,\n",
       "    <utils.louvain4.Action at 0x22c14b161f0>],\n",
       "   <utils.louvain4.Action at 0x22c14b16f10>),\n",
       "  ([<utils.louvain4.Action at 0x22c14b16460>,\n",
       "    <utils.louvain4.Action at 0x22c14b16490>],\n",
       "   <utils.louvain4.Action at 0x22c14b16460>),\n",
       "  ([<utils.louvain4.Action at 0x22c14b16b20>,\n",
       "    <utils.louvain4.Action at 0x22c14b16be0>],\n",
       "   <utils.louvain4.Action at 0x22c14b16be0>)],\n",
       " [([<utils.louvain4.Action at 0x22c01a476a0>,\n",
       "    <utils.louvain4.Action at 0x22c01a47700>,\n",
       "    <utils.louvain4.Action at 0x22c01a47430>,\n",
       "    <utils.louvain4.Action at 0x22c01a474c0>],\n",
       "   <utils.louvain4.Action at 0x22c01a474c0>),\n",
       "  ([<utils.louvain4.Action at 0x22c14b16850>,\n",
       "    <utils.louvain4.Action at 0x22c14b167f0>,\n",
       "    <utils.louvain4.Action at 0x22c14b16820>],\n",
       "   <utils.louvain4.Action at 0x22c14b167f0>),\n",
       "  ([<utils.louvain4.Action at 0x22c14b16c70>,\n",
       "    <utils.louvain4.Action at 0x22c14b16ca0>,\n",
       "    <utils.louvain4.Action at 0x22c14b16d60>],\n",
       "   <utils.louvain4.Action at 0x22c14b16c70>),\n",
       "  ([<utils.louvain4.Action at 0x22c14ae3ac0>,\n",
       "    <utils.louvain4.Action at 0x22c14ae3df0>],\n",
       "   <utils.louvain4.Action at 0x22c14ae3ac0>)]]"
      ]
     },
     "execution_count": 6,
     "metadata": {},
     "output_type": "execute_result"
    }
   ],
   "source": [
    "louvain_machine.action_history"
   ]
  },
  {
   "cell_type": "code",
   "execution_count": null,
   "metadata": {},
   "outputs": [],
   "source": []
  },
  {
   "cell_type": "code",
   "execution_count": 7,
   "metadata": {},
   "outputs": [
    {
     "data": {
      "text/html": [
       "<pre style=\"white-space:pre;overflow-x:auto;line-height:normal;font-family:Menlo,'DejaVu Sans Mono',consolas,'Courier New',monospace\"><span style=\"color: #7fbfbf; text-decoration-color: #7fbfbf\">[02/24/24 19:44:12] </span><span style=\"color: #008000; text-decoration-color: #008000\">INFO    </span> Animation <span style=\"color: #008000; text-decoration-color: #008000\">0</span> : Using cached data <span style=\"font-weight: bold\">(</span>hash :                           <a href=\"file://d:\\Anaconda\\lib\\site-packages\\manim\\renderer\\cairo_renderer.py\" target=\"_blank\"><span style=\"color: #7f7f7f; text-decoration-color: #7f7f7f\">cairo_renderer.py</span></a><span style=\"color: #7f7f7f; text-decoration-color: #7f7f7f\">:</span><a href=\"file://d:\\Anaconda\\lib\\site-packages\\manim\\renderer\\cairo_renderer.py#78\" target=\"_blank\"><span style=\"color: #7f7f7f; text-decoration-color: #7f7f7f\">78</span></a>\n",
       "<span style=\"color: #7fbfbf; text-decoration-color: #7fbfbf\">                    </span>         3977891868_2154923117_223132457<span style=\"font-weight: bold\">)</span>                                  <span style=\"color: #7f7f7f; text-decoration-color: #7f7f7f\">                    </span>\n",
       "</pre>\n"
      ],
      "text/plain": [
       "\u001b[2;36m[02/24/24 19:44:12]\u001b[0m\u001b[2;36m \u001b[0m\u001b[32mINFO    \u001b[0m Animation \u001b[32m0\u001b[0m : Using cached data \u001b[1m(\u001b[0mhash :                           \u001b]8;id=881247;file://d:\\Anaconda\\lib\\site-packages\\manim\\renderer\\cairo_renderer.py\u001b\\\u001b[2mcairo_renderer.py\u001b[0m\u001b]8;;\u001b\\\u001b[2m:\u001b[0m\u001b]8;id=579245;file://d:\\Anaconda\\lib\\site-packages\\manim\\renderer\\cairo_renderer.py#78\u001b\\\u001b[2m78\u001b[0m\u001b]8;;\u001b\\\n",
       "\u001b[2;36m                    \u001b[0m         3977891868_2154923117_223132457\u001b[1m)\u001b[0m                                  \u001b[2m                    \u001b[0m\n"
      ]
     },
     "metadata": {},
     "output_type": "display_data"
    },
    {
     "name": "stderr",
     "output_type": "stream",
     "text": [
      "                                                                               \r"
     ]
    },
    {
     "name": "stdout",
     "output_type": "stream",
     "text": [
      "the edges\n",
      "[(1, 2), (1, 3), (1, 4), (1, 10), (1, 45), (2, 3), (2, 5), (3, 6), (4, 7), (5, 8), (6, 9), (7, 10), (8, 10)]\n"
     ]
    },
    {
     "data": {
      "text/html": [
       "<pre style=\"white-space:pre;overflow-x:auto;line-height:normal;font-family:Menlo,'DejaVu Sans Mono',consolas,'Courier New',monospace\"><span style=\"color: #7fbfbf; text-decoration-color: #7fbfbf\">[02/24/24 19:44:13] </span><span style=\"color: #008000; text-decoration-color: #008000\">INFO    </span> Animation <span style=\"color: #008000; text-decoration-color: #008000\">1</span> : Using cached data <span style=\"font-weight: bold\">(</span>hash :                           <a href=\"file://d:\\Anaconda\\lib\\site-packages\\manim\\renderer\\cairo_renderer.py\" target=\"_blank\"><span style=\"color: #7f7f7f; text-decoration-color: #7f7f7f\">cairo_renderer.py</span></a><span style=\"color: #7f7f7f; text-decoration-color: #7f7f7f\">:</span><a href=\"file://d:\\Anaconda\\lib\\site-packages\\manim\\renderer\\cairo_renderer.py#78\" target=\"_blank\"><span style=\"color: #7f7f7f; text-decoration-color: #7f7f7f\">78</span></a>\n",
       "<span style=\"color: #7fbfbf; text-decoration-color: #7fbfbf\">                    </span>         2852726489_311951375_1962531761<span style=\"font-weight: bold\">)</span>                                  <span style=\"color: #7f7f7f; text-decoration-color: #7f7f7f\">                    </span>\n",
       "</pre>\n"
      ],
      "text/plain": [
       "\u001b[2;36m[02/24/24 19:44:13]\u001b[0m\u001b[2;36m \u001b[0m\u001b[32mINFO    \u001b[0m Animation \u001b[32m1\u001b[0m : Using cached data \u001b[1m(\u001b[0mhash :                           \u001b]8;id=610072;file://d:\\Anaconda\\lib\\site-packages\\manim\\renderer\\cairo_renderer.py\u001b\\\u001b[2mcairo_renderer.py\u001b[0m\u001b]8;;\u001b\\\u001b[2m:\u001b[0m\u001b]8;id=850758;file://d:\\Anaconda\\lib\\site-packages\\manim\\renderer\\cairo_renderer.py#78\u001b\\\u001b[2m78\u001b[0m\u001b]8;;\u001b\\\n",
       "\u001b[2;36m                    \u001b[0m         2852726489_311951375_1962531761\u001b[1m)\u001b[0m                                  \u001b[2m                    \u001b[0m\n"
      ]
     },
     "metadata": {},
     "output_type": "display_data"
    },
    {
     "name": "stderr",
     "output_type": "stream",
     "text": [
      "                                                                                                        \r"
     ]
    },
    {
     "name": "stdout",
     "output_type": "stream",
     "text": [
      "len(graph history): 3\n",
      "len(actions history): 3\n",
      "the edges\n",
      "[(2, 3), (2, 7), (2, 8), (2, 9), (3, 8), (7, 10), (8, 10)]\n"
     ]
    },
    {
     "data": {
      "text/html": [
       "<pre style=\"white-space:pre;overflow-x:auto;line-height:normal;font-family:Menlo,'DejaVu Sans Mono',consolas,'Courier New',monospace\"><span style=\"color: #7fbfbf; text-decoration-color: #7fbfbf\">[02/24/24 19:44:14] </span><span style=\"color: #008000; text-decoration-color: #008000\">INFO    </span> Animation <span style=\"color: #008000; text-decoration-color: #008000\">2</span> : Using cached data <span style=\"font-weight: bold\">(</span>hash :                           <a href=\"file://d:\\Anaconda\\lib\\site-packages\\manim\\renderer\\cairo_renderer.py\" target=\"_blank\"><span style=\"color: #7f7f7f; text-decoration-color: #7f7f7f\">cairo_renderer.py</span></a><span style=\"color: #7f7f7f; text-decoration-color: #7f7f7f\">:</span><a href=\"file://d:\\Anaconda\\lib\\site-packages\\manim\\renderer\\cairo_renderer.py#78\" target=\"_blank\"><span style=\"color: #7f7f7f; text-decoration-color: #7f7f7f\">78</span></a>\n",
       "<span style=\"color: #7fbfbf; text-decoration-color: #7fbfbf\">                    </span>         2852726489_4109758515_1962531761<span style=\"font-weight: bold\">)</span>                                 <span style=\"color: #7f7f7f; text-decoration-color: #7f7f7f\">                    </span>\n",
       "</pre>\n"
      ],
      "text/plain": [
       "\u001b[2;36m[02/24/24 19:44:14]\u001b[0m\u001b[2;36m \u001b[0m\u001b[32mINFO    \u001b[0m Animation \u001b[32m2\u001b[0m : Using cached data \u001b[1m(\u001b[0mhash :                           \u001b]8;id=597183;file://d:\\Anaconda\\lib\\site-packages\\manim\\renderer\\cairo_renderer.py\u001b\\\u001b[2mcairo_renderer.py\u001b[0m\u001b]8;;\u001b\\\u001b[2m:\u001b[0m\u001b]8;id=934237;file://d:\\Anaconda\\lib\\site-packages\\manim\\renderer\\cairo_renderer.py#78\u001b\\\u001b[2m78\u001b[0m\u001b]8;;\u001b\\\n",
       "\u001b[2;36m                    \u001b[0m         2852726489_4109758515_1962531761\u001b[1m)\u001b[0m                                 \u001b[2m                    \u001b[0m\n"
      ]
     },
     "metadata": {},
     "output_type": "display_data"
    },
    {
     "name": "stderr",
     "output_type": "stream",
     "text": [
      "                                                                                                                 \r"
     ]
    },
    {
     "data": {
      "text/html": [
       "<pre style=\"white-space:pre;overflow-x:auto;line-height:normal;font-family:Menlo,'DejaVu Sans Mono',consolas,'Courier New',monospace\"><span style=\"color: #7fbfbf; text-decoration-color: #7fbfbf\">                    </span><span style=\"color: #008000; text-decoration-color: #008000\">INFO    </span> Animation <span style=\"color: #008000; text-decoration-color: #008000\">3</span> : Using cached data <span style=\"font-weight: bold\">(</span>hash :                           <a href=\"file://d:\\Anaconda\\lib\\site-packages\\manim\\renderer\\cairo_renderer.py\" target=\"_blank\"><span style=\"color: #7f7f7f; text-decoration-color: #7f7f7f\">cairo_renderer.py</span></a><span style=\"color: #7f7f7f; text-decoration-color: #7f7f7f\">:</span><a href=\"file://d:\\Anaconda\\lib\\site-packages\\manim\\renderer\\cairo_renderer.py#78\" target=\"_blank\"><span style=\"color: #7f7f7f; text-decoration-color: #7f7f7f\">78</span></a>\n",
       "<span style=\"color: #7fbfbf; text-decoration-color: #7fbfbf\">                    </span>         2852726489_1122450819_3985644553<span style=\"font-weight: bold\">)</span>                                 <span style=\"color: #7f7f7f; text-decoration-color: #7f7f7f\">                    </span>\n",
       "</pre>\n"
      ],
      "text/plain": [
       "\u001b[2;36m                   \u001b[0m\u001b[2;36m \u001b[0m\u001b[32mINFO    \u001b[0m Animation \u001b[32m3\u001b[0m : Using cached data \u001b[1m(\u001b[0mhash :                           \u001b]8;id=765050;file://d:\\Anaconda\\lib\\site-packages\\manim\\renderer\\cairo_renderer.py\u001b\\\u001b[2mcairo_renderer.py\u001b[0m\u001b]8;;\u001b\\\u001b[2m:\u001b[0m\u001b]8;id=710251;file://d:\\Anaconda\\lib\\site-packages\\manim\\renderer\\cairo_renderer.py#78\u001b\\\u001b[2m78\u001b[0m\u001b]8;;\u001b\\\n",
       "\u001b[2;36m                    \u001b[0m         2852726489_1122450819_3985644553\u001b[1m)\u001b[0m                                 \u001b[2m                    \u001b[0m\n"
      ]
     },
     "metadata": {},
     "output_type": "display_data"
    },
    {
     "name": "stdout",
     "output_type": "stream",
     "text": [
      "the edges\n",
      "[(3, 10), (3, 8), (3, 9), (10, 8)]\n"
     ]
    },
    {
     "data": {
      "text/html": [
       "<pre style=\"white-space:pre;overflow-x:auto;line-height:normal;font-family:Menlo,'DejaVu Sans Mono',consolas,'Courier New',monospace\"><span style=\"color: #7fbfbf; text-decoration-color: #7fbfbf\">[02/24/24 19:44:15] </span><span style=\"color: #008000; text-decoration-color: #008000\">INFO    </span> Animation <span style=\"color: #008000; text-decoration-color: #008000\">4</span> : Using cached data <span style=\"font-weight: bold\">(</span>hash :                           <a href=\"file://d:\\Anaconda\\lib\\site-packages\\manim\\renderer\\cairo_renderer.py\" target=\"_blank\"><span style=\"color: #7f7f7f; text-decoration-color: #7f7f7f\">cairo_renderer.py</span></a><span style=\"color: #7f7f7f; text-decoration-color: #7f7f7f\">:</span><a href=\"file://d:\\Anaconda\\lib\\site-packages\\manim\\renderer\\cairo_renderer.py#78\" target=\"_blank\"><span style=\"color: #7f7f7f; text-decoration-color: #7f7f7f\">78</span></a>\n",
       "<span style=\"color: #7fbfbf; text-decoration-color: #7fbfbf\">                    </span>         2852726489_553633082_2857633745<span style=\"font-weight: bold\">)</span>                                  <span style=\"color: #7f7f7f; text-decoration-color: #7f7f7f\">                    </span>\n",
       "</pre>\n"
      ],
      "text/plain": [
       "\u001b[2;36m[02/24/24 19:44:15]\u001b[0m\u001b[2;36m \u001b[0m\u001b[32mINFO    \u001b[0m Animation \u001b[32m4\u001b[0m : Using cached data \u001b[1m(\u001b[0mhash :                           \u001b]8;id=456662;file://d:\\Anaconda\\lib\\site-packages\\manim\\renderer\\cairo_renderer.py\u001b\\\u001b[2mcairo_renderer.py\u001b[0m\u001b]8;;\u001b\\\u001b[2m:\u001b[0m\u001b]8;id=921020;file://d:\\Anaconda\\lib\\site-packages\\manim\\renderer\\cairo_renderer.py#78\u001b\\\u001b[2m78\u001b[0m\u001b]8;;\u001b\\\n",
       "\u001b[2;36m                    \u001b[0m         2852726489_553633082_2857633745\u001b[1m)\u001b[0m                                  \u001b[2m                    \u001b[0m\n"
      ]
     },
     "metadata": {},
     "output_type": "display_data"
    },
    {
     "name": "stderr",
     "output_type": "stream",
     "text": [
      "                                                                                                                 \r"
     ]
    },
    {
     "data": {
      "text/html": [
       "<pre style=\"white-space:pre;overflow-x:auto;line-height:normal;font-family:Menlo,'DejaVu Sans Mono',consolas,'Courier New',monospace\"><span style=\"color: #7fbfbf; text-decoration-color: #7fbfbf\">[02/24/24 19:44:16] </span><span style=\"color: #008000; text-decoration-color: #008000\">INFO    </span> Animation <span style=\"color: #008000; text-decoration-color: #008000\">5</span> : Using cached data <span style=\"font-weight: bold\">(</span>hash :                           <a href=\"file://d:\\Anaconda\\lib\\site-packages\\manim\\renderer\\cairo_renderer.py\" target=\"_blank\"><span style=\"color: #7f7f7f; text-decoration-color: #7f7f7f\">cairo_renderer.py</span></a><span style=\"color: #7f7f7f; text-decoration-color: #7f7f7f\">:</span><a href=\"file://d:\\Anaconda\\lib\\site-packages\\manim\\renderer\\cairo_renderer.py#78\" target=\"_blank\"><span style=\"color: #7f7f7f; text-decoration-color: #7f7f7f\">78</span></a>\n",
       "<span style=\"color: #7fbfbf; text-decoration-color: #7fbfbf\">                    </span>         2852726489_1122450819_3951094698<span style=\"font-weight: bold\">)</span>                                 <span style=\"color: #7f7f7f; text-decoration-color: #7f7f7f\">                    </span>\n",
       "</pre>\n"
      ],
      "text/plain": [
       "\u001b[2;36m[02/24/24 19:44:16]\u001b[0m\u001b[2;36m \u001b[0m\u001b[32mINFO    \u001b[0m Animation \u001b[32m5\u001b[0m : Using cached data \u001b[1m(\u001b[0mhash :                           \u001b]8;id=373499;file://d:\\Anaconda\\lib\\site-packages\\manim\\renderer\\cairo_renderer.py\u001b\\\u001b[2mcairo_renderer.py\u001b[0m\u001b]8;;\u001b\\\u001b[2m:\u001b[0m\u001b]8;id=989687;file://d:\\Anaconda\\lib\\site-packages\\manim\\renderer\\cairo_renderer.py#78\u001b\\\u001b[2m78\u001b[0m\u001b]8;;\u001b\\\n",
       "\u001b[2;36m                    \u001b[0m         2852726489_1122450819_3951094698\u001b[1m)\u001b[0m                                 \u001b[2m                    \u001b[0m\n"
      ]
     },
     "metadata": {},
     "output_type": "display_data"
    },
    {
     "data": {
      "text/html": [
       "<pre style=\"white-space:pre;overflow-x:auto;line-height:normal;font-family:Menlo,'DejaVu Sans Mono',consolas,'Courier New',monospace\"><span style=\"color: #7fbfbf; text-decoration-color: #7fbfbf\">                    </span><span style=\"color: #008000; text-decoration-color: #008000\">INFO    </span> Combining to Movie file.                                      <a href=\"file://d:\\Anaconda\\lib\\site-packages\\manim\\scene\\scene_file_writer.py\" target=\"_blank\"><span style=\"color: #7f7f7f; text-decoration-color: #7f7f7f\">scene_file_writer.py</span></a><span style=\"color: #7f7f7f; text-decoration-color: #7f7f7f\">:</span><a href=\"file://d:\\Anaconda\\lib\\site-packages\\manim\\scene\\scene_file_writer.py#617\" target=\"_blank\"><span style=\"color: #7f7f7f; text-decoration-color: #7f7f7f\">617</span></a>\n",
       "</pre>\n"
      ],
      "text/plain": [
       "\u001b[2;36m                   \u001b[0m\u001b[2;36m \u001b[0m\u001b[32mINFO    \u001b[0m Combining to Movie file.                                      \u001b]8;id=913435;file://d:\\Anaconda\\lib\\site-packages\\manim\\scene\\scene_file_writer.py\u001b\\\u001b[2mscene_file_writer.py\u001b[0m\u001b]8;;\u001b\\\u001b[2m:\u001b[0m\u001b]8;id=769155;file://d:\\Anaconda\\lib\\site-packages\\manim\\scene\\scene_file_writer.py#617\u001b\\\u001b[2m617\u001b[0m\u001b]8;;\u001b\\\n"
      ]
     },
     "metadata": {},
     "output_type": "display_data"
    },
    {
     "data": {
      "text/html": [
       "<pre style=\"white-space:pre;overflow-x:auto;line-height:normal;font-family:Menlo,'DejaVu Sans Mono',consolas,'Courier New',monospace\"><span style=\"color: #7fbfbf; text-decoration-color: #7fbfbf\">                    </span><span style=\"color: #008000; text-decoration-color: #008000\">INFO    </span>                                                               <a href=\"file://d:\\Anaconda\\lib\\site-packages\\manim\\scene\\scene_file_writer.py\" target=\"_blank\"><span style=\"color: #7f7f7f; text-decoration-color: #7f7f7f\">scene_file_writer.py</span></a><span style=\"color: #7f7f7f; text-decoration-color: #7f7f7f\">:</span><a href=\"file://d:\\Anaconda\\lib\\site-packages\\manim\\scene\\scene_file_writer.py#735\" target=\"_blank\"><span style=\"color: #7f7f7f; text-decoration-color: #7f7f7f\">735</span></a>\n",
       "<span style=\"color: #7fbfbf; text-decoration-color: #7fbfbf\">                    </span>         <span style=\"color: #808000; text-decoration-color: #808000; font-weight: bold\">File</span> ready at                                                 <span style=\"color: #7f7f7f; text-decoration-color: #7f7f7f\">                        </span>\n",
       "<span style=\"color: #7fbfbf; text-decoration-color: #7fbfbf\">                    </span>         <span style=\"color: #008000; text-decoration-color: #008000\">'C:\\Users\\ramzi\\OneDrive\\Bureau\\AcademicResources\\S2\\PRJ\\Week</span> <span style=\"color: #7f7f7f; text-decoration-color: #7f7f7f\">                        </span>\n",
       "<span style=\"color: #7fbfbf; text-decoration-color: #7fbfbf\">                    </span>         <span style=\"color: #008000; text-decoration-color: #008000\">2_Feb_22\\algorithm_visualization\\notebook\\media\\videos\\1080p6</span> <span style=\"color: #7f7f7f; text-decoration-color: #7f7f7f\">                        </span>\n",
       "<span style=\"color: #7fbfbf; text-decoration-color: #7fbfbf\">                    </span>         <span style=\"color: #008000; text-decoration-color: #008000\">0\\LouvainScene.mp4'</span>                                           <span style=\"color: #7f7f7f; text-decoration-color: #7f7f7f\">                        </span>\n",
       "<span style=\"color: #7fbfbf; text-decoration-color: #7fbfbf\">                    </span>                                                                       <span style=\"color: #7f7f7f; text-decoration-color: #7f7f7f\">                        </span>\n",
       "</pre>\n"
      ],
      "text/plain": [
       "\u001b[2;36m                   \u001b[0m\u001b[2;36m \u001b[0m\u001b[32mINFO    \u001b[0m                                                               \u001b]8;id=997173;file://d:\\Anaconda\\lib\\site-packages\\manim\\scene\\scene_file_writer.py\u001b\\\u001b[2mscene_file_writer.py\u001b[0m\u001b]8;;\u001b\\\u001b[2m:\u001b[0m\u001b]8;id=882661;file://d:\\Anaconda\\lib\\site-packages\\manim\\scene\\scene_file_writer.py#735\u001b\\\u001b[2m735\u001b[0m\u001b]8;;\u001b\\\n",
       "\u001b[2;36m                    \u001b[0m         \u001b[1;33mFile\u001b[0m ready at                                                 \u001b[2m                        \u001b[0m\n",
       "\u001b[2;36m                    \u001b[0m         \u001b[32m'C:\\Users\\ramzi\\OneDrive\\Bureau\\AcademicResources\\S2\\PRJ\\Week\u001b[0m \u001b[2m                        \u001b[0m\n",
       "\u001b[2;36m                    \u001b[0m         \u001b[32m2_Feb_22\\algorithm_visualization\\notebook\\media\\videos\\1080p6\u001b[0m \u001b[2m                        \u001b[0m\n",
       "\u001b[2;36m                    \u001b[0m         \u001b[32m0\\LouvainScene.mp4'\u001b[0m                                           \u001b[2m                        \u001b[0m\n",
       "\u001b[2;36m                    \u001b[0m                                                                       \u001b[2m                        \u001b[0m\n"
      ]
     },
     "metadata": {},
     "output_type": "display_data"
    },
    {
     "data": {
      "text/html": [
       "<pre style=\"white-space:pre;overflow-x:auto;line-height:normal;font-family:Menlo,'DejaVu Sans Mono',consolas,'Courier New',monospace\"><span style=\"color: #7fbfbf; text-decoration-color: #7fbfbf\">                    </span><span style=\"color: #008000; text-decoration-color: #008000\">INFO    </span> The partial movie directory is full <span style=\"font-weight: bold\">(</span>&gt; <span style=\"color: #008000; text-decoration-color: #008000\">100</span> files<span style=\"font-weight: bold\">)</span>. Therefore, <a href=\"file://d:\\Anaconda\\lib\\site-packages\\manim\\scene\\scene_file_writer.py\" target=\"_blank\"><span style=\"color: #7f7f7f; text-decoration-color: #7f7f7f\">scene_file_writer.py</span></a><span style=\"color: #7f7f7f; text-decoration-color: #7f7f7f\">:</span><a href=\"file://d:\\Anaconda\\lib\\site-packages\\manim\\scene\\scene_file_writer.py#707\" target=\"_blank\"><span style=\"color: #7f7f7f; text-decoration-color: #7f7f7f\">707</span></a>\n",
       "<span style=\"color: #7fbfbf; text-decoration-color: #7fbfbf\">                    </span>         manim has removed the <span style=\"color: #008000; text-decoration-color: #008000\">5</span> oldest <span style=\"color: #800080; text-decoration-color: #800080; font-weight: bold\">file</span><span style=\"font-weight: bold\">(</span>s<span style=\"font-weight: bold\">)</span>. You can change this   <span style=\"color: #7f7f7f; text-decoration-color: #7f7f7f\">                        </span>\n",
       "<span style=\"color: #7fbfbf; text-decoration-color: #7fbfbf\">                    </span>         behaviour by changing max_files_cached in config.             <span style=\"color: #7f7f7f; text-decoration-color: #7f7f7f\">                        </span>\n",
       "</pre>\n"
      ],
      "text/plain": [
       "\u001b[2;36m                   \u001b[0m\u001b[2;36m \u001b[0m\u001b[32mINFO    \u001b[0m The partial movie directory is full \u001b[1m(\u001b[0m> \u001b[32m100\u001b[0m files\u001b[1m)\u001b[0m. Therefore, \u001b]8;id=744306;file://d:\\Anaconda\\lib\\site-packages\\manim\\scene\\scene_file_writer.py\u001b\\\u001b[2mscene_file_writer.py\u001b[0m\u001b]8;;\u001b\\\u001b[2m:\u001b[0m\u001b]8;id=933300;file://d:\\Anaconda\\lib\\site-packages\\manim\\scene\\scene_file_writer.py#707\u001b\\\u001b[2m707\u001b[0m\u001b]8;;\u001b\\\n",
       "\u001b[2;36m                    \u001b[0m         manim has removed the \u001b[32m5\u001b[0m oldest \u001b[1;35mfile\u001b[0m\u001b[1m(\u001b[0ms\u001b[1m)\u001b[0m. You can change this   \u001b[2m                        \u001b[0m\n",
       "\u001b[2;36m                    \u001b[0m         behaviour by changing max_files_cached in config.             \u001b[2m                        \u001b[0m\n"
      ]
     },
     "metadata": {},
     "output_type": "display_data"
    },
    {
     "data": {
      "text/html": [
       "<pre style=\"white-space:pre;overflow-x:auto;line-height:normal;font-family:Menlo,'DejaVu Sans Mono',consolas,'Courier New',monospace\"><span style=\"color: #7fbfbf; text-decoration-color: #7fbfbf\">                    </span><span style=\"color: #008000; text-decoration-color: #008000\">INFO    </span> <span style=\"color: #808000; text-decoration-color: #808000; font-weight: bold\">Rendered</span> LouvainScene                                                     <a href=\"file://d:\\Anaconda\\lib\\site-packages\\manim\\scene\\scene.py\" target=\"_blank\"><span style=\"color: #7f7f7f; text-decoration-color: #7f7f7f\">scene.py</span></a><span style=\"color: #7f7f7f; text-decoration-color: #7f7f7f\">:</span><a href=\"file://d:\\Anaconda\\lib\\site-packages\\manim\\scene\\scene.py#241\" target=\"_blank\"><span style=\"color: #7f7f7f; text-decoration-color: #7f7f7f\">241</span></a>\n",
       "<span style=\"color: #7fbfbf; text-decoration-color: #7fbfbf\">                    </span>         <span style=\"color: #808000; text-decoration-color: #808000; font-weight: bold\">Played</span> <span style=\"color: #008000; text-decoration-color: #008000\">6</span> <span style=\"color: #808000; text-decoration-color: #808000; font-weight: bold\">animations</span>                                                       <span style=\"color: #7f7f7f; text-decoration-color: #7f7f7f\">            </span>\n",
       "</pre>\n"
      ],
      "text/plain": [
       "\u001b[2;36m                   \u001b[0m\u001b[2;36m \u001b[0m\u001b[32mINFO    \u001b[0m \u001b[1;33mRendered\u001b[0m LouvainScene                                                     \u001b]8;id=423519;file://d:\\Anaconda\\lib\\site-packages\\manim\\scene\\scene.py\u001b\\\u001b[2mscene.py\u001b[0m\u001b]8;;\u001b\\\u001b[2m:\u001b[0m\u001b]8;id=663127;file://d:\\Anaconda\\lib\\site-packages\\manim\\scene\\scene.py#241\u001b\\\u001b[2m241\u001b[0m\u001b]8;;\u001b\\\n",
       "\u001b[2;36m                    \u001b[0m         \u001b[1;33mPlayed\u001b[0m \u001b[32m6\u001b[0m \u001b[1;33manimations\u001b[0m                                                       \u001b[2m            \u001b[0m\n"
      ]
     },
     "metadata": {},
     "output_type": "display_data"
    }
   ],
   "source": [
    "scene = LouvainScene(None)\n",
    "scene.consider_louvain_machine(louvain_machine)\n",
    "scene.render()"
   ]
  },
  {
   "cell_type": "code",
   "execution_count": null,
   "metadata": {},
   "outputs": [],
   "source": []
  },
  {
   "cell_type": "code",
   "execution_count": null,
   "metadata": {},
   "outputs": [],
   "source": []
  }
 ],
 "metadata": {
  "kernelspec": {
   "display_name": "base",
   "language": "python",
   "name": "python3"
  },
  "language_info": {
   "codemirror_mode": {
    "name": "ipython",
    "version": 3
   },
   "file_extension": ".py",
   "mimetype": "text/x-python",
   "name": "python",
   "nbconvert_exporter": "python",
   "pygments_lexer": "ipython3",
   "version": "3.8.8"
  }
 },
 "nbformat": 4,
 "nbformat_minor": 2
}
