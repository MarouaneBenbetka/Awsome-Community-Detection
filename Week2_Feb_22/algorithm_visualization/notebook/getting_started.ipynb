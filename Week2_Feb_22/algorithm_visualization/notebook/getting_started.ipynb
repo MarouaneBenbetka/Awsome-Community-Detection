{
 "cells": [
  {
   "cell_type": "code",
   "execution_count": 1,
   "id": "initial_id",
   "metadata": {
    "ExecuteTime": {
     "end_time": "2024-02-20T18:38:09.008629400Z",
     "start_time": "2024-02-20T18:38:06.338644800Z"
    },
    "collapsed": true
   },
   "outputs": [
    {
     "data": {
      "text/html": [
       "<pre style=\"white-space:pre;overflow-x:auto;line-height:normal;font-family:Menlo,'DejaVu Sans Mono',consolas,'Courier New',monospace\">Manim Community <span style=\"color: #008000; text-decoration-color: #008000\">v0.18.0</span>\n",
       "\n",
       "</pre>\n"
      ],
      "text/plain": [
       "Manim Community \u001b[32mv0.\u001b[0m\u001b[32m18.0\u001b[0m\n",
       "\n"
      ]
     },
     "metadata": {},
     "output_type": "display_data"
    }
   ],
   "source": [
    "from manim import *"
   ]
  },
  {
   "cell_type": "code",
   "execution_count": 2,
   "id": "9e0f9597d1b2599f",
   "metadata": {
    "ExecuteTime": {
     "end_time": "2024-02-20T18:38:55.717894700Z",
     "start_time": "2024-02-20T18:38:09.011630100Z"
    },
    "collapsed": false
   },
   "outputs": [
    {
     "data": {
      "text/html": [
       "<video src=\"media\\jupyter\\GraphScene@2024-02-20@19-41-04.mp4\" controls autoplay loop style=\"max-width: 60%;\"  >\n",
       "      Your browser does not support the <code>video</code> element.\n",
       "    </video>"
      ],
      "text/plain": [
       "<IPython.core.display.Video object>"
      ]
     },
     "metadata": {},
     "output_type": "display_data"
    }
   ],
   "source": [
    "%%manim -ql -v WARNING GraphScene\n",
    "\n",
    "# from utils.graph import SquareToCircle\n",
    "from utils.louvain_graph_visualization import GraphScene\n",
    "scene = GraphScene()"
   ]
  },
  {
   "cell_type": "code",
   "execution_count": null,
   "id": "65915c4b813fa5a4",
   "metadata": {
    "ExecuteTime": {
     "end_time": "2024-02-20T18:38:55.749403200Z",
     "start_time": "2024-02-20T18:38:55.718894400Z"
    },
    "collapsed": false
   },
   "outputs": [],
   "source": []
  }
 ],
 "metadata": {
  "kernelspec": {
   "display_name": "Python 3",
   "language": "python",
   "name": "python3"
  },
  "language_info": {
   "codemirror_mode": {
    "name": "ipython",
    "version": 3
   },
   "file_extension": ".py",
   "mimetype": "text/x-python",
   "name": "python",
   "nbconvert_exporter": "python",
   "pygments_lexer": "ipython3",
   "version": "3.8.8"
  }
 },
 "nbformat": 4,
 "nbformat_minor": 5
}
