{
 "cells": [
  {
   "cell_type": "code",
   "execution_count": 2,
   "id": "initial_id",
   "metadata": {
    "collapsed": true,
    "ExecuteTime": {
     "end_time": "2024-02-20T06:30:46.773344600Z",
     "start_time": "2024-02-20T06:30:40.846045900Z"
    }
   },
   "outputs": [
    {
     "ename": "ContextualVersionConflict",
     "evalue": "(watchdog 1.0.2 (d:\\anaconda\\lib\\site-packages), Requirement.parse('watchdog<=3.0.0,>=2.1'), {'manim'})",
     "output_type": "error",
     "traceback": [
      "\u001B[1;31m---------------------------------------------------------------------------\u001B[0m",
      "\u001B[1;31mContextualVersionConflict\u001B[0m                 Traceback (most recent call last)",
      "\u001B[1;32m<ipython-input-2-002cc46713e5>\u001B[0m in \u001B[0;36m<module>\u001B[1;34m\u001B[0m\n\u001B[1;32m----> 1\u001B[1;33m \u001B[1;32mfrom\u001B[0m \u001B[0mmanim\u001B[0m \u001B[1;32mimport\u001B[0m \u001B[1;33m*\u001B[0m\u001B[1;33m\u001B[0m\u001B[1;33m\u001B[0m\u001B[0m\n\u001B[0m",
      "\u001B[1;32mD:\\Anaconda\\lib\\site-packages\\manim\\__init__.py\u001B[0m in \u001B[0;36m<module>\u001B[1;34m\u001B[0m\n\u001B[0;32m      6\u001B[0m \u001B[1;32mimport\u001B[0m \u001B[0mpkg_resources\u001B[0m\u001B[1;33m\u001B[0m\u001B[1;33m\u001B[0m\u001B[0m\n\u001B[0;32m      7\u001B[0m \u001B[1;33m\u001B[0m\u001B[0m\n\u001B[1;32m----> 8\u001B[1;33m \u001B[0m__version__\u001B[0m\u001B[1;33m:\u001B[0m \u001B[0mstr\u001B[0m \u001B[1;33m=\u001B[0m \u001B[0mpkg_resources\u001B[0m\u001B[1;33m.\u001B[0m\u001B[0mget_distribution\u001B[0m\u001B[1;33m(\u001B[0m\u001B[0m__name__\u001B[0m\u001B[1;33m)\u001B[0m\u001B[1;33m.\u001B[0m\u001B[0mversion\u001B[0m\u001B[1;33m\u001B[0m\u001B[1;33m\u001B[0m\u001B[0m\n\u001B[0m\u001B[0;32m      9\u001B[0m \u001B[1;33m\u001B[0m\u001B[0m\n\u001B[0;32m     10\u001B[0m \u001B[1;33m\u001B[0m\u001B[0m\n",
      "\u001B[1;32mD:\\Anaconda\\lib\\site-packages\\pkg_resources\\__init__.py\u001B[0m in \u001B[0;36mget_distribution\u001B[1;34m(dist)\u001B[0m\n\u001B[0;32m    464\u001B[0m         \u001B[0mdist\u001B[0m \u001B[1;33m=\u001B[0m \u001B[0mRequirement\u001B[0m\u001B[1;33m.\u001B[0m\u001B[0mparse\u001B[0m\u001B[1;33m(\u001B[0m\u001B[0mdist\u001B[0m\u001B[1;33m)\u001B[0m\u001B[1;33m\u001B[0m\u001B[1;33m\u001B[0m\u001B[0m\n\u001B[0;32m    465\u001B[0m     \u001B[1;32mif\u001B[0m \u001B[0misinstance\u001B[0m\u001B[1;33m(\u001B[0m\u001B[0mdist\u001B[0m\u001B[1;33m,\u001B[0m \u001B[0mRequirement\u001B[0m\u001B[1;33m)\u001B[0m\u001B[1;33m:\u001B[0m\u001B[1;33m\u001B[0m\u001B[1;33m\u001B[0m\u001B[0m\n\u001B[1;32m--> 466\u001B[1;33m         \u001B[0mdist\u001B[0m \u001B[1;33m=\u001B[0m \u001B[0mget_provider\u001B[0m\u001B[1;33m(\u001B[0m\u001B[0mdist\u001B[0m\u001B[1;33m)\u001B[0m\u001B[1;33m\u001B[0m\u001B[1;33m\u001B[0m\u001B[0m\n\u001B[0m\u001B[0;32m    467\u001B[0m     \u001B[1;32mif\u001B[0m \u001B[1;32mnot\u001B[0m \u001B[0misinstance\u001B[0m\u001B[1;33m(\u001B[0m\u001B[0mdist\u001B[0m\u001B[1;33m,\u001B[0m \u001B[0mDistribution\u001B[0m\u001B[1;33m)\u001B[0m\u001B[1;33m:\u001B[0m\u001B[1;33m\u001B[0m\u001B[1;33m\u001B[0m\u001B[0m\n\u001B[0;32m    468\u001B[0m         \u001B[1;32mraise\u001B[0m \u001B[0mTypeError\u001B[0m\u001B[1;33m(\u001B[0m\u001B[1;34m\"Expected string, Requirement, or Distribution\"\u001B[0m\u001B[1;33m,\u001B[0m \u001B[0mdist\u001B[0m\u001B[1;33m)\u001B[0m\u001B[1;33m\u001B[0m\u001B[1;33m\u001B[0m\u001B[0m\n",
      "\u001B[1;32mD:\\Anaconda\\lib\\site-packages\\pkg_resources\\__init__.py\u001B[0m in \u001B[0;36mget_provider\u001B[1;34m(moduleOrReq)\u001B[0m\n\u001B[0;32m    340\u001B[0m     \u001B[1;34m\"\"\"Return an IResourceProvider for the named module or requirement\"\"\"\u001B[0m\u001B[1;33m\u001B[0m\u001B[1;33m\u001B[0m\u001B[0m\n\u001B[0;32m    341\u001B[0m     \u001B[1;32mif\u001B[0m \u001B[0misinstance\u001B[0m\u001B[1;33m(\u001B[0m\u001B[0mmoduleOrReq\u001B[0m\u001B[1;33m,\u001B[0m \u001B[0mRequirement\u001B[0m\u001B[1;33m)\u001B[0m\u001B[1;33m:\u001B[0m\u001B[1;33m\u001B[0m\u001B[1;33m\u001B[0m\u001B[0m\n\u001B[1;32m--> 342\u001B[1;33m         \u001B[1;32mreturn\u001B[0m \u001B[0mworking_set\u001B[0m\u001B[1;33m.\u001B[0m\u001B[0mfind\u001B[0m\u001B[1;33m(\u001B[0m\u001B[0mmoduleOrReq\u001B[0m\u001B[1;33m)\u001B[0m \u001B[1;32mor\u001B[0m \u001B[0mrequire\u001B[0m\u001B[1;33m(\u001B[0m\u001B[0mstr\u001B[0m\u001B[1;33m(\u001B[0m\u001B[0mmoduleOrReq\u001B[0m\u001B[1;33m)\u001B[0m\u001B[1;33m)\u001B[0m\u001B[1;33m[\u001B[0m\u001B[1;36m0\u001B[0m\u001B[1;33m]\u001B[0m\u001B[1;33m\u001B[0m\u001B[1;33m\u001B[0m\u001B[0m\n\u001B[0m\u001B[0;32m    343\u001B[0m     \u001B[1;32mtry\u001B[0m\u001B[1;33m:\u001B[0m\u001B[1;33m\u001B[0m\u001B[1;33m\u001B[0m\u001B[0m\n\u001B[0;32m    344\u001B[0m         \u001B[0mmodule\u001B[0m \u001B[1;33m=\u001B[0m \u001B[0msys\u001B[0m\u001B[1;33m.\u001B[0m\u001B[0mmodules\u001B[0m\u001B[1;33m[\u001B[0m\u001B[0mmoduleOrReq\u001B[0m\u001B[1;33m]\u001B[0m\u001B[1;33m\u001B[0m\u001B[1;33m\u001B[0m\u001B[0m\n",
      "\u001B[1;32mD:\\Anaconda\\lib\\site-packages\\pkg_resources\\__init__.py\u001B[0m in \u001B[0;36mrequire\u001B[1;34m(self, *requirements)\u001B[0m\n\u001B[0;32m    884\u001B[0m         \u001B[0mincluded\u001B[0m\u001B[1;33m,\u001B[0m \u001B[0meven\u001B[0m \u001B[1;32mif\u001B[0m \u001B[0mthey\u001B[0m \u001B[0mwere\u001B[0m \u001B[0malready\u001B[0m \u001B[0mactivated\u001B[0m \u001B[1;32min\u001B[0m \u001B[0mthis\u001B[0m \u001B[0mworking\u001B[0m \u001B[0mset\u001B[0m\u001B[1;33m.\u001B[0m\u001B[1;33m\u001B[0m\u001B[1;33m\u001B[0m\u001B[0m\n\u001B[0;32m    885\u001B[0m         \"\"\"\n\u001B[1;32m--> 886\u001B[1;33m         \u001B[0mneeded\u001B[0m \u001B[1;33m=\u001B[0m \u001B[0mself\u001B[0m\u001B[1;33m.\u001B[0m\u001B[0mresolve\u001B[0m\u001B[1;33m(\u001B[0m\u001B[0mparse_requirements\u001B[0m\u001B[1;33m(\u001B[0m\u001B[0mrequirements\u001B[0m\u001B[1;33m)\u001B[0m\u001B[1;33m)\u001B[0m\u001B[1;33m\u001B[0m\u001B[1;33m\u001B[0m\u001B[0m\n\u001B[0m\u001B[0;32m    887\u001B[0m \u001B[1;33m\u001B[0m\u001B[0m\n\u001B[0;32m    888\u001B[0m         \u001B[1;32mfor\u001B[0m \u001B[0mdist\u001B[0m \u001B[1;32min\u001B[0m \u001B[0mneeded\u001B[0m\u001B[1;33m:\u001B[0m\u001B[1;33m\u001B[0m\u001B[1;33m\u001B[0m\u001B[0m\n",
      "\u001B[1;32mD:\\Anaconda\\lib\\site-packages\\pkg_resources\\__init__.py\u001B[0m in \u001B[0;36mresolve\u001B[1;34m(self, requirements, env, installer, replace_conflicting, extras)\u001B[0m\n\u001B[0;32m    775\u001B[0m                 \u001B[1;31m# Oops, the \"best\" so far conflicts with a dependency\u001B[0m\u001B[1;33m\u001B[0m\u001B[1;33m\u001B[0m\u001B[1;33m\u001B[0m\u001B[0m\n\u001B[0;32m    776\u001B[0m                 \u001B[0mdependent_req\u001B[0m \u001B[1;33m=\u001B[0m \u001B[0mrequired_by\u001B[0m\u001B[1;33m[\u001B[0m\u001B[0mreq\u001B[0m\u001B[1;33m]\u001B[0m\u001B[1;33m\u001B[0m\u001B[1;33m\u001B[0m\u001B[0m\n\u001B[1;32m--> 777\u001B[1;33m                 \u001B[1;32mraise\u001B[0m \u001B[0mVersionConflict\u001B[0m\u001B[1;33m(\u001B[0m\u001B[0mdist\u001B[0m\u001B[1;33m,\u001B[0m \u001B[0mreq\u001B[0m\u001B[1;33m)\u001B[0m\u001B[1;33m.\u001B[0m\u001B[0mwith_context\u001B[0m\u001B[1;33m(\u001B[0m\u001B[0mdependent_req\u001B[0m\u001B[1;33m)\u001B[0m\u001B[1;33m\u001B[0m\u001B[1;33m\u001B[0m\u001B[0m\n\u001B[0m\u001B[0;32m    778\u001B[0m \u001B[1;33m\u001B[0m\u001B[0m\n\u001B[0;32m    779\u001B[0m             \u001B[1;31m# push the new requirements onto the stack\u001B[0m\u001B[1;33m\u001B[0m\u001B[1;33m\u001B[0m\u001B[1;33m\u001B[0m\u001B[0m\n",
      "\u001B[1;31mContextualVersionConflict\u001B[0m: (watchdog 1.0.2 (d:\\anaconda\\lib\\site-packages), Requirement.parse('watchdog<=3.0.0,>=2.1'), {'manim'})"
     ]
    }
   ],
   "source": [
    "from manim import *"
   ]
  }
 ],
 "metadata": {
  "kernelspec": {
   "display_name": "Python 3",
   "language": "python",
   "name": "python3"
  },
  "language_info": {
   "codemirror_mode": {
    "name": "ipython",
    "version": 2
   },
   "file_extension": ".py",
   "mimetype": "text/x-python",
   "name": "python",
   "nbconvert_exporter": "python",
   "pygments_lexer": "ipython2",
   "version": "2.7.6"
  }
 },
 "nbformat": 4,
 "nbformat_minor": 5
}
