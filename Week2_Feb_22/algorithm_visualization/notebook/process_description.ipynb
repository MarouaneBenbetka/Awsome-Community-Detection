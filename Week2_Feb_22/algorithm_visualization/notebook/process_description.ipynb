{
 "cells": [
  {
   "cell_type": "markdown",
   "source": [
    "### Algorithm Visualization:\n",
    "The goal of this part is to visualize our community detection algorithm applied on any graph. The graph can be given by the user, and the process is dynamic.\n",
    "\n",
    "One thing to note here is that we have already established the framework that allows us to proceed directly with visualization:\n",
    "- We have already introduced the concept of action. However, the only actions we consider rightt now are of type: changing a node label. There are more actions to take into consideration according to what the algorithm requires.\n",
    "- We will describe how the algorithm goes on and try to find the set of actions necessary to produce our visualization."
   ],
   "metadata": {
    "collapsed": false
   },
   "id": "48c5ec19538cbe68"
  },
  {
   "cell_type": "markdown",
   "source": [
    "### Rethinking the algorithm for visualization:\n",
    "Let's take the Louvain Algorithm for example and try to extract all the actions to visualize.\n",
    "\n",
    "#### Graph construction:\n",
    "We should have a simple visualization for graph construction which is supported by the ManimGraphLibrary. This should be straightforward.\n",
    "\n",
    "#### Graph Transformation:\n",
    "This visualization is needed in the graph reduction step, in which we move from a graph with more nodes to a graph with less nodes.\n",
    "Talking a little bit about technical details, the nodes that are assigned to another community should merge with the node having the same name of community. (You understand what I mean).\n",
    "The same thing happens with edges, there are actually some edges that get merged together to make another edge.\n",
    "\n",
    "# Intermediate steps in the algorithm: \n",
    "There are also many intermediate actions in the algorithm that we need to take into consideration.\n",
    "\n",
    "#### Node consideration order:\n",
    "Before the start of the assign phase in the Louvain algorithm for example, there is some order in which graph nodes are considered. We can also find a way to visualized the order of node consideration.\n",
    "\n",
    "#### Candidate Communities:\n",
    "There is a step in which we need to find the candidate communities for a certain node. This step can be visualized as well. \n",
    "\n",
    "#### Modularity and Delta Modularity:\n",
    "The node-community assignment decisions are based on the modularity and the delta modularity score. So there should be a suitable way to visualize the how the modularity and the delta modularity are computed.\n",
    "______\n",
    "\n",
    "I think that these are all the details that need to be taken into consideration. \n",
    "If you have anything to add, feel free to suggest it in the markdown cell below."
   ],
   "metadata": {
    "collapsed": false
   },
   "id": "3836bd7034381def"
  },
  {
   "cell_type": "markdown",
   "source": [
    "# <center>Put you suggestions here:</center>\n"
   ],
   "metadata": {
    "collapsed": false
   },
   "id": "be64538f79803214"
  }
 ],
 "metadata": {
  "kernelspec": {
   "display_name": "Python 3",
   "language": "python",
   "name": "python3"
  },
  "language_info": {
   "codemirror_mode": {
    "name": "ipython",
    "version": 2
   },
   "file_extension": ".py",
   "mimetype": "text/x-python",
   "name": "python",
   "nbconvert_exporter": "python",
   "pygments_lexer": "ipython2",
   "version": "2.7.6"
  }
 },
 "nbformat": 4,
 "nbformat_minor": 5
}
