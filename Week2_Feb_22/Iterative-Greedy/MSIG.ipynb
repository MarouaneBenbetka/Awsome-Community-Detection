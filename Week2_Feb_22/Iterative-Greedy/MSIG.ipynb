{
 "cells": [
  {
   "cell_type": "code",
   "execution_count": 17,
   "metadata": {},
   "outputs": [],
   "source": [
    "from utils.iterative_greedy_algorithm import IG\n",
    "from utils.visualization_animation import louvain_animation\n",
    "from utils.communities_network import calc_nmi, communities_to_labels\n",
    "from utils.utils import read_community_labels_file_reel\n",
    "\n",
    "import networkx as nx\n",
    "import matplotlib.pyplot as plt\n",
    "\n",
    "from concurrent.futures import ThreadPoolExecutor"
   ]
  },
  {
   "cell_type": "markdown",
   "metadata": {},
   "source": []
  },
  {
   "cell_type": "code",
   "execution_count": 13,
   "metadata": {},
   "outputs": [],
   "source": [
    "def MSIG( G , beta , inner_iterations = 20 , outer_iterations = 100 , metric = \"Mod\" , true_labels = None):\n",
    "    \n",
    "    adj_matrix = nx.to_numpy_array(G)\n",
    "\n",
    "    best_communities = None\n",
    "    best_modularity = -1\n",
    "    best_nmi = 0\n",
    "\n",
    "    msig_trace = []\n",
    "\n",
    "    for _ in range(outer_iterations):\n",
    "        communities, modularity_trace, communities_trace, animation_frames = IG(adj_matrix, inner_iterations, beta)\n",
    "\n",
    "        if metric == \"Mod\":\n",
    "            modularity = modularity_trace[-1]\n",
    "\n",
    "            if modularity > best_modularity:\n",
    "                best_modularity = modularity\n",
    "                best_communities = communities\n",
    "            \n",
    "            msig_trace.append({\"communities\" : communities , \"modularity\" : modularity_trace[-1] })\n",
    "\n",
    "        \n",
    "        elif metric == \"NMI\":\n",
    "\n",
    "            nmi = calc_nmi(true_labels , communities_to_labels(G , communities))\n",
    "\n",
    "            if nmi > best_nmi:\n",
    "                best_nmi = nmi\n",
    "                best_communities = communities\n",
    "        \n",
    "            msig_trace.append({\"communities\" : communities , \"modularity\" : modularity_trace[-1] , \"nmi\" : nmi })\n",
    "    \n",
    "\n",
    "    return best_communities , msig_trace"
   ]
  },
  {
   "cell_type": "code",
   "execution_count": 10,
   "metadata": {},
   "outputs": [
    {
     "data": {
      "text/plain": [
       "62"
      ]
     },
     "execution_count": 10,
     "metadata": {},
     "output_type": "execute_result"
    }
   ],
   "source": [
    "\n",
    "file_path = 'data/reel/dolphins/dolphins.gml'\n",
    "G = nx.read_gml(file_path)\n",
    "adj_matrix = nx.to_numpy_array(G)\n",
    "adj_matrix.shape[0]"
   ]
  },
  {
   "cell_type": "code",
   "execution_count": 14,
   "metadata": {},
   "outputs": [
    {
     "data": {
      "application/vnd.jupyter.widget-view+json": {
       "model_id": "65b984566953464785436266e392418c",
       "version_major": 2,
       "version_minor": 0
      },
      "text/plain": [
       "IG:   0%|          | 0/20 [00:00<?, ?it/s]"
      ]
     },
     "metadata": {},
     "output_type": "display_data"
    },
    {
     "data": {
      "application/vnd.jupyter.widget-view+json": {
       "model_id": "88adeebdcb6e4d8e960a15612eee39a1",
       "version_major": 2,
       "version_minor": 0
      },
      "text/plain": [
       "IG:   0%|          | 0/20 [00:00<?, ?it/s]"
      ]
     },
     "metadata": {},
     "output_type": "display_data"
    },
    {
     "data": {
      "application/vnd.jupyter.widget-view+json": {
       "model_id": "6f9195e0acfb4d1ba4cde5c1024c7658",
       "version_major": 2,
       "version_minor": 0
      },
      "text/plain": [
       "IG:   0%|          | 0/20 [00:00<?, ?it/s]"
      ]
     },
     "metadata": {},
     "output_type": "display_data"
    },
    {
     "data": {
      "application/vnd.jupyter.widget-view+json": {
       "model_id": "d6f786d8b4ec494bb8f7604ba59b2709",
       "version_major": 2,
       "version_minor": 0
      },
      "text/plain": [
       "IG:   0%|          | 0/20 [00:00<?, ?it/s]"
      ]
     },
     "metadata": {},
     "output_type": "display_data"
    },
    {
     "data": {
      "application/vnd.jupyter.widget-view+json": {
       "model_id": "f4c5f52734a44a5a9e1484306f33828c",
       "version_major": 2,
       "version_minor": 0
      },
      "text/plain": [
       "IG:   0%|          | 0/20 [00:00<?, ?it/s]"
      ]
     },
     "metadata": {},
     "output_type": "display_data"
    },
    {
     "data": {
      "application/vnd.jupyter.widget-view+json": {
       "model_id": "26bbb5613a6c4c269cd5a48f8a1d2b78",
       "version_major": 2,
       "version_minor": 0
      },
      "text/plain": [
       "IG:   0%|          | 0/20 [00:00<?, ?it/s]"
      ]
     },
     "metadata": {},
     "output_type": "display_data"
    },
    {
     "data": {
      "application/vnd.jupyter.widget-view+json": {
       "model_id": "839954435b024914b9dc8bee1f5de13a",
       "version_major": 2,
       "version_minor": 0
      },
      "text/plain": [
       "IG:   0%|          | 0/20 [00:00<?, ?it/s]"
      ]
     },
     "metadata": {},
     "output_type": "display_data"
    },
    {
     "data": {
      "application/vnd.jupyter.widget-view+json": {
       "model_id": "d7ece990b8584275817d14419907b3bd",
       "version_major": 2,
       "version_minor": 0
      },
      "text/plain": [
       "IG:   0%|          | 0/20 [00:00<?, ?it/s]"
      ]
     },
     "metadata": {},
     "output_type": "display_data"
    },
    {
     "data": {
      "application/vnd.jupyter.widget-view+json": {
       "model_id": "a5488637980144bbabd6f65fc827f17a",
       "version_major": 2,
       "version_minor": 0
      },
      "text/plain": [
       "IG:   0%|          | 0/20 [00:00<?, ?it/s]"
      ]
     },
     "metadata": {},
     "output_type": "display_data"
    },
    {
     "data": {
      "application/vnd.jupyter.widget-view+json": {
       "model_id": "ec419135421440089adf55e37300de8a",
       "version_major": 2,
       "version_minor": 0
      },
      "text/plain": [
       "IG:   0%|          | 0/20 [00:00<?, ?it/s]"
      ]
     },
     "metadata": {},
     "output_type": "display_data"
    },
    {
     "data": {
      "application/vnd.jupyter.widget-view+json": {
       "model_id": "f09ed9915e744c52a4c07643e55b851d",
       "version_major": 2,
       "version_minor": 0
      },
      "text/plain": [
       "IG:   0%|          | 0/20 [00:00<?, ?it/s]"
      ]
     },
     "metadata": {},
     "output_type": "display_data"
    },
    {
     "data": {
      "application/vnd.jupyter.widget-view+json": {
       "model_id": "16453327e95a499980fd3a52f70bff48",
       "version_major": 2,
       "version_minor": 0
      },
      "text/plain": [
       "IG:   0%|          | 0/20 [00:00<?, ?it/s]"
      ]
     },
     "metadata": {},
     "output_type": "display_data"
    },
    {
     "data": {
      "application/vnd.jupyter.widget-view+json": {
       "model_id": "c5d72dd0dd39402ca38e6225195b22be",
       "version_major": 2,
       "version_minor": 0
      },
      "text/plain": [
       "IG:   0%|          | 0/20 [00:00<?, ?it/s]"
      ]
     },
     "metadata": {},
     "output_type": "display_data"
    },
    {
     "data": {
      "application/vnd.jupyter.widget-view+json": {
       "model_id": "5f6c7cdba66c4f0e90df1edf7601228a",
       "version_major": 2,
       "version_minor": 0
      },
      "text/plain": [
       "IG:   0%|          | 0/20 [00:00<?, ?it/s]"
      ]
     },
     "metadata": {},
     "output_type": "display_data"
    },
    {
     "data": {
      "application/vnd.jupyter.widget-view+json": {
       "model_id": "35e9bd4633df44d6aa7c63d259acb5b3",
       "version_major": 2,
       "version_minor": 0
      },
      "text/plain": [
       "IG:   0%|          | 0/20 [00:00<?, ?it/s]"
      ]
     },
     "metadata": {},
     "output_type": "display_data"
    },
    {
     "data": {
      "application/vnd.jupyter.widget-view+json": {
       "model_id": "7218df0542f74eb2b29178cc4fdb0578",
       "version_major": 2,
       "version_minor": 0
      },
      "text/plain": [
       "IG:   0%|          | 0/20 [00:00<?, ?it/s]"
      ]
     },
     "metadata": {},
     "output_type": "display_data"
    },
    {
     "data": {
      "application/vnd.jupyter.widget-view+json": {
       "model_id": "89d323fb54dc4b5abef8fe538328510e",
       "version_major": 2,
       "version_minor": 0
      },
      "text/plain": [
       "IG:   0%|          | 0/20 [00:00<?, ?it/s]"
      ]
     },
     "metadata": {},
     "output_type": "display_data"
    },
    {
     "data": {
      "application/vnd.jupyter.widget-view+json": {
       "model_id": "d03aec62787a4bcaa7629cdcf9b6ce13",
       "version_major": 2,
       "version_minor": 0
      },
      "text/plain": [
       "IG:   0%|          | 0/20 [00:00<?, ?it/s]"
      ]
     },
     "metadata": {},
     "output_type": "display_data"
    },
    {
     "data": {
      "application/vnd.jupyter.widget-view+json": {
       "model_id": "e61c7ca567744f4199341e91d3b65b6c",
       "version_major": 2,
       "version_minor": 0
      },
      "text/plain": [
       "IG:   0%|          | 0/20 [00:00<?, ?it/s]"
      ]
     },
     "metadata": {},
     "output_type": "display_data"
    },
    {
     "data": {
      "application/vnd.jupyter.widget-view+json": {
       "model_id": "f49b35e31f9d4b958ff4e7d54312cbb0",
       "version_major": 2,
       "version_minor": 0
      },
      "text/plain": [
       "IG:   0%|          | 0/20 [00:00<?, ?it/s]"
      ]
     },
     "metadata": {},
     "output_type": "display_data"
    }
   ],
   "source": [
    "\n",
    "best_community , trace = MSIG(G , 0.5 , inner_iterations = 20 , outer_iterations = 20 , metric = \"Mod\" , true_labels = None)"
   ]
  },
  {
   "cell_type": "code",
   "execution_count": 16,
   "metadata": {},
   "outputs": [
    {
     "data": {
      "text/plain": [
       "[<matplotlib.lines.Line2D at 0x1b2a7792190>]"
      ]
     },
     "execution_count": 16,
     "metadata": {},
     "output_type": "execute_result"
    },
    {
     "data": {
      "image/png": "[encoded data removed]",
      "text/plain": [
       "<Figure size 640x480 with 1 Axes>"
      ]
     },
     "metadata": {},
     "output_type": "display_data"
    }
   ],
   "source": [
    "mod_trace = [t[\"modularity\"] for t in trace]\n",
    "\n",
    "\n",
    "plt.plot(mod_trace)"
   ]
  },
  {
   "cell_type": "markdown",
   "metadata": {},
   "source": [
    "# Avec paralelisation"
   ]
  },
  {
   "cell_type": "code",
   "execution_count": 18,
   "metadata": {},
   "outputs": [],
   "source": [
    "def MSIG_Parallel(G, beta, inner_iterations=20, outer_iterations=100, metric=\"Mod\", true_labels=None):\n",
    "\n",
    "    adj_matrix = nx.to_numpy_array(G)\n",
    "\n",
    "    best_communities = None\n",
    "    best_modularity = -1\n",
    "    best_nmi = 0\n",
    "\n",
    "    msig_trace = []\n",
    "\n",
    "    with ThreadPoolExecutor() as executor:\n",
    "        futures = [executor.submit(IG, adj_matrix, inner_iterations, beta) for _ in range(outer_iterations)]\n",
    "\n",
    "        for future in futures:\n",
    "            communities, modularity_trace, communities_trace, animation_frames = future.result()\n",
    "\n",
    "            if metric == \"Mod\":\n",
    "                modularity = modularity_trace[-1]\n",
    "\n",
    "                if modularity > best_modularity:\n",
    "                    best_modularity = modularity\n",
    "                    best_communities = communities\n",
    "\n",
    "                msig_trace.append({\"communities\": communities,\n",
    "                                  \"modularity\": modularity_trace[-1]})\n",
    "\n",
    "            elif metric == \"NMI\":\n",
    "\n",
    "                nmi = calc_nmi(true_labels, communities_to_labels(G, communities))\n",
    "\n",
    "                if nmi > best_nmi:\n",
    "                    best_nmi = nmi\n",
    "                    best_communities = communities\n",
    "\n",
    "                msig_trace.append({\"communities\": communities,\n",
    "                                  \"modularity\": modularity_trace[-1], \"nmi\": nmi})\n",
    "\n",
    "\n",
    "    return best_communities, msig_trace"
   ]
  },
  {
   "cell_type": "code",
   "execution_count": 19,
   "metadata": {},
   "outputs": [
    {
     "data": {
      "text/plain": [
       "62"
      ]
     },
     "execution_count": 19,
     "metadata": {},
     "output_type": "execute_result"
    }
   ],
   "source": [
    "\n",
    "file_path = 'data/reel/dolphins/dolphins.gml'\n",
    "G = nx.read_gml(file_path)\n",
    "adj_matrix = nx.to_numpy_array(G)\n",
    "adj_matrix.shape[0]"
   ]
  },
  {
   "cell_type": "code",
   "execution_count": 20,
   "metadata": {},
   "outputs": [
    {
     "data": {
      "application/vnd.jupyter.widget-view+json": {
       "model_id": "d3dc826c66f64dc0a6a79df0895bc59e",
       "version_major": 2,
       "version_minor": 0
      },
      "text/plain": [
       "IG:   0%|          | 0/20 [00:00<?, ?it/s]"
      ]
     },
     "metadata": {},
     "output_type": "display_data"
    },
    {
     "data": {
      "application/vnd.jupyter.widget-view+json": {
       "model_id": "787159c51f68417b8740c18784f8594e",
       "version_major": 2,
       "version_minor": 0
      },
      "text/plain": [
       "IG:   0%|          | 0/20 [00:00<?, ?it/s]"
      ]
     },
     "metadata": {},
     "output_type": "display_data"
    },
    {
     "data": {
      "application/vnd.jupyter.widget-view+json": {
       "model_id": "4401e1218d5340b7934149f73b8a74ff",
       "version_major": 2,
       "version_minor": 0
      },
      "text/plain": [
       "IG:   0%|          | 0/20 [00:00<?, ?it/s]"
      ]
     },
     "metadata": {},
     "output_type": "display_data"
    },
    {
     "data": {
      "application/vnd.jupyter.widget-view+json": {
       "model_id": "12296e3c91fe4a568720188c7b95fe7b",
       "version_major": 2,
       "version_minor": 0
      },
      "text/plain": [
       "IG:   0%|          | 0/20 [00:00<?, ?it/s]"
      ]
     },
     "metadata": {},
     "output_type": "display_data"
    },
    {
     "data": {
      "application/vnd.jupyter.widget-view+json": {
       "model_id": "f35820ad47ab44fe8f9c303193b562e4",
       "version_major": 2,
       "version_minor": 0
      },
      "text/plain": [
       "IG:   0%|          | 0/20 [00:00<?, ?it/s]"
      ]
     },
     "metadata": {},
     "output_type": "display_data"
    },
    {
     "data": {
      "application/vnd.jupyter.widget-view+json": {
       "model_id": "ca79fd5b9d284806b1e020b2aff260f8",
       "version_major": 2,
       "version_minor": 0
      },
      "text/plain": [
       "IG:   0%|          | 0/20 [00:00<?, ?it/s]"
      ]
     },
     "metadata": {},
     "output_type": "display_data"
    },
    {
     "data": {
      "application/vnd.jupyter.widget-view+json": {
       "model_id": "93f1bf1ec8b840d1bc684f56d9c04e30",
       "version_major": 2,
       "version_minor": 0
      },
      "text/plain": [
       "IG:   0%|          | 0/20 [00:00<?, ?it/s]"
      ]
     },
     "metadata": {},
     "output_type": "display_data"
    },
    {
     "data": {
      "application/vnd.jupyter.widget-view+json": {
       "model_id": "35cc4db9d2cf4cb2bf420e56f90ae91f",
       "version_major": 2,
       "version_minor": 0
      },
      "text/plain": [
       "IG:   0%|          | 0/20 [00:00<?, ?it/s]"
      ]
     },
     "metadata": {},
     "output_type": "display_data"
    },
    {
     "data": {
      "application/vnd.jupyter.widget-view+json": {
       "model_id": "58e6fd4e297b4934b6088217f79894b4",
       "version_major": 2,
       "version_minor": 0
      },
      "text/plain": [
       "IG:   0%|          | 0/20 [00:00<?, ?it/s]"
      ]
     },
     "metadata": {},
     "output_type": "display_data"
    },
    {
     "data": {
      "application/vnd.jupyter.widget-view+json": {
       "model_id": "4253f1e75a00431583ba6cd52141f3f6",
       "version_major": 2,
       "version_minor": 0
      },
      "text/plain": [
       "IG:   0%|          | 0/20 [00:00<?, ?it/s]"
      ]
     },
     "metadata": {},
     "output_type": "display_data"
    },
    {
     "data": {
      "application/vnd.jupyter.widget-view+json": {
       "model_id": "80cd972b365c49abbbeb81322c9c93b9",
       "version_major": 2,
       "version_minor": 0
      },
      "text/plain": [
       "IG:   0%|          | 0/20 [00:00<?, ?it/s]"
      ]
     },
     "metadata": {},
     "output_type": "display_data"
    },
    {
     "data": {
      "application/vnd.jupyter.widget-view+json": {
       "model_id": "7e870d44bb144109abf2aae64ec81079",
       "version_major": 2,
       "version_minor": 0
      },
      "text/plain": [
       "IG:   0%|          | 0/20 [00:00<?, ?it/s]"
      ]
     },
     "metadata": {},
     "output_type": "display_data"
    },
    {
     "data": {
      "application/vnd.jupyter.widget-view+json": {
       "model_id": "4d2b0f2f63124bcbbceb5aa9472819e9",
       "version_major": 2,
       "version_minor": 0
      },
      "text/plain": [
       "IG:   0%|          | 0/20 [00:00<?, ?it/s]"
      ]
     },
     "metadata": {},
     "output_type": "display_data"
    },
    {
     "data": {
      "application/vnd.jupyter.widget-view+json": {
       "model_id": "5d09ba8d4c0246129ecb734ca18e9237",
       "version_major": 2,
       "version_minor": 0
      },
      "text/plain": [
       "IG:   0%|          | 0/20 [00:00<?, ?it/s]"
      ]
     },
     "metadata": {},
     "output_type": "display_data"
    },
    {
     "data": {
      "application/vnd.jupyter.widget-view+json": {
       "model_id": "1b7e8af4eb3c4371a7586546e1cf3c2f",
       "version_major": 2,
       "version_minor": 0
      },
      "text/plain": [
       "IG:   0%|          | 0/20 [00:00<?, ?it/s]"
      ]
     },
     "metadata": {},
     "output_type": "display_data"
    },
    {
     "data": {
      "application/vnd.jupyter.widget-view+json": {
       "model_id": "89184840475e45de9aae750c53dcfcca",
       "version_major": 2,
       "version_minor": 0
      },
      "text/plain": [
       "IG:   0%|          | 0/20 [00:00<?, ?it/s]"
      ]
     },
     "metadata": {},
     "output_type": "display_data"
    },
    {
     "data": {
      "application/vnd.jupyter.widget-view+json": {
       "model_id": "d56d2952493440579ffe39c72482b0ce",
       "version_major": 2,
       "version_minor": 0
      },
      "text/plain": [
       "IG:   0%|          | 0/20 [00:00<?, ?it/s]"
      ]
     },
     "metadata": {},
     "output_type": "display_data"
    },
    {
     "data": {
      "application/vnd.jupyter.widget-view+json": {
       "model_id": "0b572a53ad254291866698073063a498",
       "version_major": 2,
       "version_minor": 0
      },
      "text/plain": [
       "IG:   0%|          | 0/20 [00:00<?, ?it/s]"
      ]
     },
     "metadata": {},
     "output_type": "display_data"
    },
    {
     "data": {
      "application/vnd.jupyter.widget-view+json": {
       "model_id": "e551f63eb925433b8bcf89ea9b255e82",
       "version_major": 2,
       "version_minor": 0
      },
      "text/plain": [
       "IG:   0%|          | 0/20 [00:00<?, ?it/s]"
      ]
     },
     "metadata": {},
     "output_type": "display_data"
    },
    {
     "data": {
      "application/vnd.jupyter.widget-view+json": {
       "model_id": "71ee483856cb4cb49d42a7ac14adbae1",
       "version_major": 2,
       "version_minor": 0
      },
      "text/plain": [
       "IG:   0%|          | 0/20 [00:00<?, ?it/s]"
      ]
     },
     "metadata": {},
     "output_type": "display_data"
    }
   ],
   "source": [
    "\n",
    "best_community, trace = MSIG_Parallel(\n",
    "    G, 0.5, inner_iterations=20, outer_iterations=20, metric=\"Mod\", true_labels=None)"
   ]
  },
  {
   "cell_type": "code",
   "execution_count": 21,
   "metadata": {},
   "outputs": [
    {
     "data": {
      "text/plain": [
       "[<matplotlib.lines.Line2D at 0x1b2a761a790>]"
      ]
     },
     "execution_count": 21,
     "metadata": {},
     "output_type": "execute_result"
    },
    {
     "data": {
      "image/png": "[encoded data removed]",
      "text/plain": [
       "<Figure size 640x480 with 1 Axes>"
      ]
     },
     "metadata": {},
     "output_type": "display_data"
    }
   ],
   "source": [
    "mod_trace = [t[\"modularity\"] for t in trace]\n",
    "\n",
    "\n",
    "plt.plot(mod_trace)"
   ]
  }
 ],
 "metadata": {
  "kernelspec": {
   "display_name": "base",
   "language": "python",
   "name": "python3"
  },
  "language_info": {
   "codemirror_mode": {
    "name": "ipython",
    "version": 3
   },
   "file_extension": ".py",
   "mimetype": "text/x-python",
   "name": "python",
   "nbconvert_exporter": "python",
   "pygments_lexer": "ipython3",
   "version": "3.11.5"
  }
 },
 "nbformat": 4,
 "nbformat_minor": 2
}
