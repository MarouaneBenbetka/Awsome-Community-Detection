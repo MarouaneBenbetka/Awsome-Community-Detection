{
 "cells": [
  {
   "cell_type": "code",
   "execution_count": 1,
   "metadata": {},
   "outputs": [],
   "source": [
    "from utils.iterative_greedy_algorithm import IG\n",
    "from utils.visualization_animation import louvain_animation\n",
    "from utils.communities_network import calc_nmi, communities_to_labels\n",
    "from utils.utils import read_community_labels_file_reel\n",
    "\n",
    "import networkx as nx\n",
    "import matplotlib.pyplot as plt\n",
    "\n",
    "from concurrent.futures import ThreadPoolExecutor"
   ]
  },
  {
   "cell_type": "markdown",
   "metadata": {},
   "source": []
  },
  {
   "cell_type": "code",
   "execution_count": 2,
   "metadata": {},
   "outputs": [],
   "source": [
    "def MSIG( G , beta , inner_iterations = 20 , outer_iterations = 100 , metric = \"Mod\" , true_labels = None):\n",
    "    \n",
    "    adj_matrix = nx.to_numpy_array(G)\n",
    "\n",
    "    best_communities = None\n",
    "    best_modularity = -1\n",
    "    best_nmi = 0\n",
    "\n",
    "    msig_trace = []\n",
    "\n",
    "    for _ in range(outer_iterations):\n",
    "        communities, modularity_trace, communities_trace, animation_frames = IG(adj_matrix, inner_iterations, beta)\n",
    "\n",
    "        if metric == \"Mod\":\n",
    "            modularity = modularity_trace[-1]\n",
    "\n",
    "            if modularity > best_modularity:\n",
    "                best_modularity = modularity\n",
    "                best_communities = communities\n",
    "            \n",
    "            msig_trace.append({\"communities\" : communities , \"modularity\" : modularity_trace[-1] })\n",
    "\n",
    "        \n",
    "        elif metric == \"NMI\":\n",
    "\n",
    "            nmi = calc_nmi(true_labels , communities_to_labels(G , communities))\n",
    "\n",
    "            if nmi > best_nmi:\n",
    "                best_nmi = nmi\n",
    "                best_communities = communities\n",
    "        \n",
    "            msig_trace.append({\"communities\" : communities , \"modularity\" : modularity_trace[-1] , \"nmi\" : nmi })\n",
    "    \n",
    "\n",
    "    return best_communities , msig_trace"
   ]
  },
  {
   "cell_type": "code",
   "execution_count": 3,
   "metadata": {},
   "outputs": [
    {
     "data": {
      "text/plain": [
       "62"
      ]
     },
     "execution_count": 3,
     "metadata": {},
     "output_type": "execute_result"
    }
   ],
   "source": [
    "\n",
    "file_path = 'data/reel/dolphins/dolphins.gml'\n",
    "G = nx.read_gml(file_path)\n",
    "adj_matrix = nx.to_numpy_array(G)\n",
    "adj_matrix.shape[0]"
   ]
  },
  {
   "cell_type": "code",
   "execution_count": 10,
   "metadata": {},
   "outputs": [
    {
     "data": {
      "application/vnd.jupyter.widget-view+json": {
       "model_id": "25f0a4494f354c49ad4d013bb7513461",
       "version_major": 2,
       "version_minor": 0
      },
      "text/plain": [
       "IG:   0%|          | 0/20 [00:00<?, ?it/s]"
      ]
     },
     "metadata": {},
     "output_type": "display_data"
    },
    {
     "data": {
      "application/vnd.jupyter.widget-view+json": {
       "model_id": "13774005ff5c49ebabacb441d8a7446d",
       "version_major": 2,
       "version_minor": 0
      },
      "text/plain": [
       "IG:   0%|          | 0/20 [00:00<?, ?it/s]"
      ]
     },
     "metadata": {},
     "output_type": "display_data"
    },
    {
     "data": {
      "application/vnd.jupyter.widget-view+json": {
       "model_id": "e72f8844f7ae4b449b0d6ea700635edf",
       "version_major": 2,
       "version_minor": 0
      },
      "text/plain": [
       "IG:   0%|          | 0/20 [00:00<?, ?it/s]"
      ]
     },
     "metadata": {},
     "output_type": "display_data"
    },
    {
     "data": {
      "application/vnd.jupyter.widget-view+json": {
       "model_id": "8a7f26b7517e44a0a33b1388ec008c46",
       "version_major": 2,
       "version_minor": 0
      },
      "text/plain": [
       "IG:   0%|          | 0/20 [00:00<?, ?it/s]"
      ]
     },
     "metadata": {},
     "output_type": "display_data"
    },
    {
     "data": {
      "application/vnd.jupyter.widget-view+json": {
       "model_id": "1a60936ee6564209921d0f31da40c78b",
       "version_major": 2,
       "version_minor": 0
      },
      "text/plain": [
       "IG:   0%|          | 0/20 [00:00<?, ?it/s]"
      ]
     },
     "metadata": {},
     "output_type": "display_data"
    },
    {
     "data": {
      "application/vnd.jupyter.widget-view+json": {
       "model_id": "3fd5c10a1a9b475ab6302389a66ce395",
       "version_major": 2,
       "version_minor": 0
      },
      "text/plain": [
       "IG:   0%|          | 0/20 [00:00<?, ?it/s]"
      ]
     },
     "metadata": {},
     "output_type": "display_data"
    },
    {
     "data": {
      "application/vnd.jupyter.widget-view+json": {
       "model_id": "7be0e55ddae14d9089338e12b42526af",
       "version_major": 2,
       "version_minor": 0
      },
      "text/plain": [
       "IG:   0%|          | 0/20 [00:00<?, ?it/s]"
      ]
     },
     "metadata": {},
     "output_type": "display_data"
    },
    {
     "data": {
      "application/vnd.jupyter.widget-view+json": {
       "model_id": "405d2f35b33c4aeb998a84fb4ddf6fc5",
       "version_major": 2,
       "version_minor": 0
      },
      "text/plain": [
       "IG:   0%|          | 0/20 [00:00<?, ?it/s]"
      ]
     },
     "metadata": {},
     "output_type": "display_data"
    },
    {
     "data": {
      "application/vnd.jupyter.widget-view+json": {
       "model_id": "385d7ff3f15d411788d828c8b771bd4c",
       "version_major": 2,
       "version_minor": 0
      },
      "text/plain": [
       "IG:   0%|          | 0/20 [00:00<?, ?it/s]"
      ]
     },
     "metadata": {},
     "output_type": "display_data"
    },
    {
     "data": {
      "application/vnd.jupyter.widget-view+json": {
       "model_id": "930e238306b34dbe96f6a0540e453bda",
       "version_major": 2,
       "version_minor": 0
      },
      "text/plain": [
       "IG:   0%|          | 0/20 [00:00<?, ?it/s]"
      ]
     },
     "metadata": {},
     "output_type": "display_data"
    },
    {
     "data": {
      "application/vnd.jupyter.widget-view+json": {
       "model_id": "14bafd40c7f147ce9efee522df007162",
       "version_major": 2,
       "version_minor": 0
      },
      "text/plain": [
       "IG:   0%|          | 0/20 [00:00<?, ?it/s]"
      ]
     },
     "metadata": {},
     "output_type": "display_data"
    },
    {
     "data": {
      "application/vnd.jupyter.widget-view+json": {
       "model_id": "126f7528862c46acb6c9e5086a63b45c",
       "version_major": 2,
       "version_minor": 0
      },
      "text/plain": [
       "IG:   0%|          | 0/20 [00:00<?, ?it/s]"
      ]
     },
     "metadata": {},
     "output_type": "display_data"
    },
    {
     "data": {
      "application/vnd.jupyter.widget-view+json": {
       "model_id": "85e80adb77ab4ffab532fdcddd0bfa9f",
       "version_major": 2,
       "version_minor": 0
      },
      "text/plain": [
       "IG:   0%|          | 0/20 [00:00<?, ?it/s]"
      ]
     },
     "metadata": {},
     "output_type": "display_data"
    },
    {
     "data": {
      "application/vnd.jupyter.widget-view+json": {
       "model_id": "24a90a51fcc047d5962e26ad1c88cca9",
       "version_major": 2,
       "version_minor": 0
      },
      "text/plain": [
       "IG:   0%|          | 0/20 [00:00<?, ?it/s]"
      ]
     },
     "metadata": {},
     "output_type": "display_data"
    },
    {
     "data": {
      "application/vnd.jupyter.widget-view+json": {
       "model_id": "f79a2d567c4b492eab7f08561d44484f",
       "version_major": 2,
       "version_minor": 0
      },
      "text/plain": [
       "IG:   0%|          | 0/20 [00:00<?, ?it/s]"
      ]
     },
     "metadata": {},
     "output_type": "display_data"
    },
    {
     "data": {
      "application/vnd.jupyter.widget-view+json": {
       "model_id": "b4057209008841c79a2e76da96f97c34",
       "version_major": 2,
       "version_minor": 0
      },
      "text/plain": [
       "IG:   0%|          | 0/20 [00:00<?, ?it/s]"
      ]
     },
     "metadata": {},
     "output_type": "display_data"
    },
    {
     "data": {
      "application/vnd.jupyter.widget-view+json": {
       "model_id": "67a8a42ca2ee4c65a3f8a4005bb18e95",
       "version_major": 2,
       "version_minor": 0
      },
      "text/plain": [
       "IG:   0%|          | 0/20 [00:00<?, ?it/s]"
      ]
     },
     "metadata": {},
     "output_type": "display_data"
    },
    {
     "data": {
      "application/vnd.jupyter.widget-view+json": {
       "model_id": "4fdbf871e2c347b78780fb4c9579d7d2",
       "version_major": 2,
       "version_minor": 0
      },
      "text/plain": [
       "IG:   0%|          | 0/20 [00:00<?, ?it/s]"
      ]
     },
     "metadata": {},
     "output_type": "display_data"
    },
    {
     "data": {
      "application/vnd.jupyter.widget-view+json": {
       "model_id": "8927817017a04b71a434c64615d2778e",
       "version_major": 2,
       "version_minor": 0
      },
      "text/plain": [
       "IG:   0%|          | 0/20 [00:00<?, ?it/s]"
      ]
     },
     "metadata": {},
     "output_type": "display_data"
    },
    {
     "data": {
      "application/vnd.jupyter.widget-view+json": {
       "model_id": "a7fe11ae46d54eefbf829022a89bdaa1",
       "version_major": 2,
       "version_minor": 0
      },
      "text/plain": [
       "IG:   0%|          | 0/20 [00:00<?, ?it/s]"
      ]
     },
     "metadata": {},
     "output_type": "display_data"
    }
   ],
   "source": [
    "best_community , trace = MSIG(G , 0.5 , inner_iterations = 20 , outer_iterations = 20 , metric = \"Mod\" , true_labels = None)"
   ]
  },
  {
   "cell_type": "code",
   "execution_count": 9,
   "metadata": {},
   "outputs": [
    {
     "data": {
      "text/plain": [
       "[<matplotlib.lines.Line2D at 0x24fed260050>]"
      ]
     },
     "execution_count": 9,
     "metadata": {},
     "output_type": "execute_result"
    },
    {
     "data": {
      "image/png": "[encoded data removed]",
      "text/plain": [
       "<Figure size 640x480 with 1 Axes>"
      ]
     },
     "metadata": {},
     "output_type": "display_data"
    }
   ],
   "source": [
    "mod_trace = [t[\"modularity\"] for t in trace]\n",
    "\n",
    "\n",
    "plt.plot(mod_trace)"
   ]
  },
  {
   "cell_type": "markdown",
   "metadata": {},
   "source": [
    "# Avec paralelisation"
   ]
  },
  {
   "cell_type": "code",
   "execution_count": 18,
   "metadata": {},
   "outputs": [],
   "source": [
    "def MSIG_Parallel(G, beta, inner_iterations=20, outer_iterations=100, metric=\"Mod\", true_labels=None):\n",
    "\n",
    "    adj_matrix = nx.to_numpy_array(G)\n",
    "\n",
    "    best_communities = None\n",
    "    best_modularity = -1\n",
    "    best_nmi = 0\n",
    "\n",
    "    msig_trace = []\n",
    "\n",
    "    with ThreadPoolExecutor() as executor:\n",
    "        futures = [executor.submit(IG, adj_matrix, inner_iterations, beta) for _ in range(outer_iterations)]\n",
    "\n",
    "        for future in futures:\n",
    "            communities, modularity_trace, communities_trace, animation_frames = future.result()\n",
    "\n",
    "            if metric == \"Mod\":\n",
    "                modularity = modularity_trace[-1]\n",
    "\n",
    "                if modularity > best_modularity:\n",
    "                    best_modularity = modularity\n",
    "                    best_communities = communities\n",
    "\n",
    "                msig_trace.append({\"communities\": communities,\n",
    "                                  \"modularity\": modularity_trace[-1]})\n",
    "\n",
    "            elif metric == \"NMI\":\n",
    "\n",
    "                nmi = calc_nmi(true_labels, communities_to_labels(G, communities))\n",
    "\n",
    "                if nmi > best_nmi:\n",
    "                    best_nmi = nmi\n",
    "                    best_communities = communities\n",
    "\n",
    "                msig_trace.append({\"communities\": communities,\n",
    "                                  \"modularity\": modularity_trace[-1], \"nmi\": nmi})\n",
    "\n",
    "\n",
    "    return best_communities, msig_trace"
   ]
  },
  {
   "cell_type": "code",
   "execution_count": 19,
   "metadata": {},
   "outputs": [
    {
     "data": {
      "text/plain": [
       "62"
      ]
     },
     "execution_count": 19,
     "metadata": {},
     "output_type": "execute_result"
    }
   ],
   "source": [
    "\n",
    "file_path = 'data/reel/dolphins/dolphins.gml'\n",
    "G = nx.read_gml(file_path)\n",
    "adj_matrix = nx.to_numpy_array(G)\n",
    "adj_matrix.shape[0]"
   ]
  },
  {
   "cell_type": "code",
   "execution_count": 20,
   "metadata": {},
   "outputs": [
    {
     "data": {
      "application/vnd.jupyter.widget-view+json": {
       "model_id": "d3dc826c66f64dc0a6a79df0895bc59e",
       "version_major": 2,
       "version_minor": 0
      },
      "text/plain": [
       "IG:   0%|          | 0/20 [00:00<?, ?it/s]"
      ]
     },
     "metadata": {},
     "output_type": "display_data"
    },
    {
     "data": {
      "application/vnd.jupyter.widget-view+json": {
       "model_id": "787159c51f68417b8740c18784f8594e",
       "version_major": 2,
       "version_minor": 0
      },
      "text/plain": [
       "IG:   0%|          | 0/20 [00:00<?, ?it/s]"
      ]
     },
     "metadata": {},
     "output_type": "display_data"
    },
    {
     "data": {
      "application/vnd.jupyter.widget-view+json": {
       "model_id": "4401e1218d5340b7934149f73b8a74ff",
       "version_major": 2,
       "version_minor": 0
      },
      "text/plain": [
       "IG:   0%|          | 0/20 [00:00<?, ?it/s]"
      ]
     },
     "metadata": {},
     "output_type": "display_data"
    },
    {
     "data": {
      "application/vnd.jupyter.widget-view+json": {
       "model_id": "12296e3c91fe4a568720188c7b95fe7b",
       "version_major": 2,
       "version_minor": 0
      },
      "text/plain": [
       "IG:   0%|          | 0/20 [00:00<?, ?it/s]"
      ]
     },
     "metadata": {},
     "output_type": "display_data"
    },
    {
     "data": {
      "application/vnd.jupyter.widget-view+json": {
       "model_id": "f35820ad47ab44fe8f9c303193b562e4",
       "version_major": 2,
       "version_minor": 0
      },
      "text/plain": [
       "IG:   0%|          | 0/20 [00:00<?, ?it/s]"
      ]
     },
     "metadata": {},
     "output_type": "display_data"
    },
    {
     "data": {
      "application/vnd.jupyter.widget-view+json": {
       "model_id": "ca79fd5b9d284806b1e020b2aff260f8",
       "version_major": 2,
       "version_minor": 0
      },
      "text/plain": [
       "IG:   0%|          | 0/20 [00:00<?, ?it/s]"
      ]
     },
     "metadata": {},
     "output_type": "display_data"
    },
    {
     "data": {
      "application/vnd.jupyter.widget-view+json": {
       "model_id": "93f1bf1ec8b840d1bc684f56d9c04e30",
       "version_major": 2,
       "version_minor": 0
      },
      "text/plain": [
       "IG:   0%|          | 0/20 [00:00<?, ?it/s]"
      ]
     },
     "metadata": {},
     "output_type": "display_data"
    },
    {
     "data": {
      "application/vnd.jupyter.widget-view+json": {
       "model_id": "35cc4db9d2cf4cb2bf420e56f90ae91f",
       "version_major": 2,
       "version_minor": 0
      },
      "text/plain": [
       "IG:   0%|          | 0/20 [00:00<?, ?it/s]"
      ]
     },
     "metadata": {},
     "output_type": "display_data"
    },
    {
     "data": {
      "application/vnd.jupyter.widget-view+json": {
       "model_id": "58e6fd4e297b4934b6088217f79894b4",
       "version_major": 2,
       "version_minor": 0
      },
      "text/plain": [
       "IG:   0%|          | 0/20 [00:00<?, ?it/s]"
      ]
     },
     "metadata": {},
     "output_type": "display_data"
    },
    {
     "data": {
      "application/vnd.jupyter.widget-view+json": {
       "model_id": "4253f1e75a00431583ba6cd52141f3f6",
       "version_major": 2,
       "version_minor": 0
      },
      "text/plain": [
       "IG:   0%|          | 0/20 [00:00<?, ?it/s]"
      ]
     },
     "metadata": {},
     "output_type": "display_data"
    },
    {
     "data": {
      "application/vnd.jupyter.widget-view+json": {
       "model_id": "80cd972b365c49abbbeb81322c9c93b9",
       "version_major": 2,
       "version_minor": 0
      },
      "text/plain": [
       "IG:   0%|          | 0/20 [00:00<?, ?it/s]"
      ]
     },
     "metadata": {},
     "output_type": "display_data"
    },
    {
     "data": {
      "application/vnd.jupyter.widget-view+json": {
       "model_id": "7e870d44bb144109abf2aae64ec81079",
       "version_major": 2,
       "version_minor": 0
      },
      "text/plain": [
       "IG:   0%|          | 0/20 [00:00<?, ?it/s]"
      ]
     },
     "metadata": {},
     "output_type": "display_data"
    },
    {
     "data": {
      "application/vnd.jupyter.widget-view+json": {
       "model_id": "4d2b0f2f63124bcbbceb5aa9472819e9",
       "version_major": 2,
       "version_minor": 0
      },
      "text/plain": [
       "IG:   0%|          | 0/20 [00:00<?, ?it/s]"
      ]
     },
     "metadata": {},
     "output_type": "display_data"
    },
    {
     "data": {
      "application/vnd.jupyter.widget-view+json": {
       "model_id": "5d09ba8d4c0246129ecb734ca18e9237",
       "version_major": 2,
       "version_minor": 0
      },
      "text/plain": [
       "IG:   0%|          | 0/20 [00:00<?, ?it/s]"
      ]
     },
     "metadata": {},
     "output_type": "display_data"
    },
    {
     "data": {
      "application/vnd.jupyter.widget-view+json": {
       "model_id": "1b7e8af4eb3c4371a7586546e1cf3c2f",
       "version_major": 2,
       "version_minor": 0
      },
      "text/plain": [
       "IG:   0%|          | 0/20 [00:00<?, ?it/s]"
      ]
     },
     "metadata": {},
     "output_type": "display_data"
    },
    {
     "data": {
      "application/vnd.jupyter.widget-view+json": {
       "model_id": "89184840475e45de9aae750c53dcfcca",
       "version_major": 2,
       "version_minor": 0
      },
      "text/plain": [
       "IG:   0%|          | 0/20 [00:00<?, ?it/s]"
      ]
     },
     "metadata": {},
     "output_type": "display_data"
    },
    {
     "data": {
      "application/vnd.jupyter.widget-view+json": {
       "model_id": "d56d2952493440579ffe39c72482b0ce",
       "version_major": 2,
       "version_minor": 0
      },
      "text/plain": [
       "IG:   0%|          | 0/20 [00:00<?, ?it/s]"
      ]
     },
     "metadata": {},
     "output_type": "display_data"
    },
    {
     "data": {
      "application/vnd.jupyter.widget-view+json": {
       "model_id": "0b572a53ad254291866698073063a498",
       "version_major": 2,
       "version_minor": 0
      },
      "text/plain": [
       "IG:   0%|          | 0/20 [00:00<?, ?it/s]"
      ]
     },
     "metadata": {},
     "output_type": "display_data"
    },
    {
     "data": {
      "application/vnd.jupyter.widget-view+json": {
       "model_id": "e551f63eb925433b8bcf89ea9b255e82",
       "version_major": 2,
       "version_minor": 0
      },
      "text/plain": [
       "IG:   0%|          | 0/20 [00:00<?, ?it/s]"
      ]
     },
     "metadata": {},
     "output_type": "display_data"
    },
    {
     "data": {
      "application/vnd.jupyter.widget-view+json": {
       "model_id": "71ee483856cb4cb49d42a7ac14adbae1",
       "version_major": 2,
       "version_minor": 0
      },
      "text/plain": [
       "IG:   0%|          | 0/20 [00:00<?, ?it/s]"
      ]
     },
     "metadata": {},
     "output_type": "display_data"
    }
   ],
   "source": [
    "\n",
    "best_community, trace = MSIG_Parallel(\n",
    "    G, 0.5, inner_iterations=20, outer_iterations=20, metric=\"Mod\", true_labels=None)"
   ]
  },
  {
   "cell_type": "code",
   "execution_count": 21,
   "metadata": {},
   "outputs": [
    {
     "data": {
      "text/plain": [
       "[<matplotlib.lines.Line2D at 0x1b2a761a790>]"
      ]
     },
     "execution_count": 21,
     "metadata": {},
     "output_type": "execute_result"
    },
    {
     "data": {
      "image/png": "[encoded data removed]",
      "text/plain": [
       "<Figure size 640x480 with 1 Axes>"
      ]
     },
     "metadata": {},
     "output_type": "display_data"
    }
   ],
   "source": [
    "mod_trace = [t[\"modularity\"] for t in trace]\n",
    "\n",
    "\n",
    "plt.plot(mod_trace)"
   ]
  }
 ],
 "metadata": {
  "kernelspec": {
   "display_name": "base",
   "language": "python",
   "name": "python3"
  },
  "language_info": {
   "codemirror_mode": {
    "name": "ipython",
    "version": 3
   },
   "file_extension": ".py",
   "mimetype": "text/x-python",
   "name": "python",
   "nbconvert_exporter": "python",
   "pygments_lexer": "ipython3",
   "version": "3.11.5"
  }
 },
 "nbformat": 4,
 "nbformat_minor": 2
}
