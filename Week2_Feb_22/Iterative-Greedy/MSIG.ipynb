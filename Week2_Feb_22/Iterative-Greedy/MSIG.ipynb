{
 "cells": [
  {
   "cell_type": "code",
   "execution_count": 1,
   "metadata": {},
   "outputs": [],
   "source": [
    "from utils.iterative_greedy_algorithm import IG\n",
    "from utils.visualization_animation import louvain_animation\n",
    "from utils.communities_network import calc_nmi, communities_to_labels\n",
    "from utils.utils import read_community_labels_file_reel\n",
    "\n",
    "import networkx as nx\n",
    "import matplotlib.pyplot as plt\n",
    "\n",
    "from concurrent.futures import ThreadPoolExecutor"
   ]
  },
  {
   "cell_type": "markdown",
   "metadata": {},
   "source": []
  },
  {
   "cell_type": "markdown",
   "metadata": {},
   "source": [
    "## MSIG Sans Parallelisation"
   ]
  },
  {
   "cell_type": "code",
   "execution_count": 2,
   "metadata": {},
   "outputs": [],
   "source": [
    "def MSIG( G , beta , inner_iterations = 20 , outer_iterations = 100 , metric = \"Mod\" , true_labels = None):\n",
    "    \n",
    "    adj_matrix = nx.to_numpy_array(G)\n",
    "\n",
    "    best_communities = None\n",
    "    best_modularity = -1\n",
    "    best_nmi = 0\n",
    "\n",
    "    msig_trace = []\n",
    "\n",
    "    for _ in range(outer_iterations):\n",
    "        communities, modularity_trace, communities_trace, animation_frames = IG(adj_matrix, inner_iterations, beta)\n",
    "\n",
    "        if metric == \"Mod\":\n",
    "            modularity = modularity_trace[-1]\n",
    "\n",
    "            if modularity > best_modularity:\n",
    "                best_modularity = modularity\n",
    "                best_communities = communities\n",
    "            \n",
    "            msig_trace.append({\"communities\" : communities , \"modularity\" : modularity_trace[-1] })\n",
    "\n",
    "        \n",
    "        elif metric == \"NMI\":\n",
    "\n",
    "            nmi = calc_nmi(true_labels , communities_to_labels(G , communities))\n",
    "\n",
    "            if nmi > best_nmi:\n",
    "                best_nmi = nmi\n",
    "                best_communities = communities\n",
    "        \n",
    "            msig_trace.append({\"communities\" : communities , \"modularity\" : modularity_trace[-1] , \"nmi\" : nmi })\n",
    "    \n",
    "\n",
    "    return best_communities , msig_trace"
   ]
  },
  {
   "cell_type": "code",
   "execution_count": 3,
   "metadata": {},
   "outputs": [
    {
     "data": {
      "text/plain": [
       "62"
      ]
     },
     "execution_count": 3,
     "metadata": {},
     "output_type": "execute_result"
    }
   ],
   "source": [
    "\n",
    "file_path = 'data/reel/dolphins/dolphins.gml'\n",
    "G = nx.read_gml(file_path)\n",
    "adj_matrix = nx.to_numpy_array(G)\n",
    "adj_matrix.shape[0]"
   ]
  },
  {
   "cell_type": "code",
   "execution_count": 4,
   "metadata": {},
   "outputs": [
    {
     "data": {
      "application/vnd.jupyter.widget-view+json": {
       "model_id": "e5fb167f80c847669115365f37e1b9fc",
       "version_major": 2,
       "version_minor": 0
      },
      "text/plain": [
       "IG:   0%|          | 0/20 [00:00<?, ?it/s]"
      ]
     },
     "metadata": {},
     "output_type": "display_data"
    },
    {
     "data": {
      "application/vnd.jupyter.widget-view+json": {
       "model_id": "8025a454c916405589a509cbcad6dc16",
       "version_major": 2,
       "version_minor": 0
      },
      "text/plain": [
       "IG:   0%|          | 0/20 [00:00<?, ?it/s]"
      ]
     },
     "metadata": {},
     "output_type": "display_data"
    },
    {
     "data": {
      "application/vnd.jupyter.widget-view+json": {
       "model_id": "c46463382b024f57b8497ab5c1dc2050",
       "version_major": 2,
       "version_minor": 0
      },
      "text/plain": [
       "IG:   0%|          | 0/20 [00:00<?, ?it/s]"
      ]
     },
     "metadata": {},
     "output_type": "display_data"
    },
    {
     "data": {
      "application/vnd.jupyter.widget-view+json": {
       "model_id": "7876c6393c964c2db0f579d90accb1d9",
       "version_major": 2,
       "version_minor": 0
      },
      "text/plain": [
       "IG:   0%|          | 0/20 [00:00<?, ?it/s]"
      ]
     },
     "metadata": {},
     "output_type": "display_data"
    },
    {
     "data": {
      "application/vnd.jupyter.widget-view+json": {
       "model_id": "b8b5b28e8de1478dba4be2fd23c0b8c9",
       "version_major": 2,
       "version_minor": 0
      },
      "text/plain": [
       "IG:   0%|          | 0/20 [00:00<?, ?it/s]"
      ]
     },
     "metadata": {},
     "output_type": "display_data"
    },
    {
     "data": {
      "application/vnd.jupyter.widget-view+json": {
       "model_id": "5ffd7395f4334ed2bdf5230fa899882a",
       "version_major": 2,
       "version_minor": 0
      },
      "text/plain": [
       "IG:   0%|          | 0/20 [00:00<?, ?it/s]"
      ]
     },
     "metadata": {},
     "output_type": "display_data"
    },
    {
     "data": {
      "application/vnd.jupyter.widget-view+json": {
       "model_id": "a6d0b7928324482eaa27f7f0f2dc8e70",
       "version_major": 2,
       "version_minor": 0
      },
      "text/plain": [
       "IG:   0%|          | 0/20 [00:00<?, ?it/s]"
      ]
     },
     "metadata": {},
     "output_type": "display_data"
    },
    {
     "data": {
      "application/vnd.jupyter.widget-view+json": {
       "model_id": "224bb5ed3afc47eb9b86c94b6e813bcd",
       "version_major": 2,
       "version_minor": 0
      },
      "text/plain": [
       "IG:   0%|          | 0/20 [00:00<?, ?it/s]"
      ]
     },
     "metadata": {},
     "output_type": "display_data"
    },
    {
     "data": {
      "application/vnd.jupyter.widget-view+json": {
       "model_id": "35c8b5a444f94fd48f60dc4f1cbc69e6",
       "version_major": 2,
       "version_minor": 0
      },
      "text/plain": [
       "IG:   0%|          | 0/20 [00:00<?, ?it/s]"
      ]
     },
     "metadata": {},
     "output_type": "display_data"
    },
    {
     "data": {
      "application/vnd.jupyter.widget-view+json": {
       "model_id": "d9a0f65733e4433987afcd5101950d5e",
       "version_major": 2,
       "version_minor": 0
      },
      "text/plain": [
       "IG:   0%|          | 0/20 [00:00<?, ?it/s]"
      ]
     },
     "metadata": {},
     "output_type": "display_data"
    },
    {
     "data": {
      "application/vnd.jupyter.widget-view+json": {
       "model_id": "af7e62307b714d2b8edeaf0d14dc210e",
       "version_major": 2,
       "version_minor": 0
      },
      "text/plain": [
       "IG:   0%|          | 0/20 [00:00<?, ?it/s]"
      ]
     },
     "metadata": {},
     "output_type": "display_data"
    },
    {
     "data": {
      "application/vnd.jupyter.widget-view+json": {
       "model_id": "8c074aaa90834a9d90cc753ff785507a",
       "version_major": 2,
       "version_minor": 0
      },
      "text/plain": [
       "IG:   0%|          | 0/20 [00:00<?, ?it/s]"
      ]
     },
     "metadata": {},
     "output_type": "display_data"
    },
    {
     "data": {
      "application/vnd.jupyter.widget-view+json": {
       "model_id": "2bd30192b7a64b27974b9ea7c812aa48",
       "version_major": 2,
       "version_minor": 0
      },
      "text/plain": [
       "IG:   0%|          | 0/20 [00:00<?, ?it/s]"
      ]
     },
     "metadata": {},
     "output_type": "display_data"
    },
    {
     "data": {
      "application/vnd.jupyter.widget-view+json": {
       "model_id": "548aa8c7ab34475faa09d489cbb7bad8",
       "version_major": 2,
       "version_minor": 0
      },
      "text/plain": [
       "IG:   0%|          | 0/20 [00:00<?, ?it/s]"
      ]
     },
     "metadata": {},
     "output_type": "display_data"
    },
    {
     "data": {
      "application/vnd.jupyter.widget-view+json": {
       "model_id": "a614a4ac15a44d18a10a14bb04ebcc5d",
       "version_major": 2,
       "version_minor": 0
      },
      "text/plain": [
       "IG:   0%|          | 0/20 [00:00<?, ?it/s]"
      ]
     },
     "metadata": {},
     "output_type": "display_data"
    },
    {
     "data": {
      "application/vnd.jupyter.widget-view+json": {
       "model_id": "9d31e597a22645e19de2cca364591581",
       "version_major": 2,
       "version_minor": 0
      },
      "text/plain": [
       "IG:   0%|          | 0/20 [00:00<?, ?it/s]"
      ]
     },
     "metadata": {},
     "output_type": "display_data"
    },
    {
     "data": {
      "application/vnd.jupyter.widget-view+json": {
       "model_id": "13ad5b4a85d843e7b8bbdac23bbe0ea9",
       "version_major": 2,
       "version_minor": 0
      },
      "text/plain": [
       "IG:   0%|          | 0/20 [00:00<?, ?it/s]"
      ]
     },
     "metadata": {},
     "output_type": "display_data"
    },
    {
     "data": {
      "application/vnd.jupyter.widget-view+json": {
       "model_id": "60c256059f5647688b412cb3113fca88",
       "version_major": 2,
       "version_minor": 0
      },
      "text/plain": [
       "IG:   0%|          | 0/20 [00:00<?, ?it/s]"
      ]
     },
     "metadata": {},
     "output_type": "display_data"
    },
    {
     "data": {
      "application/vnd.jupyter.widget-view+json": {
       "model_id": "4e24d10246214ce187295bb106fd7ce9",
       "version_major": 2,
       "version_minor": 0
      },
      "text/plain": [
       "IG:   0%|          | 0/20 [00:00<?, ?it/s]"
      ]
     },
     "metadata": {},
     "output_type": "display_data"
    },
    {
     "data": {
      "application/vnd.jupyter.widget-view+json": {
       "model_id": "4b94129da1234a88b3c5162999c58120",
       "version_major": 2,
       "version_minor": 0
      },
      "text/plain": [
       "IG:   0%|          | 0/20 [00:00<?, ?it/s]"
      ]
     },
     "metadata": {},
     "output_type": "display_data"
    }
   ],
   "source": [
    "best_community , trace = MSIG(G , 0.5 , inner_iterations = 20 , outer_iterations = 20 , metric = \"Mod\" , true_labels = None)"
   ]
  },
  {
   "cell_type": "code",
   "execution_count": 5,
   "metadata": {},
   "outputs": [
    {
     "data": {
      "image/png": "[encoded data removed]",
      "text/plain": [
       "<Figure size 432x288 with 1 Axes>"
      ]
     },
     "metadata": {
      "needs_background": "light"
     },
     "output_type": "display_data"
    }
   ],
   "source": [
    "mod_trace = [t[\"modularity\"] for t in trace]\n",
    "\n",
    "\n",
    "plt.plot(mod_trace)\n",
    "plt.xlabel(\"Iterations\")\n",
    "plt.ylabel(\"Modularity\")\n",
    "plt.title(\"Modularity Trace\")\n",
    "\n",
    "plt.show()"
   ]
  },
  {
   "cell_type": "markdown",
   "metadata": {},
   "source": [
    "# Avec paralelisation"
   ]
  },
  {
   "cell_type": "code",
   "execution_count": 6,
   "metadata": {},
   "outputs": [],
   "source": [
    "def MSIG_Parallel(G, beta, inner_iterations=20, outer_iterations=100, metric=\"Mod\", true_labels=None):\n",
    "\n",
    "    adj_matrix = nx.to_numpy_array(G)\n",
    "\n",
    "    best_communities = None\n",
    "    best_modularity = -1\n",
    "    best_nmi = 0\n",
    "\n",
    "    msig_trace = []\n",
    "\n",
    "    with ThreadPoolExecutor() as executor:\n",
    "        futures = [executor.submit(IG, adj_matrix, inner_iterations, beta) for _ in range(outer_iterations)]\n",
    "\n",
    "        for future in futures:\n",
    "            communities, modularity_trace, communities_trace, animation_frames = future.result()\n",
    "\n",
    "            if metric == \"Mod\":\n",
    "                modularity = modularity_trace[-1]\n",
    "\n",
    "                if modularity > best_modularity:\n",
    "                    best_modularity = modularity\n",
    "                    best_communities = communities\n",
    "\n",
    "                msig_trace.append({\"communities\": communities,\n",
    "                                  \"modularity\": modularity_trace[-1]})\n",
    "\n",
    "            elif metric == \"NMI\":\n",
    "\n",
    "                nmi = calc_nmi(true_labels, communities_to_labels(G, communities))\n",
    "\n",
    "                if nmi > best_nmi:\n",
    "                    best_nmi = nmi\n",
    "                    best_communities = communities\n",
    "\n",
    "                msig_trace.append({\"communities\": communities,\n",
    "                                  \"modularity\": modularity_trace[-1], \"nmi\": nmi})\n",
    "\n",
    "\n",
    "    return best_communities, msig_trace"
   ]
  },
  {
   "cell_type": "code",
   "execution_count": 7,
   "metadata": {},
   "outputs": [
    {
     "data": {
      "text/plain": [
       "62"
      ]
     },
     "execution_count": 7,
     "metadata": {},
     "output_type": "execute_result"
    }
   ],
   "source": [
    "\n",
    "file_path = 'data/reel/dolphins/dolphins.gml'\n",
    "G = nx.read_gml(file_path)\n",
    "adj_matrix = nx.to_numpy_array(G)\n",
    "adj_matrix.shape[0]"
   ]
  },
  {
   "cell_type": "code",
   "execution_count": 8,
   "metadata": {},
   "outputs": [
    {
     "data": {
      "application/vnd.jupyter.widget-view+json": {
       "model_id": "bac9f840fe1048b88e24fd28bf61cc84",
       "version_major": 2,
       "version_minor": 0
      },
      "text/plain": [
       "IG:   0%|          | 0/20 [00:00<?, ?it/s]"
      ]
     },
     "metadata": {},
     "output_type": "display_data"
    },
    {
     "data": {
      "application/vnd.jupyter.widget-view+json": {
       "model_id": "36ad11feaed243d48894adee56389094",
       "version_major": 2,
       "version_minor": 0
      },
      "text/plain": [
       "IG:   0%|          | 0/20 [00:00<?, ?it/s]"
      ]
     },
     "metadata": {},
     "output_type": "display_data"
    },
    {
     "data": {
      "application/vnd.jupyter.widget-view+json": {
       "model_id": "b2f31f03172847a38a558956faeb6ea9",
       "version_major": 2,
       "version_minor": 0
      },
      "text/plain": [
       "IG:   0%|          | 0/20 [00:00<?, ?it/s]"
      ]
     },
     "metadata": {},
     "output_type": "display_data"
    },
    {
     "data": {
      "application/vnd.jupyter.widget-view+json": {
       "model_id": "f969c4e0752744eebcdcb59539be740a",
       "version_major": 2,
       "version_minor": 0
      },
      "text/plain": [
       "IG:   0%|          | 0/20 [00:00<?, ?it/s]"
      ]
     },
     "metadata": {},
     "output_type": "display_data"
    },
    {
     "data": {
      "application/vnd.jupyter.widget-view+json": {
       "model_id": "f51ee72fa6ae42e4adf8cb4588a2b2f6",
       "version_major": 2,
       "version_minor": 0
      },
      "text/plain": [
       "IG:   0%|          | 0/20 [00:00<?, ?it/s]"
      ]
     },
     "metadata": {},
     "output_type": "display_data"
    },
    {
     "data": {
      "application/vnd.jupyter.widget-view+json": {
       "model_id": "57bd9295ad87458fbf5a69aba69d3479",
       "version_major": 2,
       "version_minor": 0
      },
      "text/plain": [
       "IG:   0%|          | 0/20 [00:00<?, ?it/s]"
      ]
     },
     "metadata": {},
     "output_type": "display_data"
    },
    {
     "data": {
      "application/vnd.jupyter.widget-view+json": {
       "model_id": "1a36bb61f2a24dc7a87f98757f4d6d14",
       "version_major": 2,
       "version_minor": 0
      },
      "text/plain": [
       "IG:   0%|          | 0/20 [00:00<?, ?it/s]"
      ]
     },
     "metadata": {},
     "output_type": "display_data"
    },
    {
     "data": {
      "application/vnd.jupyter.widget-view+json": {
       "model_id": "a6d20870b2c04090b56a8e9672b45d59",
       "version_major": 2,
       "version_minor": 0
      },
      "text/plain": [
       "IG:   0%|          | 0/20 [00:00<?, ?it/s]"
      ]
     },
     "metadata": {},
     "output_type": "display_data"
    },
    {
     "data": {
      "application/vnd.jupyter.widget-view+json": {
       "model_id": "f918924c3c1942548be5269b8c96205a",
       "version_major": 2,
       "version_minor": 0
      },
      "text/plain": [
       "IG:   0%|          | 0/20 [00:00<?, ?it/s]"
      ]
     },
     "metadata": {},
     "output_type": "display_data"
    },
    {
     "data": {
      "application/vnd.jupyter.widget-view+json": {
       "model_id": "0fb66f74c36c466ea9d8c42b8723a1a9",
       "version_major": 2,
       "version_minor": 0
      },
      "text/plain": [
       "IG:   0%|          | 0/20 [00:00<?, ?it/s]"
      ]
     },
     "metadata": {},
     "output_type": "display_data"
    },
    {
     "data": {
      "application/vnd.jupyter.widget-view+json": {
       "model_id": "eb93a18d3122467895e4a747ff5c933e",
       "version_major": 2,
       "version_minor": 0
      },
      "text/plain": [
       "IG:   0%|          | 0/20 [00:00<?, ?it/s]"
      ]
     },
     "metadata": {},
     "output_type": "display_data"
    },
    {
     "data": {
      "application/vnd.jupyter.widget-view+json": {
       "model_id": "3b40c6cc4e3b422399666af80c7f16d7",
       "version_major": 2,
       "version_minor": 0
      },
      "text/plain": [
       "IG:   0%|          | 0/20 [00:00<?, ?it/s]"
      ]
     },
     "metadata": {},
     "output_type": "display_data"
    },
    {
     "data": {
      "application/vnd.jupyter.widget-view+json": {
       "model_id": "1f5ae6770ca84d8e8984ef91cfdf98fb",
       "version_major": 2,
       "version_minor": 0
      },
      "text/plain": [
       "IG:   0%|          | 0/20 [00:00<?, ?it/s]"
      ]
     },
     "metadata": {},
     "output_type": "display_data"
    },
    {
     "data": {
      "application/vnd.jupyter.widget-view+json": {
       "model_id": "8e51805063c94ff3b02cdc7453a0d04e",
       "version_major": 2,
       "version_minor": 0
      },
      "text/plain": [
       "IG:   0%|          | 0/20 [00:00<?, ?it/s]"
      ]
     },
     "metadata": {},
     "output_type": "display_data"
    },
    {
     "data": {
      "application/vnd.jupyter.widget-view+json": {
       "model_id": "7717c588bdf64461928ea10c398af296",
       "version_major": 2,
       "version_minor": 0
      },
      "text/plain": [
       "IG:   0%|          | 0/20 [00:00<?, ?it/s]"
      ]
     },
     "metadata": {},
     "output_type": "display_data"
    },
    {
     "data": {
      "application/vnd.jupyter.widget-view+json": {
       "model_id": "aafa8b1821c744ca929bbc6ac5b3b812",
       "version_major": 2,
       "version_minor": 0
      },
      "text/plain": [
       "IG:   0%|          | 0/20 [00:00<?, ?it/s]"
      ]
     },
     "metadata": {},
     "output_type": "display_data"
    },
    {
     "data": {
      "application/vnd.jupyter.widget-view+json": {
       "model_id": "cc4d370a4e704949b426f8faa3eb0fc0",
       "version_major": 2,
       "version_minor": 0
      },
      "text/plain": [
       "IG:   0%|          | 0/20 [00:00<?, ?it/s]"
      ]
     },
     "metadata": {},
     "output_type": "display_data"
    },
    {
     "data": {
      "application/vnd.jupyter.widget-view+json": {
       "model_id": "786117fcfe9347b4ba22878766f38c80",
       "version_major": 2,
       "version_minor": 0
      },
      "text/plain": [
       "IG:   0%|          | 0/20 [00:00<?, ?it/s]"
      ]
     },
     "metadata": {},
     "output_type": "display_data"
    },
    {
     "data": {
      "application/vnd.jupyter.widget-view+json": {
       "model_id": "193798703c6a462ab0faa3c34dc63108",
       "version_major": 2,
       "version_minor": 0
      },
      "text/plain": [
       "IG:   0%|          | 0/20 [00:00<?, ?it/s]"
      ]
     },
     "metadata": {},
     "output_type": "display_data"
    },
    {
     "data": {
      "application/vnd.jupyter.widget-view+json": {
       "model_id": "899c0f80b54c45058556f27a9320857e",
       "version_major": 2,
       "version_minor": 0
      },
      "text/plain": [
       "IG:   0%|          | 0/20 [00:00<?, ?it/s]"
      ]
     },
     "metadata": {},
     "output_type": "display_data"
    }
   ],
   "source": [
    "\n",
    "best_community, trace = MSIG_Parallel(\n",
    "    G, 0.5, inner_iterations=20, outer_iterations=20, metric=\"Mod\", true_labels=None)"
   ]
  },
  {
   "cell_type": "code",
   "execution_count": 9,
   "metadata": {},
   "outputs": [
    {
     "data": {
      "image/png": "[encoded data removed]",
      "text/plain": [
       "<Figure size 432x288 with 1 Axes>"
      ]
     },
     "metadata": {
      "needs_background": "light"
     },
     "output_type": "display_data"
    }
   ],
   "source": [
    "mod_trace = [t[\"modularity\"] for t in trace]\n",
    "\n",
    "\n",
    "plt.plot(mod_trace)\n",
    "plt.xlabel(\"Iterations\")\n",
    "plt.ylabel(\"Modularity\")\n",
    "plt.title(\"Modularity Trace\")\n",
    "\n",
    "plt.show()"
   ]
  }
 ],
 "metadata": {
  "kernelspec": {
   "display_name": "base",
   "language": "python",
   "name": "python3"
  },
  "language_info": {
   "codemirror_mode": {
    "name": "ipython",
    "version": 3
   },
   "file_extension": ".py",
   "mimetype": "text/x-python",
   "name": "python",
   "nbconvert_exporter": "python",
   "pygments_lexer": "ipython3",
   "version": "3.8.8"
  }
 },
 "nbformat": 4,
 "nbformat_minor": 2
}
