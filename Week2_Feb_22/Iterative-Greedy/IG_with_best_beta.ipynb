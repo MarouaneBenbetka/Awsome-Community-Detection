{
 "cells": [
  {
   "cell_type": "code",
   "execution_count": 1,
   "metadata": {},
   "outputs": [],
   "source": [
    "from utils.iterative_greedy_algorithm import IG\n",
    "from utils.visualization_animation import louvain_animation\n",
    "from utils.communities_network import  calc_nmi, communities_to_labels\n",
    "from utils.utils import read_community_labels_file_reel \n",
    "\n",
    "import networkx as nx\n",
    "import matplotlib.pyplot as plt\n",
    "import numpy as np\n",
    "from concurrent.futures import ThreadPoolExecutor"
   ]
  },
  {
   "cell_type": "code",
   "execution_count": 2,
   "metadata": {},
   "outputs": [],
   "source": [
    "def IG_best_beta(adj_matrix, nb_iterations=50 ):\n",
    "    \n",
    "    best_modularity = -1\n",
    "    best_communities = None\n",
    "    trace = []\n",
    "\n",
    "\n",
    "    with ThreadPoolExecutor() as executor:\n",
    "        futures = [executor.submit(IG, adj_matrix, nb_iterations, p/100) for p in range(10,100,10)]\n",
    "        for p,future in enumerate(futures):\n",
    "            communities, modularity_trace, communities_trace, animation_frames = future.result()\n",
    "            trace+=[{ \"beta\" : (p+1)/10, \"communities\": communities , \"modularity\": modularity_trace[-1]}]\n",
    "            if modularity_trace[-1] > best_modularity:\n",
    "                best_modularity = modularity_trace[-1]\n",
    "                best_communities = communities\n",
    "    \n",
    "    return best_communities, best_modularity , trace"
   ]
  },
  {
   "cell_type": "markdown",
   "metadata": {},
   "source": [
    "# Tests"
   ]
  },
  {
   "cell_type": "code",
   "execution_count": 3,
   "metadata": {},
   "outputs": [],
   "source": [
    "animation_output_path = r\"./output/animations\""
   ]
  },
  {
   "cell_type": "markdown",
   "metadata": {},
   "source": [
    "## 1.Reel"
   ]
  },
  {
   "cell_type": "markdown",
   "metadata": {},
   "source": [
    "### 1.1 Dophins"
   ]
  },
  {
   "cell_type": "code",
   "execution_count": 4,
   "metadata": {},
   "outputs": [
    {
     "data": {
      "text/plain": [
       "62"
      ]
     },
     "execution_count": 4,
     "metadata": {},
     "output_type": "execute_result"
    }
   ],
   "source": [
    "\n",
    "file_path = 'data/reel/dolphins/dolphins.gml'\n",
    "G = nx.read_gml(file_path)\n",
    "adj_matrix = nx.to_numpy_array(G)\n",
    "adj_matrix.shape[0]"
   ]
  },
  {
   "cell_type": "code",
   "execution_count": 5,
   "metadata": {},
   "outputs": [
    {
     "data": {
      "application/vnd.jupyter.widget-view+json": {
       "model_id": "6405a64c997e439a9d401b902f0bdce3",
       "version_major": 2,
       "version_minor": 0
      },
      "text/plain": [
       "IG:   0%|          | 0/50 [00:00<?, ?it/s]"
      ]
     },
     "metadata": {},
     "output_type": "display_data"
    },
    {
     "data": {
      "application/vnd.jupyter.widget-view+json": {
       "model_id": "e22b01d7e5084b4f87757d1d1aa3343a",
       "version_major": 2,
       "version_minor": 0
      },
      "text/plain": [
       "IG:   0%|          | 0/50 [00:00<?, ?it/s]"
      ]
     },
     "metadata": {},
     "output_type": "display_data"
    },
    {
     "data": {
      "application/vnd.jupyter.widget-view+json": {
       "model_id": "6dd664274cb74dc99ad5a88ddfab4ce3",
       "version_major": 2,
       "version_minor": 0
      },
      "text/plain": [
       "IG:   0%|          | 0/50 [00:00<?, ?it/s]"
      ]
     },
     "metadata": {},
     "output_type": "display_data"
    },
    {
     "data": {
      "application/vnd.jupyter.widget-view+json": {
       "model_id": "7148e7b7e36a4f8f8a7e2c9a675340ba",
       "version_major": 2,
       "version_minor": 0
      },
      "text/plain": [
       "IG:   0%|          | 0/50 [00:00<?, ?it/s]"
      ]
     },
     "metadata": {},
     "output_type": "display_data"
    },
    {
     "data": {
      "application/vnd.jupyter.widget-view+json": {
       "model_id": "f0eb8b233e98441085c9f3f69f7f8ca2",
       "version_major": 2,
       "version_minor": 0
      },
      "text/plain": [
       "IG:   0%|          | 0/50 [00:00<?, ?it/s]"
      ]
     },
     "metadata": {},
     "output_type": "display_data"
    },
    {
     "data": {
      "application/vnd.jupyter.widget-view+json": {
       "model_id": "caff15652d364668bace2e693c130d40",
       "version_major": 2,
       "version_minor": 0
      },
      "text/plain": [
       "IG:   0%|          | 0/50 [00:00<?, ?it/s]"
      ]
     },
     "metadata": {},
     "output_type": "display_data"
    },
    {
     "data": {
      "application/vnd.jupyter.widget-view+json": {
       "model_id": "ae242f347f244d4fa82ca677b16779e2",
       "version_major": 2,
       "version_minor": 0
      },
      "text/plain": [
       "IG:   0%|          | 0/50 [00:00<?, ?it/s]"
      ]
     },
     "metadata": {},
     "output_type": "display_data"
    },
    {
     "data": {
      "application/vnd.jupyter.widget-view+json": {
       "model_id": "c71e24bf2ecf4889aeaa3a5e09980333",
       "version_major": 2,
       "version_minor": 0
      },
      "text/plain": [
       "IG:   0%|          | 0/50 [00:00<?, ?it/s]"
      ]
     },
     "metadata": {},
     "output_type": "display_data"
    },
    {
     "data": {
      "application/vnd.jupyter.widget-view+json": {
       "model_id": "4a614155e9764c20bd7b00b23ccbd852",
       "version_major": 2,
       "version_minor": 0
      },
      "text/plain": [
       "IG:   0%|          | 0/50 [00:00<?, ?it/s]"
      ]
     },
     "metadata": {},
     "output_type": "display_data"
    }
   ],
   "source": [
    "best_communities, best_modularity, trace = IG_best_beta(adj_matrix, 50)"
   ]
  },
  {
   "cell_type": "code",
   "execution_count": 7,
   "metadata": {},
   "outputs": [
    {
     "data": {
      "text/plain": [
       "[<matplotlib.lines.Line2D at 0x2c44bdac810>]"
      ]
     },
     "execution_count": 7,
     "metadata": {},
     "output_type": "execute_result"
    },
    {
     "data": {
      "image/png": "[encoded data removed]",
      "text/plain": [
       "<Figure size 640x480 with 1 Axes>"
      ]
     },
     "metadata": {},
     "output_type": "display_data"
    }
   ],
   "source": [
    "\n",
    "true_communities = read_community_labels_file_reel(\n",
    "    \"data/reel/dolphins/groundTruth.txt\")\n",
    "nmi_trace = [calc_nmi(true_communities, communities_to_labels(\n",
    "    G, c[\"communities\"])) for c in trace]\n",
    "\n",
    "plt.plot( np.array(range(1,10))/10,  nmi_trace )"
   ]
  }
 ],
 "metadata": {
  "kernelspec": {
   "display_name": "base",
   "language": "python",
   "name": "python3"
  },
  "language_info": {
   "codemirror_mode": {
    "name": "ipython",
    "version": 3
   },
   "file_extension": ".py",
   "mimetype": "text/x-python",
   "name": "python",
   "nbconvert_exporter": "python",
   "pygments_lexer": "ipython3",
   "version": "3.11.5"
  }
 },
 "nbformat": 4,
 "nbformat_minor": 2
}
