{
 "cells": [
  {
   "cell_type": "code",
   "execution_count": 1,
   "metadata": {},
   "outputs": [],
   "source": [
    "from utils.utils import *\n",
    "import numpy as np\n",
    "import networkx as nx"
   ]
  },
  {
   "cell_type": "code",
   "execution_count": 2,
   "metadata": {},
   "outputs": [
    {
     "name": "stdout",
     "output_type": "stream",
     "text": [
      "clique : [{'nodes': [0, 1, 2], 'weight': 1.0}]\n",
      "Unselected Nodes : {0, 1, 2, 3, 4, 5, 6, 7}\n",
      "Unselected Nodes : {0, 1, 2, 3, 4, 5, 6, 7}\n",
      "Node :  3 Fitness :  0.8134765118849023\n",
      "Node :  4 Fitness :  0.6209351637812497\n",
      "Node :  5 Fitness :  0.8134765118849023\n",
      "Node :  6 Fitness :  0.8134765118849023\n",
      "Node :  7 Fitness :  0.8134765118849023\n",
      "Chosen Clique : [0, 1, 2]\n",
      "M :  1\n",
      "Intial Seed :  [0]\n",
      "Distance Matrix :  [[0.         1.41421356 1.41421356 1.73205081 2.         1.73205081\n",
      "  1.73205081 1.73205081]\n",
      " [1.41421356 0.         1.41421356 1.73205081 2.         1.73205081\n",
      "  1.73205081 1.73205081]\n",
      " [1.41421356 1.41421356 0.         1.73205081 2.         1.73205081\n",
      "  1.73205081 1.73205081]\n",
      " [1.73205081 1.73205081 1.73205081 0.         1.73205081 0.\n",
      "  1.41421356 1.41421356]\n",
      " [2.         2.         2.         1.73205081 0.         1.73205081\n",
      "  1.73205081 1.73205081]\n",
      " [1.73205081 1.73205081 1.73205081 0.         1.73205081 0.\n",
      "  1.41421356 1.41421356]\n",
      " [1.73205081 1.73205081 1.73205081 1.41421356 1.73205081 1.41421356\n",
      "  0.         1.41421356]\n",
      " [1.73205081 1.73205081 1.73205081 1.41421356 1.73205081 1.41421356\n",
      "  1.41421356 0.        ]]\n",
      "Max Distance Seed :  4\n",
      "Max Distance Seed :  3\n"
     ]
    },
    {
     "data": {
      "text/plain": [
       "([0, 4, 3], 3)"
      ]
     },
     "execution_count": 2,
     "metadata": {},
     "output_type": "execute_result"
    }
   ],
   "source": [
    "import numpy as np\n",
    "# Create an empty 7 by 7 matrix\n",
    "matrix = np.zeros((8, 8))\n",
    "\n",
    "# Define the nodes for each sub complete graph\n",
    "subgraph1 = [0, 1, 2]\n",
    "subgraph2 = [3, 4, 5]\n",
    "subgraph3 = [6,7]\n",
    "\n",
    "# Set the values in the matrix for each sub complete graph\n",
    "for i in subgraph1:\n",
    "    for j in subgraph1:\n",
    "        if i != j:\n",
    "            matrix[i][j] = 1\n",
    "\n",
    "for i in subgraph2:\n",
    "    for j in subgraph2:\n",
    "        if i != j:\n",
    "            matrix[i][j] = 1\n",
    "\n",
    "for i in subgraph3:\n",
    "    for j in subgraph3:\n",
    "        if i  != j:\n",
    "            matrix[i][j] = 1\n",
    "\n",
    "\n",
    "\n",
    "matrix = np.array([[0,1,1,0,0,0,0,0.],\n",
    "                    [1,0,1,0,0,0,0,0.],\n",
    "                    [1,1,0,0,0,0,0,0.],\n",
    "                    [0,0,0,0,1,0,0,0.],\n",
    "                    [0,0,0,1,0,1,0,0.],\n",
    "                    [0,0,0,0,1,0,0,0.],\n",
    "                    [0,0,0,0,0,0,0,1.],\n",
    "                    [0,0,0,0,0,0,1,0.]])\n",
    "\n",
    "\n",
    "G = nx.from_numpy_array(matrix)\n",
    "\n",
    "S= similarity_matrix(matrix)\n",
    "D = distance_matrix(S)\n",
    "\n",
    "\n",
    "\n",
    "\n",
    "local_expension(G,D,k=3)\n"
   ]
  },
  {
   "cell_type": "code",
   "execution_count": 3,
   "metadata": {},
   "outputs": [
    {
     "name": "stdout",
     "output_type": "stream",
     "text": [
      "Kin : 1\n",
      "Kout : 3\n",
      "Total : 4\n"
     ]
    },
    {
     "data": {
      "text/plain": [
       "4.348369522101714"
      ]
     },
     "execution_count": 3,
     "metadata": {},
     "output_type": "execute_result"
    }
   ],
   "source": [
    "fitness_function( a , [0,2])"
   ]
  },
  {
   "cell_type": "code",
   "execution_count": null,
   "metadata": {},
   "outputs": [],
   "source": []
  },
  {
   "cell_type": "code",
   "execution_count": 22,
   "metadata": {},
   "outputs": [
    {
     "data": {
      "text/plain": [
       "4.0"
      ]
     },
     "execution_count": 22,
     "metadata": {},
     "output_type": "execute_result"
    }
   ],
   "source": [
    "np.sum(np.where(a != 0 , 1 , 0))/2"
   ]
  },
  {
   "cell_type": "code",
   "execution_count": 10,
   "metadata": {},
   "outputs": [
    {
     "data": {
      "text/plain": [
       "5.196152422706632"
      ]
     },
     "execution_count": 10,
     "metadata": {},
     "output_type": "execute_result"
    }
   ],
   "source": [
    "(77+14-2*32)**.5"
   ]
  },
  {
   "cell_type": "code",
   "execution_count": 8,
   "metadata": {},
   "outputs": [
    {
     "data": {
      "text/plain": [
       "(array([[ 14,  32,  50],\n",
       "        [ 32,  77, 122],\n",
       "        [ 50, 122, 194]]),\n",
       " array([[ 0.        ,  5.19615242, 10.39230485],\n",
       "        [ 5.19615242,  0.        ,  5.19615242],\n",
       "        [10.39230485,  5.19615242,  0.        ]]))"
      ]
     },
     "execution_count": 8,
     "metadata": {},
     "output_type": "execute_result"
    }
   ],
   "source": [
    "s= similarity_matrix(a)\n",
    "\n",
    "d=distance_matrix(s)\n",
    "\n",
    "s,d"
   ]
  }
 ],
 "metadata": {
  "kernelspec": {
   "display_name": "base",
   "language": "python",
   "name": "python3"
  },
  "language_info": {
   "codemirror_mode": {
    "name": "ipython",
    "version": 3
   },
   "file_extension": ".py",
   "mimetype": "text/x-python",
   "name": "python",
   "nbconvert_exporter": "python",
   "pygments_lexer": "ipython3",
   "version": "3.11.5"
  }
 },
 "nbformat": 4,
 "nbformat_minor": 2
}
