{
 "cells": [
  {
   "cell_type": "code",
   "execution_count": 1,
   "metadata": {},
   "outputs": [],
   "source": [
    "from utils.utils import *\n",
    "import numpy as np\n",
    "import networkx as nx"
   ]
  },
  {
   "cell_type": "code",
   "execution_count": 2,
   "metadata": {},
   "outputs": [
    {
     "name": "stdout",
     "output_type": "stream",
     "text": [
      "HI1\n",
      "[[-1.18058062e+00 -5.53421427e-01 -1.74606850e-01  3.71056071e-17\n",
      "  -2.98474636e-17  1.15470054e+00]\n",
      " [-1.54012372e-01  1.86958429e+00 -8.28945507e-01 -6.44169337e-17\n",
      "   1.05336281e-15 -7.41058302e-17]]\n"
     ]
    },
    {
     "name": "stderr",
     "output_type": "stream",
     "text": [
      "c:\\Users\\ASUS ROG\\anaconda3\\Lib\\site-packages\\sklearn\\cluster\\_kmeans.py:1412: FutureWarning: The default value of `n_init` will change from 10 to 'auto' in 1.4. Set the value of `n_init` explicitly to suppress the warning\n",
      "  super()._check_params_vs_input(X, default_n_init=10)\n",
      "c:\\Users\\ASUS ROG\\anaconda3\\Lib\\site-packages\\sklearn\\cluster\\_kmeans.py:1412: RuntimeWarning: Explicit initial center position passed: performing only one init in KMeans instead of n_init=10.\n",
      "  super()._check_params_vs_input(X, default_n_init=10)\n",
      "c:\\Users\\ASUS ROG\\anaconda3\\Lib\\site-packages\\sklearn\\cluster\\_kmeans.py:1436: UserWarning: KMeans is known to have a memory leak on Windows with MKL, when there are less chunks than available threads. You can avoid it by setting the environment variable OMP_NUM_THREADS=1.\n",
      "  warnings.warn(\n",
      "c:\\Users\\ASUS ROG\\anaconda3\\Lib\\site-packages\\sklearn\\cluster\\_kmeans.py:1412: FutureWarning: The default value of `n_init` will change from 10 to 'auto' in 1.4. Set the value of `n_init` explicitly to suppress the warning\n",
      "  super()._check_params_vs_input(X, default_n_init=10)\n",
      "c:\\Users\\ASUS ROG\\anaconda3\\Lib\\site-packages\\sklearn\\cluster\\_kmeans.py:1412: RuntimeWarning: Explicit initial center position passed: performing only one init in KMeans instead of n_init=10.\n",
      "  super()._check_params_vs_input(X, default_n_init=10)\n",
      "c:\\Users\\ASUS ROG\\anaconda3\\Lib\\site-packages\\sklearn\\cluster\\_kmeans.py:1436: UserWarning: KMeans is known to have a memory leak on Windows with MKL, when there are less chunks than available threads. You can avoid it by setting the environment variable OMP_NUM_THREADS=1.\n",
      "  warnings.warn(\n",
      "c:\\Users\\ASUS ROG\\anaconda3\\Lib\\site-packages\\sklearn\\cluster\\_kmeans.py:1412: FutureWarning: The default value of `n_init` will change from 10 to 'auto' in 1.4. Set the value of `n_init` explicitly to suppress the warning\n",
      "  super()._check_params_vs_input(X, default_n_init=10)\n",
      "c:\\Users\\ASUS ROG\\anaconda3\\Lib\\site-packages\\sklearn\\cluster\\_kmeans.py:1412: RuntimeWarning: Explicit initial center position passed: performing only one init in KMeans instead of n_init=10.\n",
      "  super()._check_params_vs_input(X, default_n_init=10)\n",
      "c:\\Users\\ASUS ROG\\anaconda3\\Lib\\site-packages\\sklearn\\cluster\\_kmeans.py:1436: UserWarning: KMeans is known to have a memory leak on Windows with MKL, when there are less chunks than available threads. You can avoid it by setting the environment variable OMP_NUM_THREADS=1.\n",
      "  warnings.warn(\n"
     ]
    },
    {
     "name": "stdout",
     "output_type": "stream",
     "text": [
      "HI1\n",
      "[[-1.18058062e+00 -5.53421427e-01 -1.74606850e-01  3.71056071e-17\n",
      "  -2.98474636e-17  1.15470054e+00]\n",
      " [-1.54012372e-01  1.86958429e+00 -8.28945507e-01 -6.44169337e-17\n",
      "   1.05336281e-15 -7.41058302e-17]\n",
      " [ 1.66859149e+00 -5.48782051e-01 -3.31903534e-01 -1.41820120e-16\n",
      "   4.40515666e-16 -6.23416704e-17]]\n",
      "HI1\n",
      "[[-1.18058062e+00 -5.53421427e-01 -1.74606850e-01  3.71056071e-17\n",
      "  -2.98474636e-17  1.15470054e+00]\n",
      " [-1.54012372e-01  1.86958429e+00 -8.28945507e-01 -6.44169337e-17\n",
      "   1.05336281e-15 -7.41058302e-17]\n",
      " [ 1.66859149e+00 -5.48782051e-01 -3.31903534e-01 -1.41820120e-16\n",
      "   4.40515666e-16 -6.23416704e-17]\n",
      " [ 1.79285625e-01  4.44122045e-01  1.00828656e+00 -9.99873506e-01\n",
      "   1.59050841e-02  2.90929133e-16]]\n",
      "HI1\n",
      "[[-1.18058062e+00 -5.53421427e-01 -1.74606850e-01  3.71056071e-17\n",
      "  -2.98474636e-17  1.15470054e+00]\n",
      " [-1.54012372e-01  1.86958429e+00 -8.28945507e-01 -6.44169337e-17\n",
      "   1.05336281e-15 -7.41058302e-17]\n",
      " [ 1.66859149e+00 -5.48782051e-01 -3.31903534e-01 -1.41820120e-16\n",
      "   4.40515666e-16 -6.23416704e-17]\n",
      " [ 1.79285625e-01  4.44122045e-01  1.00828656e+00 -9.99873506e-01\n",
      "   1.59050841e-02  2.90929133e-16]\n",
      " [ 1.79285625e-01  4.44122045e-01  1.00828656e+00  9.99873506e-01\n",
      "  -1.59050841e-02  2.90929133e-16]]\n"
     ]
    },
    {
     "name": "stderr",
     "output_type": "stream",
     "text": [
      "c:\\Users\\ASUS ROG\\anaconda3\\Lib\\site-packages\\sklearn\\cluster\\_kmeans.py:1412: FutureWarning: The default value of `n_init` will change from 10 to 'auto' in 1.4. Set the value of `n_init` explicitly to suppress the warning\n",
      "  super()._check_params_vs_input(X, default_n_init=10)\n",
      "c:\\Users\\ASUS ROG\\anaconda3\\Lib\\site-packages\\sklearn\\cluster\\_kmeans.py:1412: RuntimeWarning: Explicit initial center position passed: performing only one init in KMeans instead of n_init=10.\n",
      "  super()._check_params_vs_input(X, default_n_init=10)\n",
      "c:\\Users\\ASUS ROG\\anaconda3\\Lib\\site-packages\\sklearn\\cluster\\_kmeans.py:1436: UserWarning: KMeans is known to have a memory leak on Windows with MKL, when there are less chunks than available threads. You can avoid it by setting the environment variable OMP_NUM_THREADS=1.\n",
      "  warnings.warn(\n"
     ]
    },
    {
     "data": {
      "text/plain": [
       "([[0, 1, 2], [3, 4, 5, 6, 7]], 0.5, 2)"
      ]
     },
     "execution_count": 2,
     "metadata": {},
     "output_type": "execute_result"
    }
   ],
   "source": [
    "import numpy as np\n",
    "# Create an empty 7 by 7 matrix\n",
    "matrix = np.zeros((8, 8))\n",
    "\n",
    "# Define the nodes for each sub complete graph\n",
    "subgraph1 = [0, 1, 2]\n",
    "subgraph2 = [3, 4, 5]\n",
    "subgraph3 = [6,7]\n",
    "\n",
    "# Set the values in the matrix for each sub complete graph\n",
    "for i in subgraph1:\n",
    "    for j in subgraph1:\n",
    "        if i != j:\n",
    "            matrix[i][j] = 1\n",
    "\n",
    "for i in subgraph2:\n",
    "    for j in subgraph2:\n",
    "        if i != j:\n",
    "            matrix[i][j] = 1\n",
    "\n",
    "for i in subgraph3:\n",
    "    for j in subgraph3:\n",
    "        if i  != j:\n",
    "            matrix[i][j] = 1\n",
    "\n",
    "\n",
    "\n",
    "matrix = np.array([[0,1,1,0,0,0,0,0.],\n",
    "                    [1,0,1,0,0,0,0,0.],\n",
    "                    [1,1,0,0,0,0,0,0.],\n",
    "                    [0,0,0,0,1,0,0,0.],\n",
    "                    [0,0,0,1,0,1,0,0.],\n",
    "                    [0,0,0,0,1,0,0,0.],\n",
    "                    [0,0,0,0,0,0,0,1.],\n",
    "                    [0,0,0,0,0,0,1,0.]])\n",
    "\n",
    "\n",
    "G = nx.from_numpy_array(matrix)\n",
    "\n",
    "local_expansion_kmeans(G,matrix,2,5)\n"
   ]
  },
  {
   "cell_type": "code",
   "execution_count": 3,
   "metadata": {},
   "outputs": [
    {
     "name": "stdout",
     "output_type": "stream",
     "text": [
      "Kin : 1\n",
      "Kout : 3\n",
      "Total : 4\n"
     ]
    },
    {
     "data": {
      "text/plain": [
       "4.348369522101714"
      ]
     },
     "execution_count": 3,
     "metadata": {},
     "output_type": "execute_result"
    }
   ],
   "source": [
    "fitness_function( a , [0,2])"
   ]
  },
  {
   "cell_type": "code",
   "execution_count": null,
   "metadata": {},
   "outputs": [],
   "source": []
  },
  {
   "cell_type": "code",
   "execution_count": 22,
   "metadata": {},
   "outputs": [
    {
     "data": {
      "text/plain": [
       "4.0"
      ]
     },
     "execution_count": 22,
     "metadata": {},
     "output_type": "execute_result"
    }
   ],
   "source": [
    "np.sum(np.where(a != 0 , 1 , 0))/2"
   ]
  },
  {
   "cell_type": "code",
   "execution_count": 10,
   "metadata": {},
   "outputs": [
    {
     "data": {
      "text/plain": [
       "5.196152422706632"
      ]
     },
     "execution_count": 10,
     "metadata": {},
     "output_type": "execute_result"
    }
   ],
   "source": [
    "(77+14-2*32)**.5"
   ]
  },
  {
   "cell_type": "code",
   "execution_count": 8,
   "metadata": {},
   "outputs": [
    {
     "data": {
      "text/plain": [
       "(array([[ 14,  32,  50],\n",
       "        [ 32,  77, 122],\n",
       "        [ 50, 122, 194]]),\n",
       " array([[ 0.        ,  5.19615242, 10.39230485],\n",
       "        [ 5.19615242,  0.        ,  5.19615242],\n",
       "        [10.39230485,  5.19615242,  0.        ]]))"
      ]
     },
     "execution_count": 8,
     "metadata": {},
     "output_type": "execute_result"
    }
   ],
   "source": [
    "s= similarity_matrix(a)\n",
    "\n",
    "d=distance_matrix(s)\n",
    "\n",
    "s,d"
   ]
  },
  {
   "cell_type": "code",
   "execution_count": 17,
   "metadata": {},
   "outputs": [],
   "source": [
    "from sklearn.decomposition import PCA\n",
    "from sklearn.cluster import KMeans\n",
    "\n",
    "def kmeans_clustering(X: np.ndarray, K: int, initial_seeds: list) -> np.ndarray:\n",
    "    \"\"\"\n",
    "    This function takes a matrix X and the number of clusters K and returns the cluster indices.\n",
    "    \"\"\"\n",
    "    kmeans = KMeans(n_clusters=K, random_state=0, init=initial_seeds).fit(X)\n",
    "    return kmeans.labels_"
   ]
  },
  {
   "cell_type": "code",
   "execution_count": 8,
   "metadata": {},
   "outputs": [
    {
     "data": {
      "text/plain": [
       "array([[0.        , 1.41421356, 1.41421356, 1.73205081, 2.        ,\n",
       "        1.73205081, 1.73205081, 1.73205081],\n",
       "       [1.41421356, 0.        , 1.41421356, 1.73205081, 2.        ,\n",
       "        1.73205081, 1.73205081, 1.73205081],\n",
       "       [1.41421356, 1.41421356, 0.        , 1.73205081, 2.        ,\n",
       "        1.73205081, 1.73205081, 1.73205081],\n",
       "       [1.73205081, 1.73205081, 1.73205081, 0.        , 1.73205081,\n",
       "        0.        , 1.41421356, 1.41421356],\n",
       "       [2.        , 2.        , 2.        , 1.73205081, 0.        ,\n",
       "        1.73205081, 1.73205081, 1.73205081],\n",
       "       [1.73205081, 1.73205081, 1.73205081, 0.        , 1.73205081,\n",
       "        0.        , 1.41421356, 1.41421356],\n",
       "       [1.73205081, 1.73205081, 1.73205081, 1.41421356, 1.73205081,\n",
       "        1.41421356, 0.        , 1.41421356],\n",
       "       [1.73205081, 1.73205081, 1.73205081, 1.41421356, 1.73205081,\n",
       "        1.41421356, 1.41421356, 0.        ]])"
      ]
     },
     "execution_count": 8,
     "metadata": {},
     "output_type": "execute_result"
    }
   ],
   "source": [
    "D"
   ]
  },
  {
   "cell_type": "code",
   "execution_count": 21,
   "metadata": {},
   "outputs": [
    {
     "name": "stderr",
     "output_type": "stream",
     "text": [
      "c:\\Users\\ASUS ROG\\anaconda3\\Lib\\site-packages\\sklearn\\cluster\\_kmeans.py:1412: FutureWarning: The default value of `n_init` will change from 10 to 'auto' in 1.4. Set the value of `n_init` explicitly to suppress the warning\n",
      "  super()._check_params_vs_input(X, default_n_init=10)\n",
      "c:\\Users\\ASUS ROG\\anaconda3\\Lib\\site-packages\\sklearn\\cluster\\_kmeans.py:1412: RuntimeWarning: Explicit initial center position passed: performing only one init in KMeans instead of n_init=10.\n",
      "  super()._check_params_vs_input(X, default_n_init=10)\n",
      "c:\\Users\\ASUS ROG\\anaconda3\\Lib\\site-packages\\sklearn\\cluster\\_kmeans.py:1436: UserWarning: KMeans is known to have a memory leak on Windows with MKL, when there are less chunks than available threads. You can avoid it by setting the environment variable OMP_NUM_THREADS=1.\n",
      "  warnings.warn(\n"
     ]
    },
    {
     "data": {
      "text/plain": [
       "array([0, 0, 0, 1, 2, 1, 1, 1])"
      ]
     },
     "execution_count": 21,
     "metadata": {},
     "output_type": "execute_result"
    }
   ],
   "source": [
    "\n",
    "seeds_index = [0, 3, 4]\n",
    "\n",
    "\n",
    "\n",
    "kmeans_clustering(D, 3, D[seeds_index])"
   ]
  }
 ],
 "metadata": {
  "kernelspec": {
   "display_name": "base",
   "language": "python",
   "name": "python3"
  },
  "language_info": {
   "codemirror_mode": {
    "name": "ipython",
    "version": 3
   },
   "file_extension": ".py",
   "mimetype": "text/x-python",
   "name": "python",
   "nbconvert_exporter": "python",
   "pygments_lexer": "ipython3",
   "version": "3.11.5"
  }
 },
 "nbformat": 4,
 "nbformat_minor": 2
}
