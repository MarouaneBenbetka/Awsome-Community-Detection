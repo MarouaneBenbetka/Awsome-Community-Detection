{
 "cells": [
  {
   "cell_type": "markdown",
   "metadata": {},
   "source": [
    "# Algorithms Comparaison\n",
    "___"
   ]
  },
  {
   "cell_type": "markdown",
   "metadata": {},
   "source": [
    "In this notebook, we conduct a comprehensive comparison between our custom algorithm and established clustering techniques such as original KMeans, Louvain, and Iterated Greedy. We evaluate these methods based on execution time, modularity, Normalized Mutual Information (NMI), and the number of communities generated, to assess performance and effectiveness across various metrics.\n"
   ]
  },
  {
   "cell_type": "code",
   "execution_count": 15,
   "metadata": {},
   "outputs": [],
   "source": [
    "from utils.utils import *\n",
    "from utils.communities_network import *\n",
    "from utils.iterative_greedy_algorithm import IG\n",
    "from utils.kmeans import * \n",
    "from utils.visualization import *\n",
    "import networkx as nx\n",
    "import matplotlib.pyplot as plt\n",
    "import pandas as pd\n",
    "import time"
   ]
  },
  {
   "cell_type": "code",
   "execution_count": 16,
   "metadata": {},
   "outputs": [],
   "source": [
    "import warnings\n",
    "warnings.filterwarnings(\"ignore\")"
   ]
  },
  {
   "cell_type": "code",
   "execution_count": 17,
   "metadata": {},
   "outputs": [],
   "source": [
    "output_animation_path = \"output/animations\"\n",
    "algorithms_trace = []"
   ]
  },
  {
   "cell_type": "markdown",
   "metadata": {},
   "source": [
    "## Test Sur Dataset Karate"
   ]
  },
  {
   "cell_type": "code",
   "execution_count": 18,
   "metadata": {},
   "outputs": [],
   "source": [
    "algorithms_trace = []"
   ]
  },
  {
   "cell_type": "markdown",
   "metadata": {},
   "source": [
    "### Reading data"
   ]
  },
  {
   "cell_type": "code",
   "execution_count": 19,
   "metadata": {},
   "outputs": [
    {
     "name": "stdout",
     "output_type": "stream",
     "text": [
      "The graph contains 34 nodes.\n"
     ]
    }
   ],
   "source": [
    "\n",
    "file_path = 'data/reel/karate/karate.gml'\n",
    "G = nx.read_gml(file_path, label='id')\n",
    "original_nodes = list(G.nodes())\n",
    "mapping = {node: i for i, node in enumerate(G.nodes())}\n",
    "G = nx.relabel_nodes(G, mapping)\n",
    "adj_matrix = nx.to_numpy_array(G)\n",
    "true_labels = read_community_labels_file_reel(\n",
    "    'data/reel/karate/groundTruth.txt')\n",
    "print(f\"The graph contains {adj_matrix.shape[0]} nodes.\")"
   ]
  },
  {
   "cell_type": "code",
   "execution_count": 20,
   "metadata": {},
   "outputs": [
    {
     "name": "stdout",
     "output_type": "stream",
     "text": [
      "No more nodes to select , k is too large\n"
     ]
    },
    {
     "data": {
      "text/html": [
       "<style type=\"text/css\">\n",
       "#T_b5a7b_row0_col0, #T_b5a7b_row0_col1, #T_b5a7b_row0_col2, #T_b5a7b_row0_col3 {\n",
       "  background-color: #A7E0E0;\n",
       "  color: black;\n",
       "  font-size: 600;\n",
       "}\n",
       "</style>\n",
       "<table id=\"T_b5a7b\">\n",
       "  <thead>\n",
       "    <tr>\n",
       "      <th id=\"T_b5a7b_level0_col0\" class=\"col_heading level0 col0\" >K</th>\n",
       "      <th id=\"T_b5a7b_level0_col1\" class=\"col_heading level0 col1\" >Modularity</th>\n",
       "      <th id=\"T_b5a7b_level0_col2\" class=\"col_heading level0 col2\" >Similarity-Based Modularity</th>\n",
       "      <th id=\"T_b5a7b_level0_col3\" class=\"col_heading level0 col3\" >NMI</th>\n",
       "    </tr>\n",
       "  </thead>\n",
       "  <tbody>\n",
       "    <tr>\n",
       "      <td id=\"T_b5a7b_row0_col0\" class=\"data row0 col0\" >2</td>\n",
       "      <td id=\"T_b5a7b_row0_col1\" class=\"data row0 col1\" >0.371466</td>\n",
       "      <td id=\"T_b5a7b_row0_col2\" class=\"data row0 col2\" >0.210634</td>\n",
       "      <td id=\"T_b5a7b_row0_col3\" class=\"data row0 col3\" >1.000000</td>\n",
       "    </tr>\n",
       "    <tr>\n",
       "      <td id=\"T_b5a7b_row1_col0\" class=\"data row1 col0\" >3</td>\n",
       "      <td id=\"T_b5a7b_row1_col1\" class=\"data row1 col1\" >0.228468</td>\n",
       "      <td id=\"T_b5a7b_row1_col2\" class=\"data row1 col2\" >0.139135</td>\n",
       "      <td id=\"T_b5a7b_row1_col3\" class=\"data row1 col3\" >0.733340</td>\n",
       "    </tr>\n",
       "    <tr>\n",
       "      <td id=\"T_b5a7b_row2_col0\" class=\"data row2 col0\" >4</td>\n",
       "      <td id=\"T_b5a7b_row2_col1\" class=\"data row2 col1\" >0.187295</td>\n",
       "      <td id=\"T_b5a7b_row2_col2\" class=\"data row2 col2\" >0.118549</td>\n",
       "      <td id=\"T_b5a7b_row2_col3\" class=\"data row2 col3\" >0.522512</td>\n",
       "    </tr>\n",
       "  </tbody>\n",
       "</table>\n"
      ],
      "text/plain": [
       "<pandas.io.formats.style.Styler at 0x1c618a28110>"
      ]
     },
     "execution_count": 20,
     "metadata": {},
     "output_type": "execute_result"
    }
   ],
   "source": [
    "\n",
    "start_time = time.time()\n",
    "Cmax, Qmax, Kbest, Labels, trace = local_expansion_kmeans(G, adj_matrix, 2, 10 , metric=\"QSim\")\n",
    "end_time = time.time()\n",
    "\n",
    "\n",
    "for item in trace:\n",
    "    item[\"NMI\"] = calc_nmi(true_labels, communities_to_labels(\n",
    "        G, item[\"communities\"], original_nodes))\n",
    "\n",
    "\n",
    "new_methode_time = end_time - start_time\n",
    "new_methode_modularity = trace[Kbest-2][\"Modularity\"]\n",
    "new_methode_nmi = trace[Kbest-2][\"NMI\"]\n",
    "new_methode_nb_communities = len(Cmax)\n",
    "\n",
    "\n",
    "algorithms_trace.append({\"name\": \"Local Expansion Kmeans *\", \"duration\": new_methode_time, \"modularity\": new_methode_modularity,\n",
    "                        \"nmi\": new_methode_nmi, \"nb_communities\": new_methode_nb_communities})\n",
    "\n",
    "\n",
    "custom_df_styling(trace) "
   ]
  },
  {
   "cell_type": "markdown",
   "metadata": {},
   "source": [
    "#### Iterated Greedy"
   ]
  },
  {
   "cell_type": "code",
   "execution_count": 21,
   "metadata": {},
   "outputs": [
    {
     "data": {
      "application/vnd.jupyter.widget-view+json": {
       "model_id": "b5927196cd1a424299f8ada14a77be3f",
       "version_major": 2,
       "version_minor": 0
      },
      "text/plain": [
       "IG:   0%|          | 0/15 [00:00<?, ?it/s]"
      ]
     },
     "metadata": {},
     "output_type": "display_data"
    }
   ],
   "source": [
    "\n",
    "start_time = time.time()\n",
    "communitites, modularity_trace, _, _ = IG(adj_matrix, 15, 0.5)\n",
    "end_time = time.time()\n",
    "\n",
    "ig_nmi = calc_nmi(true_labels, communities_to_labels(\n",
    "    G, communitites, original_nodes))\n",
    "ig_mod = modularity_trace[-1]\n",
    "ig_time = end_time - start_time\n",
    "ig_nb_communities = len(communitites)\n",
    "\n",
    "algorithms_trace.append({\"name\": \"IG\", \"duration\": ig_time , \"modularity\":ig_mod, \"nmi\":ig_nmi, \"nb_communities\":ig_nb_communities})"
   ]
  },
  {
   "cell_type": "markdown",
   "metadata": {},
   "source": [
    "#### louvain"
   ]
  },
  {
   "cell_type": "code",
   "execution_count": 22,
   "metadata": {},
   "outputs": [],
   "source": [
    "start = time.time()\n",
    "partition, mod = louvain(G)\n",
    "end = time.time()\n",
    "\n",
    "louvain_nmi = calc_nmi(true_labels, partition.items())\n",
    "louvain_time = end - start\n",
    "louvain_mod = mod\n",
    "louvain_nb_communities = len(set(partition.values()))\n",
    "\n",
    "algorithms_trace.append({\"name\": \"Louvain\", \"duration\": louvain_time, \"modularity\": louvain_mod,\n",
    "                        \"nmi\": louvain_nmi, \"nb_communities\": louvain_nb_communities})"
   ]
  },
  {
   "cell_type": "markdown",
   "metadata": {},
   "source": [
    "#### kmeans++"
   ]
  },
  {
   "cell_type": "code",
   "execution_count": 23,
   "metadata": {},
   "outputs": [],
   "source": [
    "start_time = time.time()\n",
    "Cmax, Qmax, Kbest, Labels, trace = kmeans_random(G, adj_matrix, 2, 10)\n",
    "\n",
    "end_time = time.time()\n",
    "\n",
    "\n",
    "for item in trace:\n",
    "    item[\"NMI\"] = calc_nmi(true_labels, communities_to_labels(\n",
    "        G, item[\"communities\"], original_nodes))\n",
    "\n",
    "kmeans_time = end_time - start_time\n",
    "kmeans_modularity = Qmax\n",
    "kmeans_nmi = trace[Kbest-2][\"NMI\"]\n",
    "kmeans_nb_communities = len(Cmax)\n",
    "\n",
    "algorithms_trace.append({\"name\": \"Kmeans\", \"duration\": kmeans_time , \"modularity\":kmeans_modularity, \"nmi\":kmeans_nmi, \"nb_communities\":kmeans_nb_communities})"
   ]
  },
  {
   "cell_type": "markdown",
   "metadata": {},
   "source": [
    "## Drawing Different Results"
   ]
  },
  {
   "cell_type": "code",
   "execution_count": 24,
   "metadata": {},
   "outputs": [
    {
     "data": {
      "image/png": "[encoded data removed]",
      "text/plain": [
       "<Figure size 1200x600 with 1 Axes>"
      ]
     },
     "metadata": {},
     "output_type": "display_data"
    }
   ],
   "source": [
    "# Sample data\n",
    "n_groups = len(algorithms_trace)\n",
    "# NMI for Louvain, IG, New Method\n",
    "nmi = [algo[\"nmi\"] for algo in algorithms_trace]\n",
    "# Time for Louvain, IG, New Method\n",
    "duration = [algo[\"duration\"] for algo in algorithms_trace]\n",
    "# Modularity for Louvain, IG, New Method\n",
    "modularity = [algo[\"modularity\"] for algo in algorithms_trace]\n",
    "\n",
    "# Create plot\n",
    "\n",
    "fig, ax = plt.subplots(figsize=(12, 6))\n",
    "\n",
    "index = np.arange(n_groups)\n",
    "bar_width = 0.2\n",
    "\n",
    "\n",
    "rects1 = plt.bar(index, nmi, bar_width,\n",
    "                 color='#FEEAA1',\n",
    "                 label='NMI')\n",
    "\n",
    "rects2 = plt.bar(index + bar_width, duration, bar_width,\n",
    "                 color='#5784BA',\n",
    "                 label='Time')\n",
    "\n",
    "rects3 = plt.bar(index + 2 * bar_width, modularity, bar_width,\n",
    "                 color='#18534F',\n",
    "                 label='Modularity')\n",
    "\n",
    "\n",
    "plt.xlabel('Method')\n",
    "plt.ylabel('Scores')\n",
    "plt.title('Scores by method and variable (Karate)')\n",
    "\n",
    "\n",
    "plt.xticks(index + bar_width,\n",
    "           [f\"{algo['name']} ({algo['nb_communities']} comm) \" for algo in algorithms_trace])\n",
    "\n",
    "plt.legend()\n",
    "plt.show()"
   ]
  },
  {
   "cell_type": "markdown",
   "metadata": {},
   "source": [
    "\n",
    "- **Local Expansion Kmeans**: This method stands out for achieving the best Normalized Mutual Information (NMI) score, which implies it is most closely aligned with the true community structure in the data.\n",
    "- **Louvain**: The Louvain method is shown to be superior in terms of computational efficiency, having the lowest execution time. Additionally, it scores highest on modularity, indicating that it effectively maximizes within-community edges and minimizes between-community edges.\n",
    "- **Iterated Greedy (IG)**: The Iterated Greedy method displays a balanced performance, with NMI and modularity scores that are moderate and better than the standard KMeans, while also maintaining a reasonable execution time.\n",
    "- **Kmeans (7 comm)**: The KMeans algorithm, with random initial seeds, has the least favorable outcomes in the analysis. It exhibits the longest execution time and the lowest scores in both NMI and modularity, suggesting it is the least suitable method for detecting communities in the given dataset.\n",
    "\n",
    "In summary, the Local Expansion Kmeans excels in accurately reflecting the community structure, Louvain is the most efficient and effective in terms of modularity, Iterated Greedy offers a compromise between accuracy and efficiency, and the standard KMeans algorithm is outperformed by the other methods in all the metrics considered for community detection."
   ]
  }
 ],
 "metadata": {
  "kernelspec": {
   "display_name": "base",
   "language": "python",
   "name": "python3"
  },
  "language_info": {
   "codemirror_mode": {
    "name": "ipython",
    "version": 3
   },
   "file_extension": ".py",
   "mimetype": "text/x-python",
   "name": "python",
   "nbconvert_exporter": "python",
   "pygments_lexer": "ipython3",
   "version": "3.11.5"
  }
 },
 "nbformat": 4,
 "nbformat_minor": 2
}
