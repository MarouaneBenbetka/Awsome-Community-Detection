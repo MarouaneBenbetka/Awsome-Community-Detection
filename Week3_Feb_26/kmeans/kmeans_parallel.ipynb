{
 "cells": [
  {
   "cell_type": "code",
   "execution_count": 35,
   "metadata": {},
   "outputs": [],
   "source": [
    "from utils.utils import *\n",
    "from utils.visualization import *\n",
    "from utils.communities_network import *\n",
    "from utils.iterative_greedy_algorithm import IG\n",
    "from utils.kmeans import *\n",
    "import networkx as nx\n",
    "import matplotlib.pyplot as plt\n",
    "import pandas as pd\n",
    "import time\n",
    "from tqdm.notebook import tqdm\n",
    "from concurrent.futures import ThreadPoolExecutor\n",
    "import warnings\n",
    "warnings.filterwarnings(\"ignore\")"
   ]
  },
  {
   "cell_type": "code",
   "execution_count": 36,
   "metadata": {},
   "outputs": [],
   "source": [
    "def kmeans(G, D, K, D_transformed , A, metric):\n",
    "\n",
    "    for i in tqdm(range(1) , desc = f\"K = {K}\"):\n",
    "        initial_seeds = local_expension(G, D, K)\n",
    "\n",
    "        communities, labels = kmeans_clustering(\n",
    "            D_transformed, K, D_transformed[initial_seeds])\n",
    "\n",
    "        # Calculate the similarity-based modularity Qs\n",
    "\n",
    "        if metric == \"Mod\":\n",
    "            Qs = calculate_modularity(G, communities)\n",
    "        elif metric == \"QSim\":\n",
    "            Qs = calculate_Q_Sim(A, communities)\n",
    "\n",
    "    return Qs , communities,labels, K"
   ]
  },
  {
   "cell_type": "code",
   "execution_count": 37,
   "metadata": {},
   "outputs": [],
   "source": [
    "\n",
    "def local_expansion_kmeans_parallel(G: nx.Graph, A: np.ndarray, Kmin: int, Kmax: int, metric=\"Mod\") -> list:\n",
    "    \"\"\"\n",
    "    This function implements the local expansion k-means algorithm.\n",
    "    It takes a weighted adjacency matrix A, minimum number of clusters Kmin, and maximum number of clusters Kmax.\n",
    "    It returns the community set Cmax.\n",
    "    \"\"\"\n",
    "\n",
    "    # Calculate the similarity matrix S using the weighted adjacency matrix A\n",
    "    S = similarity_matrix(A)\n",
    "\n",
    "    # Calculate the distance matrix D using S\n",
    "    D = distance_matrix(S)\n",
    "\n",
    "    D_transformed = PCA_reduction(D)\n",
    "\n",
    "    Cmax = []\n",
    "    Qmax = -1\n",
    "    Kbest = Kmin\n",
    "    labelsBest = []\n",
    "\n",
    "    trace = []\n",
    "\n",
    "    with ThreadPoolExecutor() as executor:\n",
    "        \n",
    "        futures = [executor.submit(kmeans, G, D, K, D_transformed, A, metric) for K in (range(Kmin, Kmax + 1))]\n",
    "\n",
    "        for p,future in enumerate(futures):\n",
    "            Qs, communities, labels, K = future.result()\n",
    "\n",
    "            if Qs > Qmax:\n",
    "                Qmax = Qs\n",
    "                Cmax = communities\n",
    "                Kbest = K\n",
    "                labelsBest = labels\n",
    "    \n",
    "    return Cmax, Qmax, Kbest, labelsBest, trace\n"
   ]
  },
  {
   "cell_type": "code",
   "execution_count": 38,
   "metadata": {},
   "outputs": [],
   "source": [
    "\n",
    "file_path = 'data/synth/LFR/0.50/network.dat'\n",
    "G = nx.read_edgelist(file_path, nodetype=int)\n",
    "original_nodes = list(G.nodes())\n",
    "mapping = {node: i for i, node in enumerate(G.nodes())}\n",
    "G = nx.relabel_nodes(G, mapping)\n",
    "adj_matrix = nx.to_numpy_array(G)\n",
    "adj_matrix.shape[0]\n",
    "\n",
    "\n",
    "true_communities = read_community_labels_file_synth(\n",
    "    \"data/synth/LFR/0.50/community.dat\")"
   ]
  },
  {
   "cell_type": "code",
   "execution_count": 40,
   "metadata": {},
   "outputs": [
    {
     "data": {
      "application/vnd.jupyter.widget-view+json": {
       "model_id": "919ec2afae344c42ac52c984d4d6bcf9",
       "version_major": 2,
       "version_minor": 0
      },
      "text/plain": [
       "K = 5:   0%|          | 0/1 [00:00<?, ?it/s]"
      ]
     },
     "metadata": {},
     "output_type": "display_data"
    },
    {
     "data": {
      "application/vnd.jupyter.widget-view+json": {
       "model_id": "26acd19c9fa74112a12624c0495b5e61",
       "version_major": 2,
       "version_minor": 0
      },
      "text/plain": [
       "K = 2:   0%|          | 0/1 [00:00<?, ?it/s]"
      ]
     },
     "metadata": {},
     "output_type": "display_data"
    },
    {
     "data": {
      "application/vnd.jupyter.widget-view+json": {
       "model_id": "f8ab03cd3b29425b90267ed3d721df63",
       "version_major": 2,
       "version_minor": 0
      },
      "text/plain": [
       "K = 3:   0%|          | 0/1 [00:00<?, ?it/s]"
      ]
     },
     "metadata": {},
     "output_type": "display_data"
    },
    {
     "data": {
      "application/vnd.jupyter.widget-view+json": {
       "model_id": "b92329fbdf2d4290933cd73e87ede442",
       "version_major": 2,
       "version_minor": 0
      },
      "text/plain": [
       "K = 9:   0%|          | 0/1 [00:00<?, ?it/s]"
      ]
     },
     "metadata": {},
     "output_type": "display_data"
    },
    {
     "data": {
      "application/vnd.jupyter.widget-view+json": {
       "model_id": "94ab919141044f6d97a546824e165108",
       "version_major": 2,
       "version_minor": 0
      },
      "text/plain": [
       "K = 4:   0%|          | 0/1 [00:00<?, ?it/s]"
      ]
     },
     "metadata": {},
     "output_type": "display_data"
    },
    {
     "data": {
      "application/vnd.jupyter.widget-view+json": {
       "model_id": "241ec919570c4a15ae3ec801a7382c45",
       "version_major": 2,
       "version_minor": 0
      },
      "text/plain": [
       "K = 6:   0%|          | 0/1 [00:00<?, ?it/s]"
      ]
     },
     "metadata": {},
     "output_type": "display_data"
    },
    {
     "data": {
      "application/vnd.jupyter.widget-view+json": {
       "model_id": "25b447944d8d48ce966f9cc198b316d5",
       "version_major": 2,
       "version_minor": 0
      },
      "text/plain": [
       "K = 7:   0%|          | 0/1 [00:00<?, ?it/s]"
      ]
     },
     "metadata": {},
     "output_type": "display_data"
    },
    {
     "data": {
      "application/vnd.jupyter.widget-view+json": {
       "model_id": "3443328d0722462c8a0403562e9e92bf",
       "version_major": 2,
       "version_minor": 0
      },
      "text/plain": [
       "K = 8:   0%|          | 0/1 [00:00<?, ?it/s]"
      ]
     },
     "metadata": {},
     "output_type": "display_data"
    },
    {
     "data": {
      "application/vnd.jupyter.widget-view+json": {
       "model_id": "c13040c175e7423e9c2710fc621c66d0",
       "version_major": 2,
       "version_minor": 0
      },
      "text/plain": [
       "K = 10:   0%|          | 0/1 [00:00<?, ?it/s]"
      ]
     },
     "metadata": {},
     "output_type": "display_data"
    }
   ],
   "source": [
    "Cmax, Qmax, Kbest, labelsBest, trace = local_expansion_kmeans_parallel(G, adj_matrix, 2, 10)"
   ]
  }
 ],
 "metadata": {
  "kernelspec": {
   "display_name": "base",
   "language": "python",
   "name": "python3"
  },
  "language_info": {
   "codemirror_mode": {
    "name": "ipython",
    "version": 3
   },
   "file_extension": ".py",
   "mimetype": "text/x-python",
   "name": "python",
   "nbconvert_exporter": "python",
   "pygments_lexer": "ipython3",
   "version": "3.11.5"
  }
 },
 "nbformat": 4,
 "nbformat_minor": 2
}
