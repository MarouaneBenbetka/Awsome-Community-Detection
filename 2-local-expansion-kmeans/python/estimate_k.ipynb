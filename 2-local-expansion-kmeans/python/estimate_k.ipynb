{
 "cells": [
  {
   "cell_type": "code",
   "execution_count": 28,
   "metadata": {},
   "outputs": [],
   "source": [
    "import networkx as nx\n",
    "import numpy as np"
   ]
  },
  {
   "cell_type": "code",
   "execution_count": 29,
   "metadata": {},
   "outputs": [],
   "source": [
    "def read_community_labels_file_reel(file_path):\n",
    "    \"\"\"\n",
    "    Reads the ground truth files for the reel datasets.\n",
    "\n",
    "    Args:\n",
    "        file_path (str): The path to the file containing the community labels.\n",
    "\n",
    "    Returns:\n",
    "        list: A list of tuples representing the node and its corresponding label.\n",
    "              Each tuple contains the node index (int) and the label (int+1).\n",
    "    \"\"\"\n",
    "    with open(file_path, 'r') as f:\n",
    "        lines = f.readlines()\n",
    "        res = []\n",
    "        for node, label in enumerate(lines):\n",
    "            res.append((int(node), int(label)+1))\n",
    "        return res"
   ]
  },
  {
   "cell_type": "code",
   "execution_count": 30,
   "metadata": {},
   "outputs": [],
   "source": [
    "def similarity_matrix(A: np.ndarray) -> np.ndarray:\n",
    "    \"\"\"\n",
    "    This function takes an adjacency matrix A and returns the similarity matrix S.\n",
    "    \"\"\"\n",
    "    # Calculate the Similarity Matrix S\n",
    "    S = np.dot(A, A.T)\n",
    "    return S"
   ]
  },
  {
   "cell_type": "code",
   "execution_count": 31,
   "metadata": {},
   "outputs": [],
   "source": [
    "def distance_matrix(similarity_matrix):\n",
    "    \"\"\"\n",
    "    Converts an unnormalized similarity matrix to a distance matrix.\n",
    "    This function first normalizes the similarity scores based on the maximum value found in the matrix.\n",
    "\n",
    "    Parameters:\n",
    "    similarity_matrix (numpy.ndarray): A square matrix containing unnormalized similarity scores.\n",
    "\n",
    "    Returns:\n",
    "    numpy.ndarray: A square matrix containing distance scores.\n",
    "    \"\"\"\n",
    "    # Validate the input matrix is square\n",
    "    if similarity_matrix.shape[0] != similarity_matrix.shape[1]:\n",
    "        raise ValueError(\"The similarity matrix must be square.\")\n",
    "\n",
    "    # Normalize similarity scores by the maximum score in the matrix\n",
    "    max_similarity = np.max(similarity_matrix, axis=1)\n",
    "    normalized_similarity = similarity_matrix / max_similarity\n",
    "\n",
    "\n",
    "    # Convert normalized similarity to distance\n",
    "    distance_matrix = 1 - normalized_similarity\n",
    "\n",
    "    return distance_matrix"
   ]
  },
  {
   "cell_type": "code",
   "execution_count": 32,
   "metadata": {},
   "outputs": [],
   "source": [
    "def fitness_function(adj_matrix: np.ndarray, nodes: list, alpha=.9, beta=1.1) -> float:\n",
    "    \"\"\"\n",
    "    This function calculates the fitness function for a given subgraph defined by the nodes.\n",
    "    It returns the number of edges inside the subgraph divided by the sum of edges inside and coming out of the subgraph.\n",
    "    \"\"\"\n",
    "\n",
    "    subgraph = adj_matrix[nodes][:, nodes]\n",
    "\n",
    "    num_edges_inside = np.count_nonzero(np.triu(subgraph))\n",
    "\n",
    "    unused_nodes = [node for node in list(\n",
    "        range(adj_matrix.shape[0])) if node not in nodes]\n",
    "\n",
    "    num_edges_outside = np.count_nonzero(adj_matrix[nodes][:, unused_nodes])\n",
    "\n",
    "    return num_edges_inside / (num_edges_inside**alpha + num_edges_outside**beta)"
   ]
  },
  {
   "cell_type": "code",
   "execution_count": 33,
   "metadata": {},
   "outputs": [],
   "source": [
    "def average_weight(dist_matrix: np.ndarray, nodes: list) -> float:\n",
    "    \"\"\"\n",
    "    This function takes a distance matrix D and a list of nodes and returns the average weight of the nodes.\n",
    "    specific for complete graphs\n",
    "    \"\"\"\n",
    "\n",
    "    filtered_dist_matrix = dist_matrix[nodes][:, nodes]\n",
    "    sum_distances = np.sum(filtered_dist_matrix)  # sum of distances\n",
    "    nb_edges = len(nodes) * (len(nodes) - 1)   # cause it's a complete graph\n",
    "\n",
    "    return sum_distances / nb_edges"
   ]
  },
  {
   "cell_type": "code",
   "execution_count": 34,
   "metadata": {},
   "outputs": [],
   "source": [
    "def estimate_number_k(G: nx.Graph, alpha=.9, beta=1.1,min_per_clique= 3):\n",
    "    \"\"\"\n",
    "    This function takes a graph G and returns a list of k initial seeds.\n",
    "    \"\"\"\n",
    "\n",
    "\n",
    "    A = nx.to_numpy_array(G)\n",
    "    S = similarity_matrix(A)\n",
    "\n",
    "    # Calculate the distance matrix D using S\n",
    "    D = distance_matrix(S)\n",
    "    adj_matrix = nx.to_numpy_array(G)\n",
    "\n",
    "    # find all complete subgraphs of size 3 or more in the graph\n",
    "    cliques = find_cliques(G, D)\n",
    "\n",
    "    # sort the cliques by their weight\n",
    "    cliques_sorted = sorted(cliques, key=lambda x: x[\"weight\"], reverse=True)\n",
    "\n",
    "    # get the unselected nodes\n",
    "    unselected_nodes = set(G.nodes())\n",
    "    skip_nodes = []\n",
    "\n",
    "    M = 0\n",
    "    while  cliques_sorted:\n",
    "\n",
    "        # get the node with the maximum degree\n",
    "        max_degree_node = max(unselected_nodes, key=lambda node:  G.degree(\n",
    "            node) * int(node not in skip_nodes))\n",
    "\n",
    "        chosen_clique = None\n",
    "        chosen_clique_index = -1\n",
    "        # get the clique that contains the node with the maximum degree\n",
    "        for i, clique in enumerate(cliques_sorted):\n",
    "            if max_degree_node in clique[\"nodes\"]:\n",
    "                chosen_clique_index = i\n",
    "                chosen_clique = clique[\"nodes\"]\n",
    "                break\n",
    "\n",
    "        # if the node with the maximum degree is not in any clique we skip it in next iteration\n",
    "        if not chosen_clique:\n",
    "            skip_nodes.append(max_degree_node)\n",
    "            continue\n",
    "\n",
    "        cliques_sorted.pop(chosen_clique_index)\n",
    "\n",
    "        # sort the nodes in the clique by their distance to the other nodes in the clique\n",
    "        condidat_nodes_in_order = sorted(\n",
    "            unselected_nodes, key=lambda node: min(D[node, target_node] for target_node in chosen_clique))\n",
    "\n",
    "        # get the initial fitness value of the chosen clique\n",
    "        fitness_value = fitness_function(adj_matrix, chosen_clique)\n",
    "\n",
    "        # add the nodes that maximizes the fitness function to the chosen clique\n",
    "        for node in condidat_nodes_in_order:\n",
    "            if node not in chosen_clique:\n",
    "                fitness = fitness_function(\n",
    "                    adj_matrix, chosen_clique + [node], alpha, beta)\n",
    "\n",
    "                if fitness >= fitness_value:\n",
    "                    fitness_value = fitness\n",
    "                    chosen_clique.append(node)\n",
    "\n",
    "\n",
    "\n",
    "        # remove the nodes in the chosen clique from the unselected nodes\n",
    "        unselected_nodes.difference_update(chosen_clique)\n",
    "\n",
    "        # remove the treeted nodes from the cliques list\n",
    "        new_cliques = []\n",
    "        for clique in cliques_sorted:\n",
    "            clique[\"nodes\"] = [node for node in clique[\"nodes\"]\n",
    "                               if node in unselected_nodes]\n",
    "            clique[\"weight\"] = average_weight(adj_matrix, clique[\"nodes\"])\n",
    "\n",
    "            if len(clique[\"nodes\"]) >= min_per_clique:\n",
    "                new_cliques.append(clique)\n",
    "\n",
    "        # sort the new cliques according to their weight\n",
    "        cliques_sorted = sorted(\n",
    "            new_cliques, key=lambda x: x[\"weight\"], reverse=True)\n",
    "\n",
    "        M += 1\n",
    "    return M"
   ]
  },
  {
   "cell_type": "code",
   "execution_count": 35,
   "metadata": {},
   "outputs": [],
   "source": [
    "\n",
    "def find_cliques(G: nx.Graph, adj_matrix: np.ndarray) -> list:\n",
    "    \"\"\"\n",
    "    This function takes a graph G and returns a list of all cliques in the graph.\n",
    "    \"\"\"\n",
    "\n",
    "    cliques_generator = nx.find_cliques(G)\n",
    "\n",
    "    res = []\n",
    "    for clique in cliques_generator:\n",
    "        if len(clique) > 2:\n",
    "            res.append({\n",
    "                \"nodes\": clique,\n",
    "                \"weight\": average_weight(adj_matrix, clique)\n",
    "            })\n",
    "\n",
    "    return res"
   ]
  },
  {
   "cell_type": "code",
   "execution_count": 36,
   "metadata": {},
   "outputs": [],
   "source": [
    "ALPHA = .93\n",
    "BETA = 1.07"
   ]
  },
  {
   "cell_type": "code",
   "execution_count": 37,
   "metadata": {},
   "outputs": [
    {
     "name": "stdout",
     "output_type": "stream",
     "text": [
      "The graph contains 34 nodes.\n"
     ]
    }
   ],
   "source": [
    "\n",
    "file_path = '../data/reel/karate/karate.gml'\n",
    "G = nx.read_gml(file_path, label='id')\n",
    "original_nodes = list(G.nodes())\n",
    "mapping = {node: i for i, node in enumerate(G.nodes())}\n",
    "G = nx.relabel_nodes(G, mapping)\n",
    "adj_matrix = nx.to_numpy_array(G)\n",
    "true_labels = read_community_labels_file_reel(\n",
    "    '../data/reel/karate/groundTruth.txt')\n",
    "print(f\"The graph contains {adj_matrix.shape[0]} nodes.\")"
   ]
  },
  {
   "cell_type": "code",
   "execution_count": 38,
   "metadata": {},
   "outputs": [
    {
     "name": "stderr",
     "output_type": "stream",
     "text": [
      "C:\\Users\\ASUS ROG\\AppData\\Local\\Temp\\ipykernel_36292\\1566038148.py:11: RuntimeWarning: invalid value encountered in scalar divide\n",
      "  return sum_distances / nb_edges\n"
     ]
    },
    {
     "data": {
      "text/plain": [
       "2"
      ]
     },
     "execution_count": 38,
     "metadata": {},
     "output_type": "execute_result"
    }
   ],
   "source": [
    "estimate_number_k(G, alpha=ALPHA, beta=BETA)"
   ]
  },
  {
   "cell_type": "code",
   "execution_count": 39,
   "metadata": {},
   "outputs": [
    {
     "name": "stdout",
     "output_type": "stream",
     "text": [
      "The graph contains 62 nodes.\n"
     ]
    }
   ],
   "source": [
    "\n",
    "file_path = '../data/reel/dolphins/dolphins.gml'\n",
    "G = nx.read_gml(file_path, label='id')\n",
    "original_nodes = list(G.nodes())\n",
    "mapping = {node: i for i, node in enumerate(G.nodes())}\n",
    "G = nx.relabel_nodes(G, mapping)\n",
    "adj_matrix = nx.to_numpy_array(G)\n",
    "true_labels = read_community_labels_file_reel(\n",
    "    '../data/reel/dolphins/groundTruth.txt')\n",
    "print(f\"The graph contains {adj_matrix.shape[0]} nodes.\")"
   ]
  },
  {
   "cell_type": "code",
   "execution_count": 40,
   "metadata": {},
   "outputs": [
    {
     "name": "stderr",
     "output_type": "stream",
     "text": [
      "C:\\Users\\ASUS ROG\\AppData\\Local\\Temp\\ipykernel_36292\\1566038148.py:11: RuntimeWarning: invalid value encountered in scalar divide\n",
      "  return sum_distances / nb_edges\n"
     ]
    },
    {
     "data": {
      "text/plain": [
       "3"
      ]
     },
     "execution_count": 40,
     "metadata": {},
     "output_type": "execute_result"
    }
   ],
   "source": [
    "estimate_number_k(G, alpha=ALPHA, beta=BETA)"
   ]
  },
  {
   "cell_type": "code",
   "execution_count": 41,
   "metadata": {},
   "outputs": [
    {
     "name": "stdout",
     "output_type": "stream",
     "text": [
      "The graph contains 115 nodes.\n"
     ]
    }
   ],
   "source": [
    "\n",
    "file_path = '../data/reel/football/football.gml'\n",
    "G = nx.read_gml(file_path, label='id')\n",
    "original_nodes = list(G.nodes())\n",
    "mapping = {node: i for i, node in enumerate(G.nodes())}\n",
    "G = nx.relabel_nodes(G, mapping)\n",
    "adj_matrix = nx.to_numpy_array(G)\n",
    "true_labels = read_community_labels_file_reel(\n",
    "    '../data/reel/football/groundTruth.txt')\n",
    "print(f\"The graph contains {adj_matrix.shape[0]} nodes.\")"
   ]
  },
  {
   "cell_type": "code",
   "execution_count": 42,
   "metadata": {},
   "outputs": [
    {
     "name": "stderr",
     "output_type": "stream",
     "text": [
      "C:\\Users\\ASUS ROG\\AppData\\Local\\Temp\\ipykernel_36292\\1566038148.py:11: RuntimeWarning: invalid value encountered in scalar divide\n",
      "  return sum_distances / nb_edges\n"
     ]
    },
    {
     "data": {
      "text/plain": [
       "11"
      ]
     },
     "execution_count": 42,
     "metadata": {},
     "output_type": "execute_result"
    }
   ],
   "source": [
    "estimate_number_k(G, alpha=ALPHA, beta=BETA)"
   ]
  },
  {
   "cell_type": "code",
   "execution_count": 43,
   "metadata": {},
   "outputs": [
    {
     "name": "stdout",
     "output_type": "stream",
     "text": [
      "The graph contains 105 nodes.\n"
     ]
    }
   ],
   "source": [
    "\n",
    "file_path = '../data/reel/polbooks/polbooks.gml'\n",
    "G = nx.read_gml(file_path, label='id')\n",
    "original_nodes = list(G.nodes())\n",
    "mapping = {node: i for i, node in enumerate(G.nodes())}\n",
    "G = nx.relabel_nodes(G, mapping)\n",
    "adj_matrix = nx.to_numpy_array(G)\n",
    "true_labels = read_community_labels_file_reel(\n",
    "    '../data/reel/polbooks/groundTruth.txt')\n",
    "print(f\"The graph contains {adj_matrix.shape[0]} nodes.\")"
   ]
  },
  {
   "cell_type": "code",
   "execution_count": 44,
   "metadata": {},
   "outputs": [
    {
     "name": "stderr",
     "output_type": "stream",
     "text": [
      "C:\\Users\\ASUS ROG\\AppData\\Local\\Temp\\ipykernel_36292\\1566038148.py:11: RuntimeWarning: invalid value encountered in scalar divide\n",
      "  return sum_distances / nb_edges\n"
     ]
    },
    {
     "data": {
      "text/plain": [
       "4"
      ]
     },
     "execution_count": 44,
     "metadata": {},
     "output_type": "execute_result"
    }
   ],
   "source": [
    "estimate_number_k(G, alpha=ALPHA, beta=BETA)"
   ]
  },
  {
   "cell_type": "markdown",
   "metadata": {},
   "source": [
    "___"
   ]
  }
 ],
 "metadata": {
  "kernelspec": {
   "display_name": "base",
   "language": "python",
   "name": "python3"
  },
  "language_info": {
   "codemirror_mode": {
    "name": "ipython",
    "version": 3
   },
   "file_extension": ".py",
   "mimetype": "text/x-python",
   "name": "python",
   "nbconvert_exporter": "python",
   "pygments_lexer": "ipython3",
   "version": "3.11.5"
  }
 },
 "nbformat": 4,
 "nbformat_minor": 2
}
